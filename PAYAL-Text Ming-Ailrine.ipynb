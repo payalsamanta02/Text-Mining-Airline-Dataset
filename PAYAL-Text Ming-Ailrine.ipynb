{
 "cells": [
  {
   "cell_type": "markdown",
   "metadata": {},
   "source": [
    "## Leela Mahesh Kodi (U28275523)\n",
    "## Aakesh Kumar Murala (U63411601)"
   ]
  },
  {
   "cell_type": "markdown",
   "metadata": {},
   "source": [
    "# Unit 2 Assessment"
   ]
  },
  {
   "cell_type": "markdown",
   "metadata": {},
   "source": [
    "In this assignment, we will focus on airline incidents. The data set for this assignment includes information on the cost of bird strikes. Use this data set to see if you can predict the cost of a bird strike (i.e., the `Total Cost` column in the data set) based on the attributes of the incident. This is important because this model can make a cost prediction as soon as a bird strike incident happens."
   ]
  },
  {
   "cell_type": "markdown",
   "metadata": {},
   "source": [
    "## Description of Variables\n",
    "\n",
    "The description of variables are provided in \"Airline - Data Dictionary.docx\""
   ]
  },
  {
   "cell_type": "markdown",
   "metadata": {},
   "source": [
    "## Goal\n",
    "\n",
    "Use the **airline.csv** data set and build models to predict **Total Cost**.\n",
    "\n",
    "**Be careful: this is a REGRESSION task**"
   ]
  },
  {
   "cell_type": "markdown",
   "metadata": {},
   "source": [
    "## Submission:\n",
    "\n",
    "Please save and submit this Jupyter notebook file. The correctness of the code matters for your grade. **Readability and organization of your code is also important.** You may lose points for submitting unreadable/undecipherable code. Therefore, use markdown cells to create sections, and use comments where necessary.\n"
   ]
  },
  {
   "cell_type": "markdown",
   "metadata": {},
   "source": [
    "## Important hints:\n",
    "\n",
    "* This assignment requires you to work with a text-based column in addition to regular numeric/categorical columns. So you will have to pay attention to your pipelines during data processing.\n",
    "* You can do your data prep before or after the train/test split. Regardless, you should use train_test_split only once. If you find yourself using it twice, it means you are doing something wrong.\n",
    "* Recommended approach: \n",
    "    * import the data and perform the train/test split - like we always do. \n",
    "    * identify the names of numeric, categorical, feature engineered, and text columns - like we always do\n",
    "    * create individual pipelines for each type of column - like we always do. For the text pipeline, I would recommend the TFIDF Vectorizer with SVDs. Though, you can also use TFIDF Vectorizer with top N terms (without SVDs).\n",
    "    * combine all pipelines using the column transformer - like we always do "
   ]
  },
  {
   "cell_type": "markdown",
   "metadata": {},
   "source": [
    "# Section 1: "
   ]
  },
  {
   "cell_type": "markdown",
   "metadata": {},
   "source": [
    "## Data Prep (5 points)"
   ]
  },
  {
   "cell_type": "code",
   "execution_count": 332,
   "metadata": {},
   "outputs": [],
   "source": [
    "# Common imports\n",
    "import numpy as np\n",
    "import pandas as pd\n",
    "np.random.seed(42)"
   ]
  },
  {
   "cell_type": "code",
   "execution_count": 333,
   "metadata": {},
   "outputs": [
    {
     "data": {
      "text/html": [
       "<div>\n",
       "<style scoped>\n",
       "    .dataframe tbody tr th:only-of-type {\n",
       "        vertical-align: middle;\n",
       "    }\n",
       "\n",
       "    .dataframe tbody tr th {\n",
       "        vertical-align: top;\n",
       "    }\n",
       "\n",
       "    .dataframe thead th {\n",
       "        text-align: right;\n",
       "    }\n",
       "</style>\n",
       "<table border=\"1\" class=\"dataframe\">\n",
       "  <thead>\n",
       "    <tr style=\"text-align: right;\">\n",
       "      <th></th>\n",
       "      <th>Aircraft</th>\n",
       "      <th>Number_Objects</th>\n",
       "      <th>Engines</th>\n",
       "      <th>Origin State</th>\n",
       "      <th>Phase</th>\n",
       "      <th>Description</th>\n",
       "      <th>Object Size</th>\n",
       "      <th>Weather</th>\n",
       "      <th>Warning</th>\n",
       "      <th>Altitude</th>\n",
       "      <th>Total Cost</th>\n",
       "    </tr>\n",
       "  </thead>\n",
       "  <tbody>\n",
       "    <tr>\n",
       "      <th>0</th>\n",
       "      <td>PA</td>\n",
       "      <td>37</td>\n",
       "      <td>1.0</td>\n",
       "      <td>Florida</td>\n",
       "      <td>Descent</td>\n",
       "      <td>BIRD, BROWN BIRD. A/C WAS DESCENDING INTO PATT...</td>\n",
       "      <td>Large</td>\n",
       "      <td>No Cloud</td>\n",
       "      <td>N</td>\n",
       "      <td>1500.0</td>\n",
       "      <td>690</td>\n",
       "    </tr>\n",
       "    <tr>\n",
       "      <th>1</th>\n",
       "      <td>C</td>\n",
       "      <td>43</td>\n",
       "      <td>1.0</td>\n",
       "      <td>Florida</td>\n",
       "      <td>Approach</td>\n",
       "      <td>BIRD SHATTERED L SIDE OF WINDHSLD. STUDENT REC...</td>\n",
       "      <td>Large</td>\n",
       "      <td>No Cloud</td>\n",
       "      <td>Y</td>\n",
       "      <td>2000.0</td>\n",
       "      <td>570</td>\n",
       "    </tr>\n",
       "    <tr>\n",
       "      <th>2</th>\n",
       "      <td>B-737</td>\n",
       "      <td>71</td>\n",
       "      <td>2.0</td>\n",
       "      <td>Oklahoma</td>\n",
       "      <td>Climb</td>\n",
       "      <td>MEDIUM SIZED BLACK BIRDS. CONTRACT MX INSPN OF...</td>\n",
       "      <td>Medium</td>\n",
       "      <td>No Cloud</td>\n",
       "      <td>N</td>\n",
       "      <td>1100.0</td>\n",
       "      <td>1027</td>\n",
       "    </tr>\n",
       "    <tr>\n",
       "      <th>3</th>\n",
       "      <td>Airbus</td>\n",
       "      <td>29</td>\n",
       "      <td>2.0</td>\n",
       "      <td>Wisconsin</td>\n",
       "      <td>Approach</td>\n",
       "      <td>ID BY SMITHSONIAN, FAA 3881. DNA. 2 CRACKS IN ...</td>\n",
       "      <td>Large</td>\n",
       "      <td>No Cloud</td>\n",
       "      <td>Y</td>\n",
       "      <td>200.0</td>\n",
       "      <td>77479</td>\n",
       "    </tr>\n",
       "    <tr>\n",
       "      <th>4</th>\n",
       "      <td>B-737</td>\n",
       "      <td>32</td>\n",
       "      <td>2.0</td>\n",
       "      <td>Texas</td>\n",
       "      <td>Approach</td>\n",
       "      <td>BIRD SEEN AND HEARD THAT STRUCK RADOME. UPON I...</td>\n",
       "      <td>Small</td>\n",
       "      <td>No Cloud</td>\n",
       "      <td>N</td>\n",
       "      <td>1000.0</td>\n",
       "      <td>411</td>\n",
       "    </tr>\n",
       "  </tbody>\n",
       "</table>\n",
       "</div>"
      ],
      "text/plain": [
       "  Aircraft  Number_Objects  Engines Origin State     Phase  \\\n",
       "0       PA              37      1.0      Florida   Descent   \n",
       "1        C              43      1.0      Florida  Approach   \n",
       "2    B-737              71      2.0     Oklahoma     Climb   \n",
       "3   Airbus              29      2.0    Wisconsin  Approach   \n",
       "4    B-737              32      2.0        Texas  Approach   \n",
       "\n",
       "                                         Description Object Size   Weather  \\\n",
       "0  BIRD, BROWN BIRD. A/C WAS DESCENDING INTO PATT...       Large  No Cloud   \n",
       "1  BIRD SHATTERED L SIDE OF WINDHSLD. STUDENT REC...       Large  No Cloud   \n",
       "2  MEDIUM SIZED BLACK BIRDS. CONTRACT MX INSPN OF...      Medium  No Cloud   \n",
       "3  ID BY SMITHSONIAN, FAA 3881. DNA. 2 CRACKS IN ...       Large  No Cloud   \n",
       "4  BIRD SEEN AND HEARD THAT STRUCK RADOME. UPON I...       Small  No Cloud   \n",
       "\n",
       "  Warning  Altitude  Total Cost  \n",
       "0       N    1500.0         690  \n",
       "1       Y    2000.0         570  \n",
       "2       N    1100.0        1027  \n",
       "3       Y     200.0       77479  \n",
       "4       N    1000.0         411  "
      ]
     },
     "execution_count": 333,
     "metadata": {},
     "output_type": "execute_result"
    }
   ],
   "source": [
    "# Importing the data set:\n",
    "air_line = pd.read_csv(\"airline.csv\")\n",
    "air_line.head()"
   ]
  },
  {
   "cell_type": "code",
   "execution_count": 334,
   "metadata": {},
   "outputs": [
    {
     "data": {
      "text/plain": [
       "(1207, 11)"
      ]
     },
     "execution_count": 334,
     "metadata": {},
     "output_type": "execute_result"
    }
   ],
   "source": [
    "air_line.shape"
   ]
  },
  {
   "cell_type": "markdown",
   "metadata": {},
   "source": [
    "### Splitting the data into Train and Test"
   ]
  },
  {
   "cell_type": "code",
   "execution_count": 335,
   "metadata": {},
   "outputs": [],
   "source": [
    "from sklearn.model_selection import train_test_split\n",
    "train, test = train_test_split(air_line, test_size=0.3)"
   ]
  },
  {
   "cell_type": "code",
   "execution_count": 336,
   "metadata": {},
   "outputs": [
    {
     "data": {
      "text/plain": [
       "(844, 11)"
      ]
     },
     "execution_count": 336,
     "metadata": {},
     "output_type": "execute_result"
    }
   ],
   "source": [
    "train.shape"
   ]
  },
  {
   "cell_type": "code",
   "execution_count": 337,
   "metadata": {},
   "outputs": [
    {
     "data": {
      "text/plain": [
       "(363, 11)"
      ]
     },
     "execution_count": 337,
     "metadata": {},
     "output_type": "execute_result"
    }
   ],
   "source": [
    "test.shape"
   ]
  },
  {
   "cell_type": "markdown",
   "metadata": {},
   "source": [
    "#### By looking at the histogram of Total cost values of train and test set below, we can say that the totat cost data values are skewed and we may expect a difference between Model train and test RMSE scores"
   ]
  },
  {
   "cell_type": "code",
   "execution_count": 338,
   "metadata": {},
   "outputs": [
    {
     "data": {
      "text/plain": [
       "<Axes: >"
      ]
     },
     "execution_count": 338,
     "metadata": {},
     "output_type": "execute_result"
    },
    {
     "data": {
      "image/png": "[encoded data removed]",
      "text/plain": [
       "<Figure size 640x480 with 1 Axes>"
      ]
     },
     "metadata": {},
     "output_type": "display_data"
    }
   ],
   "source": [
    "train['Total Cost'].hist(bins=10)"
   ]
  },
  {
   "cell_type": "code",
   "execution_count": 339,
   "metadata": {},
   "outputs": [
    {
     "data": {
      "text/plain": [
       "<Axes: >"
      ]
     },
     "execution_count": 339,
     "metadata": {},
     "output_type": "execute_result"
    },
    {
     "data": {
      "image/png": "[encoded data removed]",
      "text/plain": [
       "<Figure size 640x480 with 1 Axes>"
      ]
     },
     "metadata": {},
     "output_type": "display_data"
    }
   ],
   "source": [
    "test['Total Cost'].hist(bins=10)"
   ]
  },
  {
   "cell_type": "markdown",
   "metadata": {},
   "source": [
    "### Checking for missing values"
   ]
  },
  {
   "cell_type": "code",
   "execution_count": 340,
   "metadata": {},
   "outputs": [
    {
     "data": {
      "text/plain": [
       "Aircraft           0\n",
       "Number_Objects     0\n",
       "Engines           21\n",
       "Origin State      14\n",
       "Phase             10\n",
       "Description       44\n",
       "Object Size       10\n",
       "Weather            0\n",
       "Warning           10\n",
       "Altitude          10\n",
       "Total Cost         0\n",
       "dtype: int64"
      ]
     },
     "execution_count": 340,
     "metadata": {},
     "output_type": "execute_result"
    }
   ],
   "source": [
    "train.isna().sum()"
   ]
  },
  {
   "cell_type": "code",
   "execution_count": 341,
   "metadata": {},
   "outputs": [
    {
     "data": {
      "text/plain": [
       "Aircraft           0\n",
       "Number_Objects     0\n",
       "Engines            8\n",
       "Origin State       4\n",
       "Phase              4\n",
       "Description       12\n",
       "Object Size        4\n",
       "Weather            0\n",
       "Warning            4\n",
       "Altitude           4\n",
       "Total Cost         0\n",
       "dtype: int64"
      ]
     },
     "execution_count": 341,
     "metadata": {},
     "output_type": "execute_result"
    }
   ],
   "source": [
    "test.isna().sum()"
   ]
  },
  {
   "cell_type": "markdown",
   "metadata": {},
   "source": [
    "#### Replacing the  'Warning' column values of Y & N with 1 & 0 as i want to make it as Binary Column"
   ]
  },
  {
   "cell_type": "code",
   "execution_count": 342,
   "metadata": {},
   "outputs": [],
   "source": [
    "# Replace 'Y' with 1 and 'N' with 0 in the 'Warning' column in train set\n",
    "train['Warning'] = train['Warning'].replace({'Y': 1, 'N': 0})"
   ]
  },
  {
   "cell_type": "code",
   "execution_count": 343,
   "metadata": {},
   "outputs": [],
   "source": [
    "# Replace 'Y' with 1 and 'N' with 0 in the 'Warning' column in test set\n",
    "test['Warning'] = test['Warning'].replace({'Y': 1, 'N': 0})"
   ]
  },
  {
   "cell_type": "markdown",
   "metadata": {},
   "source": [
    "#### Filling the missing values in 'Warning', 'Engines' and 'Description' column of train and test set"
   ]
  },
  {
   "cell_type": "code",
   "execution_count": 344,
   "metadata": {},
   "outputs": [],
   "source": [
    "# filling missing values in the 'Warning' column with the one value in train set\n",
    "\n",
    "train['Warning'].fillna(1, inplace=True)\n",
    "\n",
    "# filling missing values in the 'Engines' column with the one value in train set\n",
    "\n",
    "train['Engines'].fillna(1, inplace=True)\n",
    "\n",
    "# filling missing values in the 'Description' column with a empty string in train set\n",
    "\n",
    "train['Description'].fillna('', inplace=True)"
   ]
  },
  {
   "cell_type": "code",
   "execution_count": 345,
   "metadata": {},
   "outputs": [],
   "source": [
    "# filling missing values in the 'Warning' column with the one value in test set\n",
    "\n",
    "test['Warning'].fillna(1, inplace=True)\n",
    "\n",
    "# filling missing values in the 'Engines' column with the one value in test set\n",
    "\n",
    "test['Engines'].fillna(1, inplace=True)\n",
    "\n",
    "# filling missing values in the 'Description' column with a empty string in test set\n",
    "\n",
    "test['Description'].fillna('', inplace=True)"
   ]
  },
  {
   "cell_type": "markdown",
   "metadata": {},
   "source": [
    "## Data Preparation Using PipeLine"
   ]
  },
  {
   "cell_type": "code",
   "execution_count": 346,
   "metadata": {},
   "outputs": [],
   "source": [
    "# Imports:\n",
    "from sklearn.compose import ColumnTransformer\n",
    "from sklearn.pipeline import Pipeline\n",
    "from sklearn.impute import SimpleImputer\n",
    "from sklearn.preprocessing import StandardScaler\n",
    "from sklearn.preprocessing import OneHotEncoder\n",
    "from sklearn.preprocessing import FunctionTransformer\n",
    "from sklearn.feature_extraction.text import TfidfVectorizer\n",
    "from sklearn.decomposition import TruncatedSVD"
   ]
  },
  {
   "cell_type": "markdown",
   "metadata": {},
   "source": [
    "### Separate the Total Cost column, which is the target variable as we don't transform the target variable"
   ]
  },
  {
   "cell_type": "code",
   "execution_count": 347,
   "metadata": {},
   "outputs": [],
   "source": [
    "# Separate the target variable and input variables\n",
    "train_target = train[['Total Cost']]\n",
    "test_target = test[['Total Cost']]\n",
    "\n",
    "train_input = train.drop(['Total Cost'], axis=1)\n",
    "test_input = test.drop(['Total Cost'], axis=1)"
   ]
  },
  {
   "cell_type": "markdown",
   "metadata": {},
   "source": [
    "## Feature Engineering (1 point)\n",
    "\n",
    "Create one NEW feature from existing data. You either transform a single variable, or create a new variable from existing ones. \n",
    "\n",
    "Grading: \n",
    "- 0.5 points for creating the new feature correctly\n",
    "- 0.5 points for the justification of the new feature (i.e., why did you create this new feature)"
   ]
  },
  {
   "cell_type": "markdown",
   "metadata": {},
   "source": [
    "#### After going through the data set , we have observed that for most of the data set values as the Number of Objects and Engines value is increased, the total cost value for damage is also increased, so we want to divide both the values and check how it contributes to the value of total cost. Therefore we created the new feature Objects_Engines which is a ratio of Number_Objects and Engines."
   ]
  },
  {
   "cell_type": "code",
   "execution_count": 348,
   "metadata": {},
   "outputs": [],
   "source": [
    "def new_col(df):\n",
    "    \n",
    "    #Creating a copy so that we don't overwrite the existing dataframe\n",
    "    df1 = df.copy()\n",
    "    \n",
    "    df1['Objects_Engines'] = df1['Number_Objects'] / df1['Engines']\n",
    "\n",
    "    return df1[['Objects_Engines']]"
   ]
  },
  {
   "cell_type": "code",
   "execution_count": 349,
   "metadata": {},
   "outputs": [
    {
     "data": {
      "text/html": [
       "<div>\n",
       "<style scoped>\n",
       "    .dataframe tbody tr th:only-of-type {\n",
       "        vertical-align: middle;\n",
       "    }\n",
       "\n",
       "    .dataframe tbody tr th {\n",
       "        vertical-align: top;\n",
       "    }\n",
       "\n",
       "    .dataframe thead th {\n",
       "        text-align: right;\n",
       "    }\n",
       "</style>\n",
       "<table border=\"1\" class=\"dataframe\">\n",
       "  <thead>\n",
       "    <tr style=\"text-align: right;\">\n",
       "      <th></th>\n",
       "      <th>Objects_Engines</th>\n",
       "    </tr>\n",
       "  </thead>\n",
       "  <tbody>\n",
       "    <tr>\n",
       "      <th>354</th>\n",
       "      <td>18.5</td>\n",
       "    </tr>\n",
       "    <tr>\n",
       "      <th>1055</th>\n",
       "      <td>56.0</td>\n",
       "    </tr>\n",
       "    <tr>\n",
       "      <th>879</th>\n",
       "      <td>23.0</td>\n",
       "    </tr>\n",
       "    <tr>\n",
       "      <th>256</th>\n",
       "      <td>19.0</td>\n",
       "    </tr>\n",
       "    <tr>\n",
       "      <th>291</th>\n",
       "      <td>19.0</td>\n",
       "    </tr>\n",
       "    <tr>\n",
       "      <th>...</th>\n",
       "      <td>...</td>\n",
       "    </tr>\n",
       "    <tr>\n",
       "      <th>1044</th>\n",
       "      <td>14.0</td>\n",
       "    </tr>\n",
       "    <tr>\n",
       "      <th>1095</th>\n",
       "      <td>12.5</td>\n",
       "    </tr>\n",
       "    <tr>\n",
       "      <th>1130</th>\n",
       "      <td>14.5</td>\n",
       "    </tr>\n",
       "    <tr>\n",
       "      <th>860</th>\n",
       "      <td>24.0</td>\n",
       "    </tr>\n",
       "    <tr>\n",
       "      <th>1126</th>\n",
       "      <td>45.0</td>\n",
       "    </tr>\n",
       "  </tbody>\n",
       "</table>\n",
       "<p>844 rows × 1 columns</p>\n",
       "</div>"
      ],
      "text/plain": [
       "      Objects_Engines\n",
       "354              18.5\n",
       "1055             56.0\n",
       "879              23.0\n",
       "256              19.0\n",
       "291              19.0\n",
       "...               ...\n",
       "1044             14.0\n",
       "1095             12.5\n",
       "1130             14.5\n",
       "860              24.0\n",
       "1126             45.0\n",
       "\n",
       "[844 rows x 1 columns]"
      ]
     },
     "execution_count": 349,
     "metadata": {},
     "output_type": "execute_result"
    }
   ],
   "source": [
    "new_col(train)"
   ]
  },
  {
   "cell_type": "markdown",
   "metadata": {},
   "source": [
    "###  Identify the numeric, binary, categorical columns and text columns and declaring feature engineering Columns"
   ]
  },
  {
   "cell_type": "code",
   "execution_count": 350,
   "metadata": {},
   "outputs": [
    {
     "data": {
      "text/plain": [
       "Aircraft           object\n",
       "Number_Objects      int64\n",
       "Engines           float64\n",
       "Origin State       object\n",
       "Phase              object\n",
       "Description        object\n",
       "Object Size        object\n",
       "Weather            object\n",
       "Warning           float64\n",
       "Altitude          float64\n",
       "dtype: object"
      ]
     },
     "execution_count": 350,
     "metadata": {},
     "output_type": "execute_result"
    }
   ],
   "source": [
    "train_input.dtypes"
   ]
  },
  {
   "cell_type": "code",
   "execution_count": 351,
   "metadata": {},
   "outputs": [],
   "source": [
    "feature_eng_columns = ['Number_Objects', 'Engines']"
   ]
  },
  {
   "cell_type": "code",
   "execution_count": 352,
   "metadata": {},
   "outputs": [],
   "source": [
    "binary_columns = ['Warning']"
   ]
  },
  {
   "cell_type": "code",
   "execution_count": 353,
   "metadata": {},
   "outputs": [],
   "source": [
    "text_column = ['Description']"
   ]
  },
  {
   "cell_type": "code",
   "execution_count": 354,
   "metadata": {},
   "outputs": [],
   "source": [
    "# Identifying the numerical columns\n",
    "numerical_columns = train_input.select_dtypes(include=[np.number]).columns.to_list()\n",
    "\n",
    "# Identifying the categorical columns\n",
    "categorical_columns = train_input.select_dtypes('object').columns.to_list()"
   ]
  },
  {
   "cell_type": "code",
   "execution_count": 355,
   "metadata": {},
   "outputs": [],
   "source": [
    "# To remove 'warning' column from numerical which will be included because of 1,0 values\n",
    "for col in binary_columns:\n",
    "    numerical_columns.remove(col)"
   ]
  },
  {
   "cell_type": "code",
   "execution_count": 356,
   "metadata": {},
   "outputs": [],
   "source": [
    "# To remove 'Description' column from categorical which will be included because of object data type\n",
    "for col in text_column:\n",
    "    categorical_columns.remove(col)"
   ]
  },
  {
   "cell_type": "code",
   "execution_count": 357,
   "metadata": {},
   "outputs": [
    {
     "data": {
      "text/plain": [
       "['Number_Objects', 'Engines', 'Altitude']"
      ]
     },
     "execution_count": 357,
     "metadata": {},
     "output_type": "execute_result"
    }
   ],
   "source": [
    "numerical_columns"
   ]
  },
  {
   "cell_type": "code",
   "execution_count": 358,
   "metadata": {},
   "outputs": [
    {
     "data": {
      "text/plain": [
       "['Warning']"
      ]
     },
     "execution_count": 358,
     "metadata": {},
     "output_type": "execute_result"
    }
   ],
   "source": [
    "binary_columns"
   ]
  },
  {
   "cell_type": "code",
   "execution_count": 359,
   "metadata": {},
   "outputs": [
    {
     "data": {
      "text/plain": [
       "['Aircraft', 'Origin State', 'Phase', 'Object Size', 'Weather']"
      ]
     },
     "execution_count": 359,
     "metadata": {},
     "output_type": "execute_result"
    }
   ],
   "source": [
    "categorical_columns"
   ]
  },
  {
   "cell_type": "markdown",
   "metadata": {},
   "source": [
    "#### Since we want to create a Pipe line for Text Columns using TfidfVectorizer which requires the text data to be a one-dimensional list/array. For that, we need a function to convert the dataframe column to a one-dimensional array."
   ]
  },
  {
   "cell_type": "code",
   "execution_count": 360,
   "metadata": {},
   "outputs": [],
   "source": [
    "def new_col1(df):\n",
    "    #Create a copy so that we don't overwrite the existing dataframe\n",
    "    df1 = df.copy()\n",
    "    \n",
    "    # First, convert the dataframe column to a numpy array. Then, call the ravel function to make it one-dimensional\n",
    "    return np.array(df1['Description']).ravel()"
   ]
  },
  {
   "cell_type": "code",
   "execution_count": 361,
   "metadata": {},
   "outputs": [
    {
     "data": {
      "text/plain": [
       "array(['NO DMG OR INJURIES. VERY UNUSUAL EVENT ON FINAL AT KSAT. NO NOTES ON ATIS OF BIRDS BUT EVEN IF THERE WERE ADVISORIES IT WOULD NOT CHANGE THE OUTCOME AT NIGHT ON AN ILS APRCH WHEN BIRDS CAN NOT BE SEEN.',\n",
       "       'ATIS WARNING. SAW BIRD BEFORE IMPACT BUT UNABLE TO AVOID. BIRD REPTD AS \"BIRD LOOKS LIKE A SMALL HAWK\". UPWIND.',\n",
       "       'ATIS WARNING. LARGE DENT IN NOSE ABOUT 2.5\" DIAMETER. SEVERAL SMALLER DENTS IN WINGS. BIRD ID BY SMITHSONIAN. COST IS FOR RADOME ONLY. 2 BIRDS INGESTED.',\n",
       "       \"CLIMBING THRU 400, I SAW 2 SML BIRDS PASS BY LEFT SIDE OF A/C. I WAS NOT SURE IF WE HIT THEM AND I DIDN'T SEE EVIDENCE OF A STRIKE FROM THE FLT DECK. AFTER ARRIVING IN SEATTLE, THE REMAINS OF A BIRD WERE FOUND ON THE LEFT WING TIP/WINGLET AREA. A/C WAS SC\",\n",
       "       'IMPACTED BIRD ON SHORT FINAL. NO REMAINS FOUND. NO A/C DMG NOTED. NO EFFECT ON FLT. THREE MILE FINAL.',\n",
       "       'NO DMG.',\n",
       "       'PLANE WAS UNABLE TO DEPLOY NOSE GEAR WHEN LANDING.  NOSE HIT THE RWY WITH MINOR DMG. BIRDSTRIKE HAD DAMAGED NOSE GEAR DOORS . AFTER LDG, NOSE GEAR DOORS WERE PRIED OPEN AND A/C TAXIED TO MX HANGAR. PILOT UNAWARE OF BIRDSTRIKE BUT FELT A BUMP WHILE TAKING',\n",
       "       'FEMALE DEER. WHEEL PANTS AND FAIRINGS DAMAGED ON L MAIN ONLY. NO HOURS OUT OF SVC.',\n",
       "       'SHEET METAL PEELED BACK WHERE RADOME MEETS FUSELAGE. MX DID INTERIM REPAIR. EVEN 6787.',\n",
       "       'PROBABLY TURLEY VULTURE. STRUCK STARBOARD WING CLOSE TO WING ROOT. BIG DENT IN LE. RUBBER STRIP CAME LOOSE. LOCATION = BAYTOWN, TX - 20 MILES.',\n",
       "       'DURING INSTRUCTIONAL FLT JUST BEFORE ROTATION A/C STRUCK A DEER. IMPACT DENTED L SIDE OF ENG COWLING  PROP, COWL AND BOTTOM OF FUSELAGE. ALSO DAMAGED EXHAUST PIPE. A/C WAS BROUGHT TO A STOP ON THE RWY.   DMG REPTD AS MINOR ON ASIAS REPT. OTHER COST WAS FO',\n",
       "       \"ID BY SMITHSONIAN. BIRDSTRIKE TOOK PLACE ON THE SHORELINE NEAR ARPT BOUNDARY. 3 PELICANS STRUCK WINDSHLD AND DOOR DOING DMG TO BOTH. REPLACED WINDSCREEN AND PILOT'S SIDE WINDOW. MINOR AIRFRAME REPAIR.\",\n",
       "       'I WAS THE F/O FLYING. AFTER ALIGNING ON THE RWY, THE CAPT STATED, \"YOUR AIRCRAFT\", AND I COMMENCED T/O ROLL. I NOTED SEVERAL GEESE WELL DOWN THE RWY, OFF THE RT EDGE, MOVING FURTHER TO THE RT. WE CONTINUED ACCELERATING AND AS WE PASSED 80 KNOTS THE GEESE',\n",
       "       '',\n",
       "       'HAVING JUST DROPPED THE NOSE WE SAW THREE OSPREYS. THEY HAD COME DOWN FROM THEIR PERCH TO THE RWY. TWO BIRDS HIT. THE ONE ON THE LT WAS HIT BY THE WING AND BOUNCED OFF WITH A BROKEN WING. THE ONE ON THE RIGHT WAS CLIPPED BY DESCENDING BLADE OF PROP. BOTH',\n",
       "       'ID BY SMITHSONIAN, FAA 6572. DNA. HIT LWR RT AFT OF RADOME. BLOOD/FEATHERS STUCK TO A/C. NO DMG. COSTS FOR LABOR REPTD AS $200.',\n",
       "       'BOTH ENGS WERE BORESCOPED ON ARRIVAL AT PHX. NO DMG FOUND. COST INCLUDES OUT OF SVC TIME AND LABOR. PILOT REPTD DMG BUT FURTHER INVESTIGATION WITH AIRLINE FOUND THIS WAS NOT TRUE.',\n",
       "       'DMG TO RT WING.',\n",
       "       'TORE OFF RT MAIN GEAR DOOR. SML PUNCTURE HOLE IN OTBD FLAP. SML DENT IN SKIN ON BOTTOM OF WING. COSMETIC CLEAN UP.',\n",
       "       'GREY BIRD HIT LEADING EDGE OF COWL. SOME OF BIRD ENTERED ENG (BYPASS, NOT CORE) AND SOME WENT OUTSIDE.',\n",
       "       'PAINT CRACKED/PEELED OFF OUTBOARD EDGE OF RT MAIN GEAR DOOR. NO APPARENT FIBERGLASS DMG.',\n",
       "       'PILOT REPTD FLYING THRU A FLOCK OF SML BIRDS AND HIT AT LEAST 3. EVIDENCE FOUND IN 31 ENG. BORESCOPED. ESTIMATED COST $140',\n",
       "       'FLT 2356. DMG BETWEEN FUSELAGE AND #2 ENG ON RH WING LE. DENT IS CRACKED AND OUT OF LIMITS RIB ALSO CRACKED ON IB FLANGE. RIB REPLACED.',\n",
       "       '',\n",
       "       'AS FLT 1701 WAS ON APRCH TO KDCA, 2 SMALL BLACK BIRDS WERE SEEN AND ONE STRUCK ON THE WINDSCREEN. NO DMG TO EQUIPMENT.',\n",
       "       'INGESTED APPROX 20 BIRDS. LANDED W/O INCIDENT. PILOT REPTD MAJOR DMG TO ENG. 1 BENT FAN BLADE FOUND.',\n",
       "       'DMG TO LEFT LDG GEAR, FUSELAGE, ROTATING BEACON UNDER FUSELAGE. NO LOSS OF CONTROL. ABLE TO FLY AFTER MINOR REPAIRS. DENTED SHEET METAL ON LDG GEAR, TORE OFF ANTENNA. 3 YEARS LATER FOUND BROKEN FUSELAGE RIB JUST BEHIND UNDER FUSELAGE STROBE LIGHT.',\n",
       "       'NO DMG. BIRD WAS INGESTED INTO THE INTAKE BUT BLOCKED FROM ENTERING THE ENGINE BY PRE-COMPRESSOR SCREEN. INSPN FOUND NO DMG. COST WAS FOR INSPN AND TRAVEL TIME.',\n",
       "       'FLOCK OF BIRDS FLEW UP FROM GRASS ON L SIDE RWY THEN ACROSS TAKE OFF PATH. A/C HAD JUST LEFT THE GROUND. HEARD LOUD THUMP. DENT IN L WINGT ROOT FAIRING AT LE AND NICKLE SIZED AREA OF PAINT CHIPPED FROM L ENG COWLING CYLINDER AIR INTAKE.',\n",
       "       'POSSIBLE SPARROW, VERY SML REMAINS FUND ON PROP AND COWLING.',\n",
       "       'D BY SMITHSONIAN, FAA 2904 A 99.7% DNA MATCH. THERE WERE 2 STRIKES ON THIS A/C. ONE AT THE NOSE WITH NO DMG AND 1 ON LE OF RT WING WITH DMG. THIS A/C WAS CLOSE BEHIND ANOTHER FLT THAT WAS HIT 3 MINUTES BEFORE.  THE ROBIN HIT THE NOSE. NO DMG. THE AMERICAN',\n",
       "       'ENG DMGD.',\n",
       "       'BIRD FLEW INTO FLT PATH FROM L SIDE OF RWY AT ROTTION AND HIT L SIDE OF NOSE.',\n",
       "       'ARPT PERIMETER FENCE HAD BEEN REMOVED ALONG THE S BORDER. COLLISION WITH SEVERAL DEER WOULD HAVE BEEN INEVITABLE AND POSSIBLY FATAL, 2 SECONDS EARLIER. SAW 6 DEER. HIT RT WINGTIP. NO INJURIES. MINOR DMG. A/C - CIRRUS SR 20',\n",
       "       'DMG TO LE OF L WING. 1 NOSE RIB CRUSHED, SKIN TORN. NO EFFECT ON FLT PERFORMANCE. PHOTOS SENT.',\n",
       "       'PILOT REPORTED TO ATCT STRIKING AT LEAST 1 BIRD ON T/O. WS BIOL WITNESSED THE STRIKE AND ALSO SAW A RED-TAILED HAWK RECOVER THE DEAD BIRD FROM RWY 16R AT INTXN WITH RWY 11/29. PILOT REPORTED \"NO DAMAGE\" FROM THE AIR, BUT INSPECTION HADN\\'T BEEN DONE.  NO O',\n",
       "       'RWY 17 DOES NOT EXIST AT STL OR SUS.  AIRPORT MAY BE INCORRECT OR RWY INCORRECT.',\n",
       "       'WHITE BIRD HIT LEFT WING JUST INBD OF STALL STRIP. DENT WAS 6\" LONG BY 1\" DEEP. NO OTHER DMG. A/C IS STILL IN REPAIRS (2/13/09).',\n",
       "       'FLT 2712 ABTD T/O BELIEVING THEY HAD A BLOWN TIRE. TAXIED TO RAMP. FAN BLADE FAILURE. INGESTION IN BOTH ENGS. ALTHOUGH TWO ENGS REPTD DAMAGED, CALL TO P&W SHOWED ONLY 1 ENG HAD DAMAGE.  ENG WAS REMOVED, BUT NOT BECAUSE OF BIRD STRIKE (C-9 DISK LIFE). FOUN',\n",
       "       'NO DMG. LOCATION RETPD AS 4NM NE OF ARPT.',\n",
       "       'BEACON LENS AND GUARD DESTROYED. SMALL HOLE IN ANTENNA SEALANT. THRESHOLD RWY 25.',\n",
       "       'NO DMG.',\n",
       "       'ON T/O ROLL JUST AFTER LEAVING THE SURFACE, 2 WHITE-TAILED DEER CROSSED ON FRONT OF A/C. 1 PULLED UP TO AVOID THEM AND HIT A THIRD THAT I NEVER SAW. RWY LIGHTS WERE ON. I HAD JUST BACK-TAXIED THE LENGTH OF THE RWY 2 MINUTES PRIOR. FLT CONTD TO GRR WHERE R',\n",
       "       '3 FAN BLADES DAMAGED. ID BY SMITHSONIAN FROM SMALL SAMPLES REMOVED FROM THE COMBUSTION CHAMBER. FAA 1297. BIRD ORIGINALLY REPT AS GULL.. ENG WAS 70 DEGREES HOTTER THAN @3 ENG. N2 WAS 5% FASTER. REPALCED FAN BALDE SETS. BORESCOPED. EVENT 7037. ALT REPTD AS',\n",
       "       'ID BY WS BIOL AS JUVENILE FERRUGINOUS HAWK. HIT BIRD AT HIGH SPEED DURING T/O, ENG STALLED AND T/O WAS ABORTED. WE SHUT DOWN THE ENG AFTER EXITING RWY. TAXIED TO TERMIANL. APRT PERSONNEL COLLECTED WING REMAINS FOR ID. REPLACEMENT A/C FOUND. DELAY OF ABOUT',\n",
       "       \"1 BIRD HIT L SIDE OF NOSE ABOUT 1.5 FT FWD OF L WINDSHLD DAMAGING THE NOSE STRUCTURE AND OPENING A HOLE IN THE NOSE SKIN. PART OF THE BIRD HIT RT WINDSHLD OBSCURING VISION. 2 ND BIRD HIT L WING ABOUT 5' OUT FROM FUSELAGE CAUSING A LRG DENT IN LE (FOOTBALL\",\n",
       "       'BIRD WAS INGESTED. APPEARS TO HAVE DAMAGED SOME OF THE COMPRESSOR STATORS. ENG IS BEING TORN DOWN FOR FURTHER EVALUATION. ID BY SMITHSONIAN, FAA 1436. ENG WAS REPAIRED AND PUT BACK IN SERVICE ONLY TO FIND MORE DAMAGE. ENG REMOVED AGAIN. EST REPAIRS ABOUT',\n",
       "       'JUST AFTER T/O DECISION SPEED REACHED (95-97 KNOTS), MULTIPLE BIRDS ENTERED T/O PATH. SEVEN TO NINE BIRDS IMPACTED CAUSING TWO SMALL DENTS IN LE OF WINGS. ONE (SMALLER) ON LT WING, OTHER LARGER ON RT WING. BIRDS WERE IN UNIMPROVED AREAS BTWN RWY AND TWY.',\n",
       "       'PILOT SAW LARGE FLOCK RISE UP OUT OF GRASS. HE LIFTED TO AVOID BUT STRUCK 29 BIRDS 9RECVRD BY WILDLF BIOL). PILOT CIRCLED AND LANDED. A/C INSPECTED BY COMPANY MX. NO DMG REPTD EXCEPT COST TO CLEAN A/C.',\n",
       "       'NO DMG TO A/C. ENG BORESCOPED-NO DMG.',\n",
       "       'GOOSE FILLED THE WINDSHLD, IMPACTED A MOMENT LATER ON ROOF. TOOK OUT TCAS ANTENNA, DENTED SKIN, BLOOD ON VERT STABIL STARBOARD ANTENNA. NO TIME OUT OF SERVICE. ESTIMATED REPAIRS $2500 FOR ANTENNA AND SAME FOR REPAIRING MINOR DENT.',\n",
       "       'CAPT DID NOT STATE WHAT $300 WAS FOR.',\n",
       "       \"A/C ENRT TO HAVANA. HIT BIRD AT 2000' DISTANCE TO GO MARKER. RETD TO ARPT ON ALL HOUSE EMERGENCY RESPONSE. DMG TO UNDERSIDE OF NOSE. DMG ESTIMATED BY AIRLINE MECHANIC. ARPT REPT SAYS RADOME SEVERELY DAMAGED.\",\n",
       "       '',\n",
       "       '1 MI S OF ARPT. VICINITY OF NAWILIWILI HARBOR. SML SCRATCH ON RT FOREAREM OF P/C. 4-5 IN HOLE IN WINDSHLD. BIRD REPTD AS WHITE-TAILED TROPIC HAWK.WS BIOL REPORTS IT AS RED-TAILED TROPIC BIRD. RT WINDSHDL WAS FRAGMENTED.',\n",
       "       'A PILOT REPTD REMAINS ON RWY 1. TWR ADVISED THEY DID NOT RECEIVE ANY STRIKE REPORTS. THE REMAINS WERE FOUND AT 1220 PM. A STRIKE WITH DOLLAR GENERAL OCCURRED IN AM, ASSUME REMAINS FROM THAT STRIKE.',\n",
       "       'ID BY SMITHSONIAN, FAA 1877. INGESTED IN #2 ENG. MX INSPN. NO DMG.',\n",
       "       'BIRD REPTD AS CORMORANT, ASSUME DOUBLE-CRESTED. PILOT REPTD STRIKING A BIRD ON APCH. NO REMAINS FOUND. HE SAW SEVERAL BIRDS. DMG TO RT WING FLAP. NO EFFECT ON FLT. PHOTOS.',\n",
       "       'NO DMG. REMAINS WERE LEFT AT KMMU, NO WAY TO COLLECT AND MAIL TO SMITHSONIAN',\n",
       "       'LOCATION REPTD AS APPROX 10 MILES N KIAD. BIRD REPTD AS UNKNOWN ? DUCK.',\n",
       "       'NO INJURIES. SMASHED AND BROKEN NOSE GEAR TAXI LIGHTS, BENT NOSE GEAR DOOR, BROKEN CLAMP L MAIN LDG GEAR, ELECTRICAL HARNESS FOR LDG LIGHTS DESTROYED. RWY WAS CLOSED FROM 2032 TO 2120.',\n",
       "       'BIRD LEFT 2\" DENT IN VERTICAL FIN',\n",
       "       \"ACCORDING TO CAPT, JUST AFTER T/O ON DOWNWIND OF RWY 9L AT 1100'  HE SAW 3 LRG BLACK BIRDS ABOUT 150' ABOVE HIM. A FEW SECONDS LATER HE SAW ONE DIVE AND WAS UNABLE TO AVOID THE STRIKE. THE BIRD WAS LODGED IN THE WING. AS HE TURNED AROUND TO RETURN TO KTMB\",\n",
       "       'MINOR DMG REPTD. COSMETIC.',\n",
       "       'ID BY SMITHSONIAN. FAA 6862, WHOLE FEATHER. BIRD ON RWY DURING ROLLOUT. FLEW UP AS WE NEARED. FLEW BY CAPT WINDOW AND INTO ENGINE. THRUST REV WERE ALREADY DEPLOYED. ONE OF SEVERAL BIRD ON RWY AT THAT TIME. NO ENG DMG. BIRD WENT THRU FAN AND BYPASS DUCT. C',\n",
       "       'DURING CLIMB AROUND 200 FT A POP WAS HEARD FOLLOWED BY A HUMMING NOISE AND VIBRATION. THREE LOWER PRESSURE FAN BLADES BENT AND DAMAGED. REPLACED BLADES.',\n",
       "       'ATIS WARNING. DMG TO WINGTIP. LIGHT ASSEMBLY.',\n",
       "       'WHILE ATTEMPTING TO T/O, HIT A DEER. HEARD A LOUD BANG AND SAW A  LRG DARK OBJECT COME OVER THE MID-SECTION OF THE L WING. NEVER SAW A DEER AT ANY TIME DURING MY GROUND OPS.',\n",
       "       'DEFINITE IMPACTS HEARD AND FELT AROUND NOSE AND AFT CANOPY/FUSELAGE SECTIONS- NO VISIBLE DAMAGE',\n",
       "       'HIT 2 GULLS DMGD RT WING LE. DENT 8-12 \" LONG AND 2-4 \" DEEP.',\n",
       "       'BIRDSTRIKE SHORTLY AFTER EMERGING FROM CLOUDS AND IMC CONDITIONS. 1 CREW SAW BIRD JUST PRIOR TO IMPACT. COSTS FOR 1 HR INSPN.',\n",
       "       'SML DENT ON UNDERSIDE OF L WING.',\n",
       "       'A/C WAS WRITTEN OFF BY INSURANCE COMPANY AND SOLD AT AUCTION. INCIDENT WAS AT NIGHT AND BIRD TYPE WAS NOT SEEN BUT IS ASSUMED TO BE GEESE OR DUCK BIRD TYPE IS SEEN IN AREA. RWY HAS A POND AND RIVER AREA AT APCH END. BLOOD/TISSUE ON UNDERSIDE OF RT WING. A',\n",
       "       'DMG TO COWLING, EXHAUST SYSTEM AND FUEL INDUCTION SYSTEM.',\n",
       "       'REMAINS COLLECTED BY ORD WILDLF CONTROL AGNT.', '',\n",
       "       'NO DMG. COST FOR CLEANING AND INSPN. HIT LE OF STABILIZER.',\n",
       "       \"ID BY SMITHSONIAN. FEATHERS WERE REMOVED FROM TOP OF NOSE OF PLANE. DISCREPANCY RE ALT 1400' ON ORIGINAL REPT AND 3000' ON AIRPORT REPT.\",\n",
       "       'DMG TO RT WINT TIP SECTION. I SAW A BLACK SPOT GO BY THE WINDSHLD.',\n",
       "       'PILOTS DESCRIBE BIRD STRIKING THE CENTER WINDSHIELD STRUT. BLOOD WAS NOTED BUT NO DMG FOUND. BIRD FOUND \"IN TWO PIECES\" ON RWY BY ARPT PERSONNEL. EST COST IN #24 FOR INSPN OF A/C BY COMPANY MX. NO DMG NOTED. LOCATION REPTD AS OVER RWY 29.',\n",
       "       'HIT BOTTOM RT SIDE OF NOSE. COST FOR 1 HR INSPN.',\n",
       "       'ATIS WARNING. A/C TIME OUT OF SERV = 1/2 HR.',\n",
       "       'TWO PIGEONS AND ONE STARLING ACCORDING TO ARPT OFFICIALS WHICH COLLECTED REMAINS. TIME OUT OF SERVICE =  0.5 HR.',\n",
       "       '',\n",
       "       'ALBATROSS LIKE BIRD LOCALS CALL GARZA. ENG INSPN AND CLEANUP REQUIRED. BIRDSTRIKE INSPN PERFORMED BY AA MX. 3 MILE FINAL.',\n",
       "       'DMG LIMITED TO RADOME SHOWED SINGS OF DELAM, DENT AND CRACKS. DMG LOCATED ON LOWER PART OF LT SIDE.',\n",
       "       \"JUST AFTER T/O SUSTAINED MULTIPLE BIRDSTRIKES ALONG L SIDE OF A/C. JUST UNDER CAPT'S WINDSCREEN. THE N1, ITT AND VIB INDICATIONS SHOWED FLUCTUATIONS ALONG WITH THE SMELL OF BURNED FLESH. AN EMERGENCY WAS DECLARED. A/C LANDED SAFELY. BIRD INGESTED IN L ENG\",\n",
       "       'ATIS WARNING ONLY - VERY COMMON ON EVERY AIRPORT. RIGHT AFTER V1 BOTH F/O AND I SAW A LRG FLOCK OF BIRDS NEAR TWY D. THIS FLOCK EXTENDED FROM ABOUT 10FT ON EITHER SIDE OF THE RWY ACROSS THE WIDTH OF THE RWY WITH THE LRGST AMNT BEING AT CENTERLINE. AS WE R',\n",
       "       'ID BY SMITHSONIAN. FINS BENT IN #2 ENG. 4 BLADES WERE BENT. PILOT REPT AT LEAST 6 BLADES WOULD BE CHANGED. ENG NEEDS TO BE BORESCOPED. VIBRATION. EMERGENCY DELCARED.OPER REPTD AS COA AND UAL',\n",
       "       'FAN BLADE DMG VISIBLE AND INTERNAL. ABNORMAL THRUST SITUATION. A/C RETD FOR EMERGENCY LDG. LANDED W/O INCIDENT. COSTS INCLUDE A/C RENTAL FOR ABOUT 5 WEEKS.',\n",
       "       '1 DEER RAN OUT FROM TREELINE AS A/C TOUCHED DOWN. IT PASSED UNDER L PROP, HIT L MAIN GEAR DOOR AND STRUT AND BUNCED UP INTO L FLAP. PILOT WAS ABLE TO SAFELY CONTROLL THE ROLLOUT. TREES ARE VERY CLOSE TO RWY. DEER ARE A KNOWN PROBLEM. ANOTHER A/C HIT A DEE',\n",
       "       'BIRD ID BY SMITHSONIAN FAA 449 & 465. (FIRST REPTD AS LRG SEAGULL).  ENG WAS SHUT DOWN AND A/C MADE AN EMERGENCY LDG.  13,000 LBS OF FUEL WAS DUMPED OVER THE OCEAN. NTSB AND FAA INVESTIGATION DUE TO SIGNIFICANT DMG. #3 ENG AND COWLING WERE REMOVED AND REP',\n",
       "       'JUVENILE EAGLE. DENTED ENG COWLING 3.5 INCHES.  DURING T/O BIRD CROSSED RWY AND WAS STRUCK. PART OF WING WAS INGESTED INTO #2 ENG. BIRD WEIGHED 7.7 LBS. A/C UT OF SERVICE FOR REPAIRS UNKN AT THIS TIME. PHOTOS.',\n",
       "       'LEADING EDGE OF LEFT WING, PITOT TUBE, LEFT SIDE WINDOW AND CENTER SECTION BETWN WINDOWS WERE DAMAGED. A/C WAS OUT OF SERVICE UNTIL APPROX SEPT 9TH.',\n",
       "       'FLOCK OF SML BIRDS WERE SEEN APPROACHING THE RWY FROM THE WEST DURING LATE PART OF THE TAKE OFF RUN. BIRDS WERE STRUCK AFTER LIFTOFF WHILE LDG GEAR WAS IN TRANSIT. NO ABNORMAL INDICATIONS ON EITHER ENG BUT 1 STRIKE COULD BE SEEN ON L WING LE. WE FELT MULT',\n",
       "       \"ID BY SMITHSONIAN. BIRD HIT LEFT WING 4' FROM WINGROOT. DMG TO OUTER LAYER OF COMPOSIT COATING.  COSTS INCLUDE DAMAGE AND LOST REVENUE DUE TO  DOWNTIME.\",\n",
       "       'A BARN OWL WAS STRUCK IN FLARE UPON LDG. RADOME WAS DENTED.',\n",
       "       'BIRD REMAINS PLUGGED ENG AND DAMAGED MANY PARTS INTERNALLY AS WELL AS FAN BLADES. 11 INLET GUIDE VANES AND 7 1ST STAGE COMPRESSOR BLADES DAMAGED. BIRD DEBRIS THUR CORE AND BYPASS SECTION OF ENG.',\n",
       "       'BIRD CAME THRU WINDSHLD AND INJURED STUDENT PILOT. RT SIDE DOOR BLEW OPEN. INSTRUCTOR HEADSET BLEW OUT THE DOOR. BIRD ENDED UP IN BAGGAGE COMPARTMENT, DEAD.  STUDENT IN PILOT SEAT HAD CUTS ON FACE AND ARMS. INSTRUCTOR CUT ON FACE AND ARM.',\n",
       "       'AT START OF TAKE OFF ROLL, THEY PASSED THRU A FLOCK OF SNOW BUNTINGS. ABORTED T/O AND TAXIED BACK TO THE GATE. NO VISIBLE SIGNS OF A STRIKE. ONE CARCASS WA FOUJND ON RWY. LOCAL MX WAS CALLED TO CHECK OUT ENGINES. NOTHING FOUND. 101 MINUTE DELAY.  NO PAX R',\n",
       "       'LE OF WING MUST BE REPAIRED.',\n",
       "       'LARGE HAWK IMPACTED R HAND OUTBOARD SLOT JUST PRIOR TO ROTATION. RED-TAILED HAWK AND MOURNING DOVE.',\n",
       "       'BIRD HIT L WING AND #1 ENG INLET. PART OF REMAINS WERE INGESTED. NO DMG.',\n",
       "       'ID BY SMITHSONIAN FAA 2659. EVENT 19733. BIRD LOOKED LIKE A LARGE HAWK. I SAW THE BIRD FLASH BY ON LEFT SDIE ON 8 MILE FINAL. I DID NOT THINK I HIT IT. THERE WAS NOT SOUND OF IMPACT AND ENG INDICATIONS WERE NORMAL. MX SAID IT WAS A DIRECT HIT IN THE LEFT',\n",
       "       'RH ENGINE AND PROPELLER, RH MLG DOOR, R ENG COWLING, RH INBD NACELL FAIRING, LITTLE DAMAGE TO FIREWALL LOWER CORNER, AND RH INBD LEADING EDGE SKIN',\n",
       "       'PILOT SAW 2 KILLDEER ON BASE TO FINAL AND TRIED TO AVOID BY RAISING PORT WING. 1 IMPACTED PROP SPINNER & WAS INGESTED. BORESCOPE FOUND INTERNAL DAMAGE WITH SUBSEQUENT ENG CHANGE.',\n",
       "       'PILOT REPTD SEEING 6-10 DUCKS PASS IN FRONT OF THE A/C. THEY HEARD A LOUD BANG. ENG HAD AT LEAST 1 INGESTION. SHORT FINAL. DMG TO INTAKE NACELLE AND INTERNAL FAN ASSEMBLY.',\n",
       "       '',\n",
       "       'ABORTED T/O DUE TO POSSIBLE BIRDSTRIKE AND RETD TO GATE.  FLOCK OF BIRDS INGESTED INTO #1 ENG. COMPRESSOR STALLED. REMAINS FOUND BY STATE RAMP CONTROL.   (DATA ENTRY NOTE: TIME OF STRIKE DIFFERED, 1 REPT HAD 1124AM, LOCAL TIME,  ANOTHER HAD 1724 PST AND A',\n",
       "       'NO DMG.',\n",
       "       '2 DEER RUNNING IN FRONT OF A/C AT T/D. THEY WENT UNDER LE OF WING ON EACH SIDE. 1 HIT L FLAP, OTHER RT FLAP. RT FLAP WORST DAMAGE WITH SPLIT SKIN AND VERY WRINKLED. NO INJURIES. HAD TO RENT FLAPS UNTIL REPAIRS COULD BE MADE.',\n",
       "       'STRUCK LARGE BUCK WHILE LANDING. DAMAGE TO LEFT WING ALLOWED A LRG AMT OF FUEL TO LEAK ONTO THE RWY.',\n",
       "       '', 'ID BY SMITHSONIAN. ID BY PHOTO. WINDSHIELD AND INTERIOR DMG.',\n",
       "       'WHILE DESCENDING FROM 5000 TO 4000 FT, WE HEARD A LOUD THUMP AND SAW A FLASH IN LDG LIGHTS ON RWY 1L. 10 NM SOUTH. APCH AND LDDG UNEVENTFUL. UPON LDG FOUND DMG (HOLES AND SUPPORT RIBS BROKEN) TO RT AND L FAIRING WHERE WHEEL WELLS/WINGS ATTACH TO A/C. BIRD',\n",
       "       \"ENG REPLACEMENT REQD. KILLDEER'S HEAD FOUND ON RWY. FIRST STAGE FAN HAD SEVERAL BLADES BENT. IT WAS JUST 1BIRD THAT WAS INGESTED ACCORDING TO THE REMAINS FOUND AND WHAT THE PILOT SAW.\",\n",
       "       'NOSE BOWL WAS DENTED AT LEFT LDG LIGHT. ONE PROP BLADE WAS STRUCK AT ITS THICKEST PART.',\n",
       "       'BIRD REPTD AS \"BLACKBIRD/CROW?\". INGESTED IN AIR INTAKE.',\n",
       "       'NO DMG',\n",
       "       'BLACKBIRDS, CROW? RT ENG 3 FAN BLADES WERE DAMAGED AND HAD TO BE REPLACED.',\n",
       "       'BENT 5 1ST STAGE COMPRESSOR FAN BLADES. PENETRATED CORE. INGESTION.  ENG REMOVED FOR INSPN.',\n",
       "       'POSSIBLY ROBIN/SPARROW. HIT CENTER WINDSHLD. RAINING BEFORE AND AFTER, BUT NOT DURING STRIKE. MADE A MESS. MECH INSPN COST $1000.',\n",
       "       \"SML FLOCK OF GRAY BIRDS (POSSIBLY ROCK DOVES) WERE STRUCK ABOVE THE F/O'S WINDOW ON STABILIZED APCH. TWR WAS NOTIFIED FOLLOWING THE INCIDENT AND ARFLD OPS CONTACTED MX. NO DMG.\",\n",
       "       'ID BY SMITHSONIAN, FAA 3723. GREAT EGRET AND WOOD STORK WERE IDENTIFIED. WHOLE FEATHER AND DNA. PILOT REPTD STRIKING 3 LARGE WHITE BIRDS OFF AIRPT PROPERTY. RETD TO LAND W/O INCIDENT. (DATA ENTRY NOTE: DAILY REPORT SAID, \" NO DAMAGE REPORTED.\"',\n",
       "       'ID BY SMITHSONIAN, FAA 4316. DNA & WHOLE FEATHER. PAX RECEIVED CUT ON HIS CHIN AND A SWOLLEN CHEEK. PILOT AND PAX WERE WEARING HELMETS. WINDSHLD WAS BROKEN, FRAME WAS DEFORMED, SKYLIGHT WAS BROKEN AND VERTICAL FIN WAS DAMAGED.',\n",
       "       'A/C INGESTED LITTLE BLACK BIRDS IN BOTH ENGS CAUSING THEM TO SHUT DOWN WITH MINIMAL ALT AND TIME, A/C DID A FORCED LANDING IN A WHEAT FIELD ABOUT 4 MILES FROM DEPTR ARPT. ON TOUCHDOWN, FIRE BROKE OUT AND DESTROYED THE A/C. PILOT AND CO-PILOT HAD SERIOUS I',\n",
       "       'CLEANED AND INSPECTED. NO DMG.',\n",
       "       'ID BY SMITHSONIAN, FAA 1960 & 2039. FLT WAS RUNNING 4 HRS LATE. RWY HAD NOT BEEN USED MUCH AT THIS TIME. DID NOT SEE BIRDS ON RWY DURING TAXI. SAW A FEW GULLS AT 110 KTS, WATCHED TO MAKE SURE THEY DID NOT GO INTO ENGS. AT 150 KTS WE HIT A LRG FLOCK. FUEL',\n",
       "       \"HIT BIRD AT ALTITUDE OF 700-800' ABOUT 4 MILES WEST OF DAB. A/C LANDED W/O INCIDENT. NO INJURIES REPTD. DMG TO RT WING. HAWK?  LOTS OF BROWN & WHITE FEATHERS.\",\n",
       "       'REPLACED RADOME.',\n",
       "       'ID BY SMITHSONIAN.  REMAINS COLLECTED BY MX AND SUBMITTED TO USDA/WS. REPLACED RADOME DUE TO 16\" DIAMETER DENT. LAST FLT FOR A/C THAT DAY.',\n",
       "       'EXTENSIVE DMG. SKIN DAMAGE AND BULKHEAD.',\n",
       "       'DMG TO A/C NEAR TOP OF FUSELAGE AFT OF F/O\\'S SIDE WINDOW. DIMENSION OF DMG ARE AIS ROUGHLY 8\" X 6\" X 1/4\" AND IS SIMILAR IN SHAPE TO THE NOSE OF A BULLET.',\n",
       "       'A/C STRUCK BIRD RIGHT AFTER ROTATION DURING INITIAL CLIMB. DAMAGED L WING ON THE 5TH TKS PANEL FROM WINGROOT. 4-5 DENTS ALONG CENTER PART OF PANEL ABOUT 8\" LONG AND 1-2 \" HIGH WITH VARIOUS DEPTH. THIS EXCEEDS THE ALLOWABLE DAMAGE OF DEPTH FOR MULTIPLE DEN',\n",
       "       'BIRDSTRIKE WAS OVER EVERGLADES 11 SM WEST OF ARPT. BIRD LEFT A SMUDGE ON NOSE, WINDSHLD. NO DMG REPTD BY AIRLINE MX. BIRD REPTD AS SPARROW AND SWALLOW.',\n",
       "       'BIRDSTRIKE MAJOR ON DLG DFW. COMING OUT OF REVERSE THRUST, ENCOUNTERED A FLOCK OF PIGEONS ON RWY. MULTIPLE BIRD STRIKES. A/C TAKEN OUT OF SVC FOR BENT COMPRESSOR BLADES IN L ENG. 2 BENT BLADES APPX 2 1/2 INCHES DOWN FROM TIP WITH  DEFLECTION OF 1 1/4 INCH',\n",
       "       \"CREW ADZ BY MINNEAPOLIS CENTER TO BE AWARE OF BIRD ACTIVITY. CREW AWARE OF AFD REMARKS : WILDLIFE HAZARD ON FIELD. SAW 4 DEER ON SIDE OF RWY. 3 RAN AWAY, 1 TRIED TO CROSS RWY. DEER HIT ABOUT 6' FROM RT WING ROOT AND WENT UNDER WING. PAX'S NOT AWARE OF STR\",\n",
       "       'MINOR DAMAGE. BIRD CRACKED GEL COAT ON LEFT ENG COWLING.',\n",
       "       'ON T/O  I SAW A BIRD CLOSE BY THE A/C RIGHT AFTER ROTATION. WE DID NOT HEAR OR FEEL AN IMPACT. AFTER LDG AT BIL, NO DMG WAS NOTICED. 2 DAYS LATER, AN A/C CLEANER FOUND EVIDENCE OF A BIRDSTRIKE ON BOTTOM OF L ENG INLET.',\n",
       "       'DMGD INBOARD OF L WING SLAT. DENT. STRIKE LOCATION WAS UNKNOWN AND EVIDENCE WAS FOUND DURING POST FLT INSPN. PILOT MENTIONED SEEING A BIRD THAT MATCHED A GREAT BLUE HERON. AIRPT OPS RECOVERD A HERON CARCASS FROM 27L.',\n",
       "       'ID BY SMITHSONIAN, FAA 4085. DNA. SHORTLY AFTER ROTATION ABOUT 6 BIRDS WERE SPOTTED BY PILOT FLYING. 1 WAS INGESTED INTO L ENG. NO ADVERSE INDICATIONS ON ENG. FLT WAS COMPLETED SAFELY. STRIKE WAS REPTD TO TWR VIA PHONE AFTER LDG. CONTROLLER WAS UNINTEREST',\n",
       "       \"BIRDS WERE SEEN BY PRECEDING A/C IN THE INFIELD AT V1 THE WHOLE FLOCK MOVED INTO OUR PATH. WE COULDN'T HAVE AVOIDED THEM EVEN IF WE REJECTED T/O. A/C REMAINED IN TRAFFIC PATTERN & REQSTD IMMED RETURN. OVER 100 GULLS WERE SEEN THE NIGHT BEFORE, CIRCLING OV\",\n",
       "       'ENG WAS CLEANED OF BIRD DEBRIS. NO FURTHER WORK WAS REQUIRED.',\n",
       "       'BIRD HIT WINDSHLD, BOUNCED OFF AND HIT 2 ANTENNAS ON TOP OF A/C. ONE WAS REPLACED.',\n",
       "       'ID BY SMITHSONIAN. NO DMG. NO INJURIES.',\n",
       "       '7 STRIKES, 2 DENTED RT WINGSLEADING EDGE. 12 MILES EAST OF OSCEOLA.',\n",
       "       \"ID BY SMITHSONIAN, FAA 7037. DNA. IN LDG FLARE, BIRD WAS SEEN AND IMMEDIATELY HIT SIDE WINDSCREEN ON CAPT'S SIDE AS IT TRIED TO ESCAPE THE PATH. STRIKE WAS OVER WATER. SFO ARPT OPS CAME TO GATE & TOOK DNA SAMPLE FROM WINDOW.\",\n",
       "       'ABORTED LANDING AT KUPARUK. ENGINE SHUTDOWN AND SECURED. DIVERTED FLT TO DEADHORSE, AK W/O FURTHER INCIDENT',\n",
       "       'ATIS WARNING. ID BY SMITHSONIAN FAA 925. #1 ENG NOSE COWL LIP DENTED BEYOND LIMITS. FERRY FLT TO DEN FOR REPAIR. 1 FLT DELAYED. 1 FLT CANCELLED. TOTAL COST REPTD AS $158,000.',\n",
       "       'ID BY SMITHSONIAN, FAA 2427. FLEW THROUGH A FLOCK OF BIRDS ON APCH. FOUND BLOOD SMEAR ON LE OF LEFT HORIZ STABILIZER. ARPT SECURITY COLLECTED BLOOD SAMPLE. NO DMG.',\n",
       "       'DMG TO LE OF VERT STABIL. ABOUT 2\\' FROM THE TOP. AREA OF DMG WAS 14\\' TALL, 3-4\" WIDE AND 3\" DEEP. NO CRACKS OR OTHER STRESS NOTED DURING VIS INSPN. DENT IN METAL. FOUND SML, GRAY, DOWNY FEATHERS. PHOTO ATTACHEDTO REPT.',\n",
       "       'HIT UNSEEN BIRD ENTERING DOWNWIND LEG AT PATTERN ALT. FLT CHARACTERISTICS SEEMED NORMAL ON LDG. NO REMAINS FOUND.',\n",
       "       'INSPN FOUND NO DMG. COST FOR INSPN $1500.',\n",
       "       'BIG BLACK POSSIBLE A VULTURE.',\n",
       "       'LE OF WING DMGD. DENT10\" LONG BY 2-3\" DEEP.',\n",
       "       'Bird impacted between the #7 and #8 engine with some remains injested in the #7 engine.  Borescope revealed no damage. The right teardrop radome replaced due to damage($5896.34)\\r\\n                labor  $  16.00\\r\\n                Cost   $5902.34',\n",
       "       'BIRD CRACKED NOSE CONE.  RENTED ONE UNTIL REPAIRS WERE MADE. MAY TAKE A FEW MONTHS.',\n",
       "       'HIT AT LEAST 3 BIRDS. BLOOD ON #1 ENG COWLING, L FLAP AND RT FRONT FUSELAGE. ARPT TYPICALLY HAS A FLOCK OF BIRDS BUT THEY ARE NOT REALLY CLOSE TOGETHER. EVERY TIME THE CREW HAS FLONW THAT PATTERN THERE ARE QUITE A FEW HERE. NO DMG. COST FOR 1 HR INSPN.',\n",
       "       'LEADING EDGE OF WING DAMAGED. PHOTOS. PAX SAID THE BIRD WAS VISIBLE DURING THE ENTIRE FLT. A PILOT CAME OUT OF THE COCKPIT TO LOOK.',\n",
       "       'NO DMG. SMUDGE ON RADOME BUT NO SAMPLE COLLECTED BY MX. WS EMAILED PILOT TO ENCOURAGE HIM TO HAVE A SAMPLE COLLECTED IN THE FUTURE TO HELP DETERMINE SPECIES OF BIRD. LOCATION REPTD AS 14 MILES INTERCEPTING FINAL.',\n",
       "       'HAWK WAS ON CENTERLINE. WE HIT IT AT V1 AND CONTD T/O. FLEW 27 MILES NORTH TO PTK AND LANDED W/O INCIDENT. HIT & BROKE L LDG LIGHT. TRIP WAS CANCELLED AND MX REPLACED ENTIRE LIGHT.',\n",
       "       'ID BY SMITHSONIAN, FAA 3477. PILOT NOTICED A BIRD, BELIEVE TO BE A RED-TAILED HAWK FLYING INTO THE ENGINE AS THE PLANE TOOK OFF. THE CREW DECLARED AN EMERGENCY, LEVELLED OFF AT 3000 FEET , SHUT THE ENGINE DOWN AND RETURNED TO LAND SAFELY A FEW MINUTES LAT',\n",
       "       'Post flight borescope of the #2 engine revealed damage NRTS. (Engine exchange cost $342747.00 plus $128 labor).  Additional strikes to the #4 flap and left wing leading edge caused no damage.',\n",
       "       'SAW BLUR LESS THAN 1 SECOND BEFORE IMPACT. CLEAR, MOONLIT NIGHT. BIRD CAME FROM DARK, FOREST AREA. HIT RT WING JUST OUTSIDE RT FUEL TANK. DMG TO RT WING. BELIEVE IT WAS A CANADA GOOSE.',\n",
       "       'COST ESTIMATED BETWEEN $10-20,000. LEADING EDGE OF WING AND FLAP DAMAGED. PLANE WAS FLOWN TO MI FOR REPAIRS.',\n",
       "       'DAMAGED FRONT FAN ON RT ENG. 12 BLADES REPLACED. NO GULLS HAD BEEN SEEN ON THE AIRPORT ALL MORNING. THIS WAS A SINGLE GULL, NO FLOCK IN SIGHT.',\n",
       "       'ATIS CALLED FOR BIRDS IN AREA. FLOCK OF SML BIRDS FLEW DIRECTLY IN FRONT OF A/C. DURING T/O ROLL AFTER  VI BUT BEFORE ROTATE. MULTIPLE IMPACTS HEARD ON UNDERSIDE OF NSOE AND RADOME. T/O UNEVENTFUL. NO INDICATIONS ON INSTRUMENTS OR SMELL TO INDICATE INGEST',\n",
       "       'GULL OR CROW. WINDOW SMACKED BY BIRD AND OUTER HEATING ELEMENT DAMAGED BY IMPACT AND OVERHEATED.',\n",
       "       'ID BY SMITHSONIAN, FAA 2464. #2 ENG INLET. BIRD HIT UPPPER SURFACE, BROKE IN HALF, HALF WAS INGESTED. A/C OUT OF SVC 12 DAYS. PILOT INFORMED TWR OF STRIKE ON 3MILE FINAL. BIRD WAS THOUGHT TO BE A GULL OR A GOOSE. 3 FAN BLADES WERE BENT. REPLACED ENG INTAK',\n",
       "       'HIT FUSELAGE JUST ABOVE PILOTS WINDOW.',\n",
       "       'LOCATION REPTD AS 10 NW KRDU.',\n",
       "       'DMG TO BOTH PROPELLER ASSEMBLIES REQUIRING REPAIR & ENG TEARDOWN FOR INSPN.',\n",
       "       'NO DMG. COST FOR INSPN.',\n",
       "       'ID BY SMITHSONIAN. FAA 4223. DNA. DMG REPTD TO ENG INLET ON #1 ENG BY CAS. ALLEGIANT AIR MX HAD TO FLY ANOTHER A/C AND TRANSPORT MX AND A SPARE PART FROM LAS VEGAS. PILOT INDICATED THAT THE STRIKE OCCURRED DURING T/O AND NOT REALIZED UNTIL THE REMAINS WER',\n",
       "       'DMG TO #1 ENG THRUST REVERSER BLOCKER DOOR IS UNREPAIRABLE. WILL BE REPLACED. FOUND DURING POST FLT WALK AROUND. CREW UNAWARE OF STRIKE. THIS PART IS ONLY DEPLOYED DURING LANDING ROLL. DMG WAS TEMP REPAIRED. TIME OUT OFSERVICE REPTD AS 1.5 HRS AND 14 HRS.',\n",
       "       'TIME OUT OF SVC ABOUTA WEEK. DID NOT SEE BIRDS UNTIL i WAS ON THEM. THEY JUST BEGAN TO REACT.',\n",
       "       'ID BY SMITHSONIAN. BOTH SETS OF REMAINS SAME SPECIES. PILOT  REPTD SEEING 2 BIRDS IN HIS PATH & FELT A VIBRATION IN THE RT ENG. THE GENERATOR WAS MALFUNCTIONING. A PAX REPTD SEEING A FIREBALL AND SMELLING SOMETHING BURNING.  EMERGENCY LDG. #2 ENG WAS SEVE',\n",
       "       'CRACK IN ENG NACELLE. SWA MX REPAIRED ENG WITH COSTS AND OUT OF SERV TIME TBD. NO SAMPLE COLLECTED FOR ID. SMO 070/10.',\n",
       "       \"DID NOT SEE ANY DMG ON A/C WHILE AT ORD. WHEN WE GOT HOME, NOTICED A DAMAGED FLAP. (THREE REPORTS SHOWEDAPPROACH BUT TWO HAD ALT AT 3' AND 100' - TOOK PILOT'S REPORTED ALT. ARPT BIO SHOWED LDG GEAR STRUCK BUT PILOT INDICATED FLAP WAS STRUCK AND DAMAGED)\",\n",
       "       '',\n",
       "       '$1200 for inspection repairs, $2600 in charter fees. (data entry note: no damage was reported.',\n",
       "       'LARGE BIRD, POSSIBLY A GOOSE. SATCOM ANTENNA COVER WAS DAMAGED ON TOP OF THE TAIL. COVER WAS REPLACED.',\n",
       "       'FLOCK OF SML BIRDS WERE SITTING IN THE T/D ZONE. UPON T/D, FLOCK TOOK FLT. WE INGESTED 4-5 BIRDS. 8 BLADES WERE DAMAGED.',\n",
       "       'DEER DAMAGED THE WING FLAP ONLY. DEER WAS SEEN LEAVING BUT PROBABLY JUST FAR ENOUGH TO DIE JUDGING FROM THE DAMAGE SEEN. A/C WAS FERRIED TO A REPAIR FACILITY ABOUT 2 WEEKS AFTER THE ACCIDENT. (DATA ENTRY NOTE: ASSUME TIME OUT OF SVC AT A MINIMUM OF 2 WEEK',\n",
       "       'DMG TO LEADING EDGE OF L WING OUTBOARD. A/C OUT OF SERVICE ABOUT 10 WEEKS.',\n",
       "       'ID BY SMITHSONIAN, FAA 2327. CRACK IN LEADING EDGE OF L WING',\n",
       "       'BLACK/GRAY BIRD. A/C HANDLED NORMALLY. CONTD TO CLOSE-BY DESTINATION. NOTIFIED TWR FOR OTHER A/C ABOUT TO DEPART. BIRD HIT APPROX 3/4 WAY DOWN RWY ON CENTERLINE. FOR OTHERS SAFETY, REQSTD RWY CHECK FOR ANY CONTAMINATES. RWY REPTD AS 33, THERE IS A 34 BUT',\n",
       "       'COST FOR INSPN. BLOOD FOUND ON RADOME.',\n",
       "       'GULL POSSIBLY, WHITISH IN COLOR. HIT LWR HALF OF RADOME ON L SIDE ABOUT 1\\' BACK FROM TIP OF NOSE. SLIGHT STRUCTURAL DMG WITH 1\" DIAMETER CHIP OF PAINT REMOVED AND CRACKED PAINT AROUND PERIMETER OF IMPACT ZONE.',\n",
       "       'WS BIOL SAID BIRDS WERE PROBABLY MOURNING DOVES.  POST FLT FOUND ONE FAN BLADE BENT. REPLACED.',\n",
       "       'ID BY SMITHSONIAN. FAA 6450.  DNA. 2 N1 FAN BLADES HAD TO BE REPLACED. SOME REMAINS APPARENTLY WERE LODGED IN THE NOSE WHEEL AND FELL ONTO RWY 1 AS A/C SLOWED TO TURN OFF RWY. STRIKE WAS ABOUT 14/ TO 1/2 MILE FROM RWY. PHOTO INDICATED AT LEAST 6 IMPACT AR',\n",
       "       'NO BIRD WAS SEEN. DMG TO RT WINDSHLD PANEL WAS CONSISTENT WITH STRIKE BY A LARGE BIRD, BUT NO REMAINS WERE FOUND ON THE A/C. FAA AND INSURANCE ADJUSTER INSPECTED AND OFFICIALLY LISTED THIS AS A BIRDSTRIKE.',\n",
       "       'BIRD HIT SQUAT SWITCH LINKAGE ON RT MAIN LDG GEAR. GEAR WOULD NOT RETRACT DUE TO DAMAGE.',\n",
       "       'NO DAMAGE. FLT CANCELLED. BORESCOPE INSPN. COST WAS FOR INSPN.',\n",
       "       'ATIS WARNING. BIRD DMGD RADOME UPON INSPN AT DEST ARPT. DID NOT PENETRATE THE DOME BUT CRACKED THE INNER LAYERS OF FIBERGLASS ON INTERIOR OF DOME. NO OTHER DMG FOUND ON A/C. LOCATION REPTD AS ONE MILE N OF DER 34.',\n",
       "       'ID BY SMITHSONIAN FAA 2955. SPECIES WAS EITHER MALLARD OR BLACK DUCK. DNA ANALYSIS UNABLE TO DISTINGUISH BTWN THESE TWO CLOSELY RELATED SPECIES. MALLARD MORE COMMON OCCURRENCE. AVG WT 1735G. HIT FUSELAGE IMMED ABOVE CO/P WINDSCREEN. COUPLE OF MINOR PAINT',\n",
       "       'TWO LEFT WING, ONE ON #1 ENG , TWO RT WNG. COST WAS FOR CONTACT MECHANIC INSPECTION. NO DMG. ONLY CLEAN UP.',\n",
       "       'BIRD OR BIRDS WERE NOT SEEN BY CREW. RADOME WAS POINT OF INITIAL IMPACT. PAINT WAS COMPLETELY DISLODGED FROM IMPACT AREA IN AJAGGED EDGED SHAPE AOBU 14\" IN DIAMETER. THE INBD TKS PANEL ON THE LF WNG LE WAS SLIGHTLY DENTED. DUE TO DMG TO INTRICATE PLUMBING',\n",
       "       'WINDSCREEN BROKEN, 5 BY 15 \" DENT IN L WING. A/C FERRYABLE. NO INJURIES.',\n",
       "       'PILOT SAW  A DEER RUN TOWARD AC. L FRONT NOSE DAMAGED. PITOT TUBE RIPPED FROM AC. DEER BOUNCED OFF JET AND RAN INTO WOODS. CREW DESCRIBED DAMAGE AS MODERATE.',\n",
       "       'NO DMG. ARPT HAD NO INFO ON THIS. HIT 5 SML BIRDS ON DEPTR (ASSUME TAKE OFF RUN). NO REPTD DMG. FLT CONTD.',\n",
       "       'LEADING EDGE OF RT WING DENTED. BIRD ID NOT VERIFIED BUT SUSPECTED.',\n",
       "       'NO DMG. INGESTED ONE. HIT 6-8 ON FINAL APCH. . BORESCOPED. COST REPTD FOR INSPN.',\n",
       "       \"FLATTENED LEADING EDGE OF WING ABOUT 2' INBD FROM WINGTIP.\",\n",
       "       'BIRD WAS LODGED IN OUT FLAP OF RT WING. FLAP AND UNDERSIDE OF WING DENTED.',\n",
       "       'LEADING EDGE DAMAGE TO L HORIZ STABIL', 'L WING LE WAS DAMAGED.',\n",
       "       '',\n",
       "       \"ID BY SMITHSONIAN. LEVEL AT 6,000' BEING VECTORED TO ARPT, SAW IT ENTER THE CONE OF LDG LIGHT AND STRIKE RADOME. NO EFFECT ON CONTROL OF A/C.\",\n",
       "       'NO DMG. NOISE HEARD IN CLIMB PHASE. BLOOD OBSERVED ON COPILOTS WINDSCREEN. PRECAUTIONARY LANDING TO ASSESS ANY DMG. NO DMG. A/C TAXIED TO RAMP W/O INCIDENT',\n",
       "       'ID BY SMITHSONIAN, FAA 2387 A-D.  USDA BIOL HELPED RECOVER REMAINS FOR ID.  PHOTOS. SHORTLY AFTER DEPTR, HIT MULTIPLE PELICANS ALT 2000-4000. 1 PENETRATD THE NOSE AREA JUST BELOW WNDSHLD CENTER POST, CONTINUED THRU THE FWD BULKHEAD AND DISPLACED THE #4 DI',\n",
       "       'DMGD RT LDG LIGHT LAMP AND DOOR.',\n",
       "       'On two-mile final during a no-flap approach, the pilot saw approx. four large birds just prior to impact.',\n",
       "       'L ENG CHANGED. INGESTION. (ENG MANU REPTS NO FAN BLADE DMG)',\n",
       "       'ID BY SMITHSONIAN, FAA 1857. LE OF RT WING WAS STRUCK. PILOT WAS IN A LEFT TURN DOWNWIND TO BASE. PART OF BIRD WENT THRU ENG AFTER STRIKIING LE OF WING. DAMAGE WAS SUBSTANTIAL. PHOTOS. NO ENG DMG. BORESCOPED. OTHER COST WAS FOR LOSS OF USE OF A/C AND TRAV',\n",
       "       'LOCATION REPTD AS 4NM E KSAN.',\n",
       "       'L WINGTIP LENS BROKEN, L NAV LIGHT MISSING LENS COVER.',\n",
       "       'CLEARED TO LAND 9R, SHORT FINAL, 300-200 FT AGL SAW BIRD AT LAST SECOND. TRIED TO AVOID BIRD, MISSED PROP AND STRUCK RIGHT ABOVE WINDSHIELD AND TOP OF FUSELAGE ON PILOT SIDE. NO AFFECT ON A/C. LANDED A/C, TAXIED TO RAMP TO INSPECT DMG. ONLY SMALL SCUFF MA',\n",
       "       '2 GEESE FOUND ON RWY.  1 STILL ALIVE BUT INJURED. DMG TO LE OF RT WING ON A/C.',\n",
       "       'Birds were observed departing away from airfield on short final.  On landing rollout, birds made an aggressive reversal back down the rwy on collision course with acft.  Bird strike was unavoidable.',\n",
       "       'A/C WAS OUT OF SERVICE < 1 HR.',\n",
       "       'RADOME REPLACED. A/C CALLED DOWN FOR REPAIR AND RE-ROUTED OFF PLANNED ROUTING.',\n",
       "       'ATIS WARNING. RADOME CRACKED, REPLACED.',\n",
       "       \"BIRD HIT BTWN WINDOW AND TOP OF FUSELAGE ON PILOT'S SIDE. LEFT A SML OPENING WHERE WINDOW AND FUSELAGE CONNECT. WINDOW HAD TO BE TAKEN OUT AND FUSELAGE STRAIGHTENED. NOT MUCH OF BIRD REMAINED.\",\n",
       "       'LRG SWALLOW OR SML PIGEON. WINDSHLD CLEANED & INSPCTD. TIME OUT OF SVC 1/2 HR.',\n",
       "       'PILOTS HEARD THUMP SOUND OF BIRDSTRIKE ON RADOME ON APRCH. NIGHT CONDITIONS SO THERE WAS NO VISUAL OF BIRDS. SUBSEQUENT APRCH UNEVENTFUL. POSTFLT REVEALED ENG DMG FROM INGESTED BIRD. ENG REMOVED.',\n",
       "       'LESS THAN ONE MILE FROM APRCH END. HEIGHT REPTD AS 300 TO 800 FT. TOOK AVG.',\n",
       "       'PROP WA DRESSED TO REDUCE NICK ON 1 BLADE',\n",
       "       'RT ENG NACELLE DEPARTED A/C AND HIT RT HORIZ STABIL. PILOT DID NOT SEE BIRD BUT AFTER LDG, WITNESS CALLED ARPT AND REPTD SEEING A/C HIT BIRD. REPLACED MISSING COWLING AND HORIZ STABIL.',\n",
       "       'PILOT REPTD FLOCK WENT OVER A/C EXCEPT FOR 1.  IT IHT BELOW NOSE. PILOT INITIATED \"GO AROUND\" CONCERNED ABOUT LDG GEAR DMG. FLY BY ATCT INDICATED NO DMG. HOWEVER, PILOT NOTED STRANGE ENG NOISE DURING POWER CHANGE. ENG SHUT DOWN UPON LDG. FOUND BIRD REMAIN',\n",
       "       'BIRD, BROWN BIRD. A/C WAS DESCENDING INTO PATTERN. PILOT SAW BIRD BUT WAS UNABLE TO AVOID IT. HIT WINDSCREEN NEAR THE TOP AND LEFT A FIST SIZED HOLE NEAR THE TEMP GAUGE. BUT DID NOT PENETRATE IT.  LANDED SAFELY  HAD TO FLY A TEAM IN TO REPLACE WINDSHLD.',\n",
       "       'IMPACT POINT ON DEICE BOOT ON TOP OF LEFT HORIZ STABILIZER. NO STRUCTURAL DMG. (DATA ENTRY NOTE: DATE NOT REPTD, ASSUME SAME AS DATE REPT WAS FILLED OUT. FLIGHTAWARE SHOW A/C LANDED ON 5/12/08 AND NOT 5/19)',\n",
       "       '', 'BIG DENT. NO BIRD REMAINS COLLECTED.',\n",
       "       'TIME OUT OF SERVICE 0.4 HRS.',\n",
       "       'REMAINS REMOVED FROM RWY. PILOT REPTD ICE DOOR SHUT AT TIME OF INCIDENT AND THAT MOST LIKELY KEPT THE BIRD OUT OF THE ENG. NO DMG OR INGESTION FOUND.',\n",
       "       'STRIKE NOT REPTD TO AIRPORT. ENG REQD BLADE REPLACEMENT.',\n",
       "       'ENGINE SURGED BRIEFLY AND RETD TO NORMAL. ENG REDUCED TO IDLE THRUST AS PRECAUTION. ENG WAS DESTROYED. DAMAGED THE REVERSERS AND PRESSURIZATION SYSTEM. FEATHERS WERE COMING OUT OF THE VENTS IN THE CABIN.',\n",
       "       'ID BY ARPT STAFF. HAWK IS RARE OF THIS LOCATION. HAWK HAD DEPTD RWY AFTER CATCHING PREY. AT T/O ROLL/ROTATION BEGAN, HAWK DROPPED PREY AND CAME BACK TO GET IT. STRIKE OCCURRED AT THIS TIME. WE CONTD T/O AND CAME BACK AROUND FOR PREC LDG TO INSPECT FOR DMG',\n",
       "       '10\" DENT ON RT WING LEADNG EDGE ABOUT 3\\' INBD FROM WING TIP.  LARGE HAWK. MINOR SKIN DMG. BIRD WAS DISCARDED BY FBO BEFORE ID COULD BE MADE.',\n",
       "       'DAMAGED L WING, DE-ICE BOOT, & L ENG AIR INTAKE.  BIRD WAS WEDGED IN AIR INTAKE. SEVERE VIBRATION IN L ENG. CLAMP FOR PROPS WERE BENT. GOVERNOR OF NEBRASKA WAS ON BOARD. BIRDS ID BY WS BIOL.',\n",
       "       'COST FOR LABOR ONLY. CREW HEARD LOUD THUD. LOTS OF DEBRIS ON LWR NOSE.',\n",
       "       'HIT 2 CANADA GEESE AND 1 RED-TAILED HAWK ON T/O. DMG L WING OTBD LE AND RT PITOT TUBE. PHOTOS.',\n",
       "       'COST WAS FOR INSPN & CLEANUP',\n",
       "       'DELAMINATED L FLAP. OPER - JET SERV',\n",
       "       'IMMEDIATELY AFTER T/D AND AFTER AIRBRAKES WERE DEPLOYED 3 DEER WERE SEEN ON RWY. 1 HIT OUR L MAIN LDG GEAR AND L INBD FLAP. CONTD LDG ROLL & STOPPED  NORMALLY. ALL FLT CONTROLS WERE LEFT N THE  LDG CONFIGURATION AND TAXIED TO THE RAMP. NO INJURIES. REMOVE',\n",
       "       'STRIKE OCCURRED AT VR. A STORM HAD PASSED ABOUT 1-2 HRS EARLIER. RWY WAS WET. NOTAM WARNING. PILOT INFORMED TOWER THEY HAD STRUCK SOME BIRDS DURING T/O. TWR NOTIFIED OPS. FOUND 3 DOVES, 2 ON CENTERLINE AND 1 IN GRASS. ID BY SMITHSONIAN, FAA 1566. REMAINS',\n",
       "       'DAMAGED DLG GEAR DOOR SQUAT SWITCH AND ROD. EXACT TIME OUT OF SERCIE UNKN. AT LEAST FROM  SEP 29 TO OCT 15TH.',\n",
       "       'HIT DEER ON T/O. PILOT IMMEDIATELY ABORTED T/O AND RETURNED TO THE RAMP AREA. LEFT WING, LOWER FUSELAGE, PROP AND LEFT MAIN  LDG GEAR WERE DAMAGED. REPTD AS SUBSTANTIAL. ENGINE WA OVERHAULED. WING AND DEICING SYSTEM WERE DAMAGED. REPAIR NOT COMPLETED AS O',\n",
       "       'SPARROW-LIKE BIRD. ENG IN DISASSEBLY NOW. DMG 1,000-2000 DEPENDING ON REPAIR/REPLACEMENT OF FANS/COMPRESSORS',\n",
       "       'BIRD HIT FWD EDGE OF WING JUST ABOVE & RT OF COCKPIT. DENTED LE 12\" WIDE AND 3\" DEEP. ATIS WARNING.',\n",
       "       'DID NOT DISCOVER STRIKE UNTIL ON THE GROUND NO DMG. ESTIMATE GOOSE. 1/2 HOUR OUT OF SERVICE.',\n",
       "       'BIRD WAS LODGED I NOSE LDG GEAR. DAMAGED HYDRAULIC LINE. COULD NOT TURN A/C TO THE RIGHT AND HAD TO BE TOWED TO GATE. FLUID WAS LEAKING AND SPRAYED THE FACE OF A GROUND CREW WHO WAS TAKEN TO THE HOSPITAL, EVALUATED, DEEMED OK AND RETURNED TO WORK LATER TH',\n",
       "       '', '',\n",
       "       'A/C PROCEEDED TO ORD WITH BROKEN LDG LIGHT.  SOME GLASS FOUND ON RWY. REPAIRED ON ARRIVAL.',\n",
       "       'WE WERE FLYING THE ELDEE FOUR RNAV ARRIVAL INTO DCA. BTWN ELDEE AND DMALL WE WERE GIVEN A DESCENT TO 6000 FT MSL. AIRSPEED WAS 250 KIAS. DURING DESCENT THE F/O SAW A VERY LGR BIRD FLASH PAST. IT WAS BRIEFLY ILLUMNATED IN THE LDG LIGHTS AND APPEARED TO BE',\n",
       "       '(DATA ENTRY NOTE: DMG COST REPTD AS $2,000, ASSUME IT BELONGED WITH OTHER COST SINCE NO DAMAGE WAS CHECKED. DID NOT RECEIVE REPLY FROM QUESTION SENT TO REPORTER)',\n",
       "       'BIRD HIT FUEL STRAINER DRAIN PROTRUDING FROM L LWR COWLING. IT BROKE THE STRAINER ENOUGH TO CAUSE FUEL PRESSURE LOSS, MASSIVE FUEL LEAK AND COMPLETE ENG FAILURE. PRECAUTIONARY LANDING.',\n",
       "       'NO DMG. LDG LIGHTS WERE ON. 20 MINS OUT OF SERVICE',\n",
       "       'BIRDS REPTD AS \"GULLS? SNOW GEESE? THEY WERE WHITE, IN FORMATION AND LOOKED ABOUT THE SIZE OF GULLS.\" ATIS WARNING. DARK RAINY NIGHT. F/O SAW THE FLOCK A SPLIT SECOND BEFORE WE HIT THEM. NO ENG DAMAGE AS FAR AS WE KNOW. ENG INDICTIONS REMAINED NORMAL. RT',\n",
       "       'NO DMG. RETD TO BWI AS A PRECAUTION BECAUSE SOURCE OF SMELL IN COCKPIT AND CABIN COULD NOT BE POSITIVELY IDENTIFIED.',\n",
       "       'BIRDS REPTD AS SMALL, SPARROW SIZE, SEVERAL OF THEM.',\n",
       "       'ID BY SMITHSONIAN. PILOT DESCENDING IN FULL FLIGHT CONFIGURATION. BIRD OBSERVED AT WINDSHLD LEVEL, FOLDED AND DROPPED. GLANCING IMPACT AT LOWER PART OF RADOME RESULTING IN DAMAGE TO PROTECTIVE FINISH. CONE REQUIRES FACTORY REPAIR/REFINISHING.',\n",
       "       'ID BY SMITHSONIAN, FAA 2258. BIRD(S) INGESTED IN RT ENG. DECLARED EMERGENCY SHUT DOWN RT ENG & RETD TO LAND. BASED ON ENG DMG AND DISTRIBUTION OF DEBRIS (INLET ACOUSTIC TREATMENT, 13 FAN BLADES DAMAGED AND REQD REPLACEMENT. ENG WAS NOT SHUT DOWN UNTIL ON',\n",
       "       'BIRD HIT RT SIDE OF WINDSCREEN ABOUT 8\" RT OF CENTER AND ABOUT 3\" ABOVE TOP OF COWLING AND OPENED A 1\\' DIAMETER HOLE ON RHS OF WINDSCREEN. EXCEPT FOR BLOOD AND A FEW FEATHERS, MOST OF BIRD REMAINED OUTSIDE AND WERE NOT RECOVERED. A/C CONTROLLABILITY WAS O',\n",
       "       'A/C HIT HAWK LANDING RWY 23 FIRST 1000 FT. DMG TO L WING BOOT, 1/2 IN HOLE. A/C GROUNDED UNTIL INSPN. A/C WAS FERRIED OUT FOR REPAIRS',\n",
       "       'DMG TO OUTBOARD L/E OF LT WING.',\n",
       "       'LOCATION REPTD AS APPROX 5NM FINAL.',\n",
       "       'SAW 3 GEESE. BIRD STRUCK WINDSHLD IN CORDOVA AK, SIGNIF DAMAGE. PART OF THE BIRD CAME INTO THE COCKPIT AND THE REST WAS HANGING OUTSIDE. NO ONE WAS HURT. FLEW IN MECHANICS TO REPAIR.',\n",
       "       '3 DEER SEEN, 1 STRUCK AND KILLED. SUBSTANTIAL DMG.',\n",
       "       'ATIS WARNING. 3 NM NW OF OMN ARPT. LARGE DENT ON PILOT SIDE LEADING EDGE TOWARD WING TIP.',\n",
       "       '8 PIGEONS HIT IN A FLOCK OF ABOUT 70. 5 DEAD, 3 INJURED. REMAINS CLAIMED BY OWNER. PIGEONS WERE TAGGED. NO TIME OUT OF SERVICE.',\n",
       "       \"WHITE BIRD. BLOOD SMUDGE ABOVE F/O'S WINDSHLD.\",\n",
       "       'NO DMG. BIRD DEBRIS ON FUSELAGE.',\n",
       "       'ABOUT 6 MILES SE OF CMH ON VISUAL APCH TO 28L WE HEARD A BIRDSTRIKE NEAR THE FLIGHT DECK. FOUND REMAINS OF BIRD JUST BELOW THE CENTER FLIGHT DECK WINDOWS.',\n",
       "       'PILOT HEARD LOUD THUMP ON LDG. FOLLOWED BY LOSS OF STEERING. COULD NOT KEEP A/C ON RWY WITH DIFF BRAKING AND REVERSE. PULLED OFF RT SIDE RWY.OWL SEVERED FRONT MAIN GEAR CABLE. A/C WAS DEPLANED & REMOVED FROM BAY. STEERING CABLE WAS REPLACED.  2 NOSE & 2 R',\n",
       "       \"DURING GEAR RETRACTION AFTER T/O, A LRG BIRD APPEARED IN FRONT OF A/C. DESCENDING FROM TOP RT TO BOTTOM LEFT IN FRONT OF COCKPIT. BIRD HIT WITH A LRG THUD UNDER PILOT'S  FEET. PREC LDG. INSPN FOUND NO DMG. REMAINS ID BY WILDLF BIOL AT ARPT.\",\n",
       "       'RETD TO ARPT AFTER INGESTING 24-30 STARLINGS. CABIN FILLED WITH INTENSE SMELL. MX AND DISPATCH NOTIFIED.  LANDED W/O INCIDENT. DEPLANED AT GATE.  L ENG TURBINE BLADE BENT BEYOND ACCEPTABLE LIMITS. ENG WAS REMOVED AND REPLACED. ALSO DMG TO PROP.',\n",
       "       'ID BY SMITHSONIAN.',\n",
       "       '3 DEER WERE CROSSING RWY. LAST ONE RAN INTO L PROP TWISTING ONE OF 3 BLADES. 3 MORE DEER WERE SEEN N OF RWY. PROP HAD TO BE OVERHAULED AND ENG HAD TO BE DISASSEMBLED FOR INSPN.',\n",
       "       \"1 BIRD HIT FUSELAGE AFT AND BELOW F/O'S SIDE WINDOW (R-2). INSPN BY CONTRACT MX. NO DMG. ROBIN-SIZED BIRD. COST $150 FOR MX. OUT OF SERVICE 20 MINS.\",\n",
       "       'FLOCK OF 4-5 BIRDS FLEW RT TO LEFT.  POSSIBLY SPARROWS. INSPN FOUND #2 ENG HAS 5 DAMAGED BLADES. 3 WERE BLENDED AND 2 WERE SCRAPPED. THE #4 & #7 TIRES WERE DAMAGED DUE TO THE ABORTED T/O.',\n",
       "       'DMGD RUBBER BOOT ON WING. SML HOLES PUNCHED IN IT BY BONES AND BEAKS AS THEY HIT LE OF WING. PATCHED AND DID NOT REPLACE AT THIS TIME.',\n",
       "       '3 GEESE WERE ON THE GROUND NEAR THE APCH END OF THE RWY. WHEN A/C LANDED, IT CAUSED THE BIRDS TO TAKE OFF AND FLY INTO THE GROUND ROLL PATH OF THE A/C. A 2\\' BY 6\" DENT WAS ON RT WING. MINOR DMG ALSO DONE TO RT PROP AND RT GEAR DOOR.',\n",
       "       'NEVER SAW IT.',\n",
       "       '2 TURKEYS. T/O ABORTED BEFORE V1. 3 CREW AND 50 PAX ONBOARD. #2 ENG INLET, INNER PANEL OF WINDSHLD AND AT 14 BY 4 INCH SECTION OF FUSELAGE SKIN JUST BELOW WINDSHLD WERE DAMAGED. TURKEY ENTERED THE COCKPIT SPRAYING GLASS AND  PIECES OF BIRD MATTER ON FLT C',\n",
       "       'OPS AGENT CONDUCTED PYROTECHNIC HARRASSMENT 10 MINUTES PRIOR TO STRIKE. BIRD STRUCK TOP OF NACELLE AND DEFLECTED INTO RT ENG. ARPT OPS AGNT RECOVERED ONE LEG AND ONE WING FROM RWY. ENG A TOTAL LOSS.',\n",
       "       'ONLY IMPACT ON A/C WAS BLOOD SMEAR ABOUT 3 X 5 INCHES ON FRWD WINDSCREEN.',\n",
       "       'CREW SAW BIRD. THOUGHT IT WAS A LRG HAWK WITH A 4+ FT WINGSPAN SITTING ON RWY. AS WE APCHD IT TRIED TO FLY. AFTER SEVERAL MANEUVERS THE BIRD PASSED BY THE COCKPIT ON L SIDE WITH VERY LOUD BANG AND ENG SURGE.  I CALLED ABORT AND CAPT EXECUTED THE ABORT AT',\n",
       "       'ID BY SMITHSONIAN, FAA 2979. HIT MEDIUM FLOCK OF BIRDS ON APCH TO 16R NEAR ILS 3 MILE MARKER. PILOT UNCERTAIN OF #  IN FLOCK. WEATHER CONDITIONS INCLUDED HEAVY FOG. A/C OUT OF SERVICE NUMEROUS DAYS. PHOTOS. DMG TO NOSE, PROP, RT STRUT AND L WING.',\n",
       "       'ESTIMATES ON MONETARY LOSSES ARE FROM COMPANY HQ. TE FLAP BENT, ALMOST PULLED OFF. ADDITIONAL COSTS WER FOR RENATAL VAN, MECHANICS, OVERNIGHT STAYS, USE OF ADDITIONAL AIRCRAFT. THEY BORROWED A FLAP FROM ANOTHER AIRCRAFT THAT IS CURRENTLY FOR SALE AND NOT',\n",
       "       'STRUCK JUST BELOW F/O WINDSHIELD. WAITING ON DETAILS OF DMG. MINIMAL BY CAPT DESCRIPTION. MX HAS A/C. INSPECTION IN PROGRESS.',\n",
       "       'LOCATION REPTD 35 MILES FROM LAX. ABOVE F/O WINDSCREEN. NO DMG REPTD OR SAMPLE COLLECTED BY MX. NO DMG REPTD OR SAMPLE COLLECTED BY MX. WS TOLD BY MX THEY DID NOT KNOW THAT BLOOD OR SNARGE SAMPLES COULD BE COLLECTED FOR ID. A/C OUT OF SERV TIME REPTD AS 4',\n",
       "       'BIRD REMAINS SPLATTERED ON CAPT WINDSCREEN. LOCATION REPTD AS 6 MILES W KAUS.',\n",
       "       'BIRD HIT LT ENG INBOARD EXHAUST STACK, DEFORMING STACK AND CAUSING A SMALL TEAR IN THE MATERIAL. MINOR PAINT DMG DUE TO HEAT ESCAPING FROM TEAR. ENG CONT TO OPERATE AND WAS NOT SHUT DOWN. PILOT NOTED HIGHER THAN NORMAL ITT ON GRND BUT WITHIN LIMITS. EXHAU',\n",
       "       'BIRDS REPTD AS GULLS ON 1 FORM AND GOOSE ON ANOTHER. DMG TO ENG INLET REQD IMMED. REPAIR. NO ENG IRREGULARITIES',\n",
       "       '# STRUCK NOT REPTD, ASSUME 1, SAME AS # SEEN. PHOTOS OF WING DMG SENT. LRG BIRD WAS LODGED IN WING AND LARGE DENT ON LEADING EDGE. FEATHERS WERE VERY LIGHT BROWN AND WHITE AND NOT VERY LARGE.',\n",
       "       '', 'DMG FOUND ON RADOME.',\n",
       "       'ID BY SMITHSONIAN, FAA 5206, DNA AND MICRO. 7 SAMPLES ALL SAME SPECIES. PILOT REPORTED HE WAS DESCENDING THRU ABOUT 4,000 FEET IN IMC WHEN HE SAW A BLACK FLASH AND HEARD AND FELT A TREMENDOUS THUD. AFTER ASSESSING THE DAMAGE, THE FLT CREW DECIDED TO RETUR',\n",
       "       'F/O SAW BLURRED IMAGE PASS OVER HIS FWD WINDSCREEN AS WE HEARD A LOUD POP. A/C & ENGS HAD NO ILL EFFECT. INSPN FOUND NO DMG.',\n",
       "       'NOTHING BECAME OF THE MINOR STRIKE. THE APPROVED ENTRY PROCEDURE FOR ENTERING THE GFK AREA FROM THE NE TAKES PLANES DIRECTLY OVER A CITY SEPTIC RESERVOIR WHICH THE BIRD LOVE.',\n",
       "       'RT ENG CHIN COWL IS DENTED. EVIDENCE OF BIRD PASSING THRU RT PROP, BUT NO DMG.',\n",
       "       'SOURCE = AAIPN & NTSB ATL02LA040 & 5200-7',\n",
       "       'NOTAM WARNING. RT WING OTBD VORTILON HAD SLIGHT DMG. TRAILING TIP OF VORTILON BENT. NO EFFECT ON FLT. RWY WAS LCOSED FOR 10 MINS AND 1 A/C HAD TO GO AROUND. BIRD REPTD BY PILOT AS BLUE HERON, ASSUME GREAT BLUE HERON. ARPT WILDL TECH ALSO REPTD GREAT BLUE',\n",
       "       'LANDING LIGHT LENSE.',\n",
       "       'BIRD HIT RT WING AT MID-POINT. DENTED LE 8\" X 2.5\" X .25\"',\n",
       "       'ID BY SMITHSONIAN, FAA 4199. PEREGRINE FALCON - WHOLE FEATHER, AND MOURNING DOVE - DNA. PILOT REPORTED STRIKE ON ROTATION. CONTD WITH TAKE OFF BUT AT 10,000 FEET REPTD SEVERE VIBRATION IN ENG. RETD TO LAND W/O INCIDENT.',\n",
       "       '', 'NOTAM WARNING. 2 BIRDS. DENT IN OUTSIDE LE',\n",
       "       '8 NM FROM ARPT.',\n",
       "       'ID BY SMITHSONIAN, FAA 3739. WHOLE FEATHER AND DNA. ON DOWNWIND FOR 32L (TEMP RWY AT LMT DURING CONSTRUCTION) AT APPROX 1500 FT AGL WE HEARD AND FELT A  LOUD THUMP. CONTD APCH & LANDED NORMALLY. NOTICED DAMAGE TO LEFT SLAT DURING POST FLT INSPN. DIRECTOR',\n",
       "       'ID BY SMITHSONIAN. CREW SAW 4 LARGE BLACK BIRDS. RADOME DAMAGED BEYOND REPAIR. PRESSURE BULKHEAD TORN AWAY FROM FUSELAGE IN ONE 6\" TO 8\" AREA. A/C WAS FLOWN TO DFW FOR REPAIR. REMAINS WERE RECOVERED FROM THE RADOME. STRIKE WAS 3-5 MILES S OF ARPT. NO REMA',\n",
       "       'BLOOD AND FEATHERS. NO DMG. TIME OUT OF SERV = 1/2 HR.',\n",
       "       'ON SHORT FINAL. BIRD CAUSED A 3\" VERTICAL CREASE ON THE LEADING EDGE OF RT WING. 1/4\" - 3/8\" DEEP.',\n",
       "       'PELICAN WAS COLLECTED FROM END OF RWY 14. STRIKE CAUSED DMG TO ENG INJECTOR. (UPDATED COST 4/23/07)',\n",
       "       'ID BY SMITHSONIAN, FAA 183 &189. DAMAGE TO RT WING LE, #2 ENG COMPRESSOR BLADES AND NOSE JUST BEHIND RADOME. REPLACED ENG DUE TO NUMEROUS COMPRESSOR AND FAN BLADES DMGD & INLET DMG. REPLACED FWD E & E DOOR.  RT ENG FAILED. AIRLINE & ARPT SENT REMAINS.  OT',\n",
       "       'BIRD LEFT SOFTBALL SIZED DENT IN L WING. (DATA ENTRY NOTE: BIRD REPTD AS GOOSE, ASSUME CANADA GOOSE FROM DATE) PILOT BELIEVES A/C WAS OUT OF SERVICE FOR A MONTH. THIS WAS A LEASED A/C.',\n",
       "       'CRACKED WINDSHIELD. A/C LANDED OUT OF PRECAUTION. GLASS COCKIT WAS BROKEN AND NEEDED REPLACEMENT. REMAINS OF BIRD WERE COLLECTED AND SENT IN TO THE IDENTIFCATION LAB FOR ANALYSIS. (DATA ENTRY NOTE: SMITHSONIAN DID NOT RECEIVE REMAINS)',\n",
       "       \"9 CARCASSES FOUND. BOTH FLAPS WERE BROKEN, 1 WAS BARELY HANGING ON. AT 60 ' AGL, PILOT PULLED UP, BANKED AND LANDED FROM OTHER RWY. THIS WAS ALMOST A FATAL MISTAKE AS WAS SEEN THE BY AFTERMATH AND THE SEVERELY COMPROMISED FLAPS. (LETTER SENT TO OPERATOR F\",\n",
       "       'FLT 1493 STATED HE FLEW THRU A FLOCK OF ABOUT 50 TRUMPETER SWANS. OCCURRED OVER ARPT PROPERTY. ENG REPLACED. INGESTION. PREC. LDG. BENT BLADES, TEMP INCREASED. HIT INLET FIRST. RETD TO LAND',\n",
       "       '',\n",
       "       'RT WING L/W SLAT WAS EXTENDED AND THE BIRD DAMAGED THE SLAT AND THE L/W OF WING. PILOT REPTD A FLUTTERING SOUND AND SMALL VIBRATION IN CONTROL YOKE. A/C DID NOT LOSE ANY CONTROL EFFECTIVENESS. DATA ENTRY NOTE: # STRUCK NO REPTD, ASSUME 1, SAME AS # SEEN.',\n",
       "       'NO DMG. PREC ENG INSPN AT DESTINATION.',\n",
       "       'DMG TO RADOME, ABOUT 18\" MINOR.', '#2 ENG INGESTED A BIRD.',\n",
       "       'ID BY SMITHSONIAN. HIT BIRD ON 1.5 MILE FINAL. DMG TO ENG COWLING. A/C FERRIED OUT FOR REPAIRS IN PHX.',\n",
       "       '',\n",
       "       'APPEARED TO BE LARGE HAWK OR BUZZARD. SUBSTANTIAL DMG TO LEADING EGE OF VERTICAL FIN. SHEET METAL TORN OPEN.',\n",
       "       'STRUCK DEER DURING TOUCHDOWN. SOME EVIDENCE THAT DEER HAD CONTACT WITH PROPELLER BEFORE BEING STRUCK BY THE WING. LEFT WING DENTED AND FUEL TANK RUPTURES. EMERGENCY VEHICLES FROM STILLWATER FIRE DEPT WERE CALLED TO HANDLE SPILL.',\n",
       "       'A/C LIGHT WAS BROKEN.',\n",
       "       'INGESTED SML BIRD IN #1 ENG. REPTD BY GROUND CREW TO OPS. FOUND BY A/C MX. ENG WAS BORESCOPED. NO DMG FOUND. ESTIMATED COST WAS $8,000 - 9,000.',\n",
       "       'ID BY SMITHSONIAN. FAA 4771. WHOLE FEATHER. TWO DENTS IN LT INBOARD SLAT.',\n",
       "       'ID BY SMITHSONIAN. INGESTED INTO #2 ENG. FOUR FAN BLADES DMGD.',\n",
       "       'HIT BIRD IN REDUCED VISABILITY (ABOUT 4 MILES) RAIN. DID NOT SEE BIRD UNTIL LAST MOMENT. ONLY REALIZED STRIKE HAPPENED AFTER LDG DURING POST FLT INSPN. BIRD WAS INGESTED INTO #2 ENG WITH NO DMG NOTED DURING BORESCOPE. UNABLE TO RECOVER ANY USABLE FEATHERS',\n",
       "       'BIRD IMPACTED L WING ON CLIMB OUT. NO INJURIES AND PILOT RETURNED TO LAND ON 28R.',\n",
       "       'NO REMAINS.', '',\n",
       "       'MAJOR STRUCTURAL DMG - WING SPAR AND LDG GEAR. NO INJURIES. DEER KILLED INSTANTLY. NUMEROUS WILDLIFE NOTED ON FIELD AFTER INCIDENT, COYOTES AND DEER. INSTRUCTOR AND \"STUDENT\" PILOT (CERTIFIED PVT PILOT SINCE 1985). A/C OUT OF SERVICE 4 MOS.',\n",
       "       'LOWER SIDE OF #2 ENG INLET WAS DAMAGED',\n",
       "       'LINING UP ON 10 MILE FINAL AT 3000 FT MSL. HERD/FELT THUD AT OUR FEET. NEVER SAW BIRDS. POSTFLT INSPN DISCOVERED BLOOD SPLATTER BOTTOM RT SIDE NOSE JUST UNDER COCKPIT. NO APPARENT DMG NOTED. MX INSPN CONFIRMED NO DMG. BLOOD SMEAR ONLY EVID. TYPE OF BIRD U',\n",
       "       'SAW POSSIBLE DEER ON 1ST LDG APCH. CONDUCTED DEER PASS IN ATTEMPT TO SCARE AWAY DEER. NONE SEEN ON 2ND APCH. WHILE LOWERING NOSE AFTER LDG, DEER RAN TWD L SIDE AND HIT PROP/ENGINE. DEER WAS CUT IN HALF. LWR L SIDE OF COWLING WAS DENTED AND MUFFLER/EXHAUST',\n",
       "       'PILOT REPTD SEEING OSPREY WITH SOMETHING IN ITS MOUTH. BIRD WAS LODGED IN RT MAIN LDG GEAR. A/C WAS ABLE TO LAND SAFELY AND TAXI TO PARKING. A/C IS GROUNDED FOR ABOUT A DAY AND A HALF UNTIL REPAIRS TO CABLE CAN BE MADE. OTHER AIRCRAFT FLOWN IN TO REPLACE',\n",
       "       'NO DMG',\n",
       "       'FLT 77. #2 ENG FAILED. EXTENSIVE FOD DMG TO STAGES 1-8 COMPRESSOR AND STATORS. PILOT DECLARED EMERGENCY & MADE A PREC LDG AT WILLOW RUN ARPT IN DETROIT W/O INCIDENT',\n",
       "       \"HEARD IMPACT IN FLT. HIT NEAR PITOT TUBE. FOUND IMPACT MARK ON POSTFLT. BIRD BLOOD, ETC. NO DENT OR DMG.  REPT FROM AIRSIDE AGENT INDICATED 100' ON APCH TO 9L AND THAT NO MARKS WERE FOUND.\",\n",
       "       'NO PHOTOS TAKEN OF DMG',\n",
       "       'SAW BIRD IN LDG LIGHTS. HEARD  STRIKE NEAR COCKPIT. FOUND REMAINS ON STALL VANE ON RT SIDE.',\n",
       "       \"HEARD A THUMP BELOW PILOT'S WINDOW. FOUND RED STREAK ON POST FLT INSPN. ABOUT 2 X 10 INCHES. ENGS NORMAL.\",\n",
       "       'ID BY SMITHSONIAN FAA 398.  APPROX 30 MINUTES AFTER SUNDOWN, A FLOCK OF ABOUT 20 SIZEABLE BIRDS CAME INTO RANGE OF THE LDG LIGHT. THERE WERE 3-4 DIRECT HITS TO FUSELAGE, WING LDG GEAR AND PROP. BIRDS WERE NOT SEEN UNTIL ILLUMINATED BY LDG LIGHT.  SPLATTER',\n",
       "       'ID BY SMITHSONIAN, FAA 2506. PILOT REPTD STRIKING LRG BIRD, PROB. A HAWK. #2 ENG WAS SHUT DOWN DUE TO VIBRATION. 165,000 LBS OF FUEL WAS DUMPED ($100,000). DECLARED AN EMERGENCY AND RETD TO ORD. AT LEAST 5 BLADES HAD SIGNIF DMG. A/C WAS REPLACED CAUSING A',\n",
       "       'COULD NOT SEE DMG ON INSPN AFTER LANDING. LEARNED OF DMG ON SUBSEQUENT DEPARTURE WHEN VIBES WERE HIGH.',\n",
       "       'A/C RETD TO LAND AFTER REPORTING A BIRDSTRIKE. ARFF RESPONDED. REPTD DMG TO RADOME. TAXIED TO RAMP W/O INCIDENT. (DATE ALSO REPTD AS OCT 11 ON 5200-7) (DATA ENTRY NOTE: BIRD REPTD AS GOOSE, ASSUME CANADA FROM DATE AND LOCATION.)',\n",
       "       'NO DMG TO A/C. JUST A LARGE SPLAT ABOUT 8 INCHES ROUND ON CAPT WINDSCREEN. LOCATION REPTD AS 20 MILES W OF HOLID INTXN ON THE LOCALIZER TO 9L KFLL.',\n",
       "       'NO DMG',\n",
       "       'BIRD APPEARED TO BE A SMALL SPARROW. A/C TIME OUT OF SERV = 0.5 HRS.',\n",
       "       'BIRD DOVE FROM ABOVE OUT OF SIGHT AND STRUCK A/C NOSE. A/C WAS IN TRAFFIC PATTERN WITHIN 1 MILE OF ARPT. REPLACED SKIN ON A/C. PHOTO.',\n",
       "       'AT ROTATION, TWO LARGE FLOCKS OF SMALL BIRDS ROSE OFF RWY AND SPLIT DIRECTIONS AS WE WENT THOUGH VARIOUS HITS ON WINDSCREEN AND NOSE AREA. NO DMG.',\n",
       "       'ID BY SMITHSONIAN, FAA 4181, DNA. PILOT REPTD BIRDSTRIKE DURING T/O. RETD TO APRT. VIBRATION /NOISE STOPPED AFTER REDUCING THRUST ON AFFECTED ENG. UPON INSPN FOUND AT LEAST 3 FAN BLADES DAMAGED. 9(DATE ENTRY NOTE: FOLLOW UP CALL FOUND THAT  BLADES WERE RE',\n",
       "       \"SEAGULL TYPE BIRD HIT JUST UNDER CAPT'S SIDE OF WINDSHLD ON FUSELAGE. NO DMG NOTED AT FIRST INSPN. COSTS WERE REPORTED  AS $300 FOR MX TO INSPECT AND CLEAN A/C.  $5000 WAS A ROUGH ESTIMATE FROM THE DELAY, MISSED CONNCETIONS, AND COST COMPANY INCURS FROM H\",\n",
       "       'ID BY SMITHSONIAN. ON GO-AROUND (DUE TO BIRDS ON RWY) FROM LOW APRCH, FLOCK OF GULLS TOOK OFF. ONE STRUCK AND DMGD RT WING.',\n",
       "       'IMPACTED UPPER RT PART OF RADOME. EXTERIOR DMG TO PAINT & STATIC STRIP. DMG TO INSIDE OF RADOME IS UNKNOWN AT THIS POINT. RADOME HAD TO BE SENT AWAY FOR REPAIR.',\n",
       "       'NO DMG', 'RETURNED TO BASE KGLW.',\n",
       "       'BIRD HIT OTBD FLAP CAUSING SIGNIFICANT DMG.',\n",
       "       'PILTO CONTD TO DESTINATION. 6 TURBINE BLADES DAMAGED. OPS FOUND 1 DEAD INTACT AND 1 INJURED BIRD.',\n",
       "       'DMG TO L LDG LIGHT. BIRD IS BY WILDF BIOL',\n",
       "       '8 BLADES DAMAGED. BENT BLADES. CANOE DAMAGE. COMPRESSOR BLADES DAMAGED AND L WING FLAP TRACK CANOE FAIRING DAMAGED WITH LGR DENT AND A 4 IN CRACK. ENG REMOVED & REPLACED.',\n",
       "       'ID BY SMITHSONIAN. PILOT REPT. AS WE ACCELERATED FOR T/O I SAW A LRG BIRD ON LEFT HALF OF RWY T/O AND FLY TOWARDS THE RT SIDE. I PUSHED POWER UP TO TO GO AROUND AND CONTD THE T/O IN HOPES THE BIRD WOULD CHANGE DIRECTION. WE HIT THE BIRD AFTER IT CHANGED D',\n",
       "       'FOUND EVID OF BIRDSTRIKE, GLANCING BLOW, OUTER EDGE OF NACELLE, RT ENG. NO ABNORMAL ENG INDICATIONS. NO SMELL IN CABIN. MX INSPN FOUND NO DMG. ONLY SAW 2 BIRDS. APPARENTLY HIT ONE.',\n",
       "       'PILOT REPTD TO ARPT OPS THAT HE STRUCK A TURKEY VULTURE NEAR TOUCHDOWN ON RWY 9. A/C HAD AN INDENTATION ON WING ABUT 1 FT INBD OF TIP.',\n",
       "       'CREW REPTD A BIRDSTRIKE TO RADOME ON CLIMB. MX FOUND RADOME WAS DELAMINATED FROM STRIKE. RADOME WAS REPLACED. EVENT 11311.',\n",
       "       'REPLACED RADOME ASSEMBLY, WX RADAR DISH AND DRIVE ASSEMBLY FOR RADAR. PHOTO OF RADOME ATTACHED. BIRD ID BY R HEINEN.',\n",
       "       'PILOT SAW 4-8 ANIMALS DURING T/O RUN. AND TRIED TO AVOID THEM BY PULLING BACK ON THE CONTROLS. THE A/C WAS IN A NOSE-HIGH ATTITUDE AND THE STALL WARNING HORN WAS SOUNDING AND THE AIRSPEED WAS DECREASING. HE REDUCED HIS BACK PRESSURE ON THE COLUMN. THE A/C',\n",
       "       'PITOT TUBE PLUGGED. SMALL MARK ON NOSE. NOSE DAMAGE. TIME OUT OF SVC 1/2 HR.',\n",
       "       'WHILE ON APCH, NON FLYING PILOT SAW A SHADOW GO BY RT SIDE COCKPIT WINDOW. HE ASSUMED IT TO BE A SML BIRD. NO ENG ANOMOLIES NOTED BUT THERE WAS A SMELL IN THE COCKPIT OF BURNT HAIR & BONE. FOUND REMAINS OF A BIRD IN THE STATOR SECTION OF RT ENG. MECHANIC',\n",
       "       'ABORTED T/O RETD TO RAMP TO ASSESS ANY DMG. NO DMG NOTED. BIRD FLEW INTO #1 PROP BETWN ENG NACELLE AND FUSELAGE. BITS OF BIRD WERE DISCOVERED ON PROP, FWD BAGGAGE DOOR, PILOT WINDSHLD, PILOT STORM WINDOW, PILOT \"D\" WINDOW AND ALONG SIDE OF FUSELAGE. A/C R',\n",
       "       'ID BY SMITHSONIAN. FAA 4123. DNA & WHOLE FEATHER. CAPT LT VIEWING WINDOW SEAL DMG ENOUGH THAT BLOOD WAS ON CAPT SHIRT. #1 ENG SUSTAINED 10\" WIDE BY 6 \" HIGH HOLE AT TOP OF COWLING. 23 MI N OF ABIA.',\n",
       "       'DMG TO L ENG STATORS. MX REMOVED FEATHERS FROM INTERIOR OF TURBINE. ID BY SMITHSONIAN.',\n",
       "       'DMG TO RT WING L/E. NO INJURIES. (REMARKS FROM EMAIL).',\n",
       "       'NO DMG.',\n",
       "       'NO DMG. FEATHERS ON COWL AND A LITTLE BLOOD ON PROP OBSERVED AFTER SHUTDOWN. LOOKED LIKE SANDPIPER? STRIKE OCCURRED UPON EXITING TWY LIMA.',\n",
       "       '',\n",
       "       'A BIRD HIT RT SLAT. EVIDENCE OF BIRD PART HIT THE FAN ON #2 ENG. RT SLAT DENTED.',\n",
       "       \"BIRDSTRIKE ON LDD ROLLOUT. SEVERAL SML BIRDS (ASSUME 2-10). UNDER RADOME. 1 MAN HR FOR INSPN. (UNKN REPORTER SAID PHASE WAS 100' AGL ON APCH)\",\n",
       "       'CANADA GEESE? 8-10MI STRAIGH IN FINAL. SEVERAL LOUD BANGS WERE HEARD. NORMAL LDG WITH NO INJURIES.',\n",
       "       \"CREW SUSPECTED BIRDSTRIKE ON NOSE AREA THROUGH 4000'. MX FOUND STRIKE ON RADOME. NO DMG DETAILS AVAILABLE.REMOVED AND REPLACED RADOME. COST OF RADOME MIGHT HAVE BEEN $32,000 IF FROM OLD SUPPLY OR 62,000 IF NEW.\",\n",
       "       'ID BY SMITHSONIAN, FAA 1429. #2 ENG HAD SIGNIFICANT DMG AND WAS SHUTDOWN IN FLIGHT. RETD TO ARPT. UNEVENTFUL 1 ENG LDG.  ENG WAS DAMAGED BEYOND REPAIR.',\n",
       "       'MINOR DMG TO RADOME. APPEARS MAINLY COSMETIC. IS BEING SENT FOR REPAIRS.',\n",
       "       'PILOT INFORMED WHEN HE WAS ON FINAL APRCH THAT SEA GULLS WERE ON APRCH END OF RWY 1. LT FLAP STRUCK AND DAMAGED. NEEDED TO BE REPLACED.',\n",
       "       'FLT DEPTD THEN TURNED SOUTH & HIT A BIRD. RETD TO PHX. NO DMG. ID BY SMITHSONIAN 1035. &1088. COSTS EXPECTED TO BE $10,000-20,000 FOR TURNING AROUND AND RE-ROUTING PAXS. RWY REPTD AS 25 R AND 26',\n",
       "       'NO DMG. FLT PROCEEDED WITH NO PROBLEMS. REPORTED IN MX LOG ON ARRIVAL FOR INSPN.   XP314 REPORTED POSSIBLY HIT BIRDS ON DEPTR FROM RWY 29. INSPECTED AND FOUND 2 HOUSE SPARROW AT APPROX THE 5,000 FT MARK ON RWY 29. REPTD TO USDA/WS AND ENTERED BY WILDLF TE',\n",
       "       'RT WING LDG LIGHT BROKEN. NEVER SAW BIRD. SML REMAINS ON LIGHT FIXTURE.',\n",
       "       'ABOUT 5 MI E OF KNEAD INTXN HEARD LOUD POP & SAW SML BLK OBJECT FLY BACK FROM NOSE TO THE LEFT. ENG INSTRUMENTS & FLT CHARACTERISTICS OK. CONTD FLT. FOUND MODERATE DMG & FEATHERS ON TOP L SIDE OF RADOME. CRACKS & BREAKING AWAY OF TOP FIBERLASS LAYERS.',\n",
       "       'UPON LDG ROLLOUT WE SAW A LRG BROWN BIRD FLYING SLOWLY FROM RT TO LEFT IN FRONT OF US. WITH MAX BRAKING AND FULL REVERSE WE WERE UNABLE TO AVOID CONTACT.',\n",
       "       \"DOVE/PIGEON. HIT PILOT'S EMERGENCY DOOR. INSP REQD BY MX. COST LESS THAN $500. TIME OUT OF SERVICE 1/2 HR.\",\n",
       "       '',\n",
       "       \"ATIS WARNING. MULTIPLE BIRDSTRIKES DURING LDG FLARE 5-10' AGL. 2 BIRDS FOUND IN ENG, (1 IN CORE) AND 6 DEAD BIRDS ON RWY. BIRDS HIT RADOME AND CAPT'S WINDSHLD. REPLACED NOSE COWL. 4 BLADE TIPS CHIPPED, 5 BLADES WERE TORN FROM EDGE INWARD. ENG WAS REMOVED.\",\n",
       "       'COST FOR 1 HR INSPN. $45. HIT NOW, RT FWD SIDE.',\n",
       "       'ID BY SMITHSONIAN, FAA 3896. DNA & WHOLE FEATHER. ALERT 2. PILOT BELIEVES THEY STRUCK 6-7 CANADA GEESE AT 4000 FT APPROX 4 MILES N OF ARPT.  PILOT REPORTS BOTH ENGS STALLED. RT ENG WAS SHUT DOWN. WHEN CREW TRIED TO ADVANCE THE THROTTLE, THERE WERE A SERIE',\n",
       "       'PERMANENT NOTAM WARNING. FLOCK OF BIRDS CROSSED T/O PATH. HEARD THUDS AND BIRDS HEADED FOR LEFT ENG. SML DENT IN COWLING.  12 STARLING FOUND ON RWY. MULTIPLE BIRD SMEARS NO DMG TO WINGS. TME OUT OF SVC REPTD AS 1.25 HRS. (BY CAPT) AND 6.5 HRS. BY MAINTENA',\n",
       "       'FLT 103. BIRD STRUCK NOSE CONE, BLOOD OVER WINDSHLD. OTHER BIRD WAS INGESTED. ENG RAN BOUT 50 DEGREES HOTTER. FLT TO SAN WAS CANCELLED. ENG WAS CHANGED FOR FOD CONTAMINATION. (ENG MANU REPTS NO FAN BLADE DMG)',\n",
       "       'POSSIBLY A HAWK. BLOOD & FEATHERS ON #1 LEADING EDGE FLAP, BLOOD STREAK ON TOPF OF WING/ENG PYLONG. BIRD MUST HAVE DEFLECTED UP & OVER THE WING AFTER HITTING LE FLAP. ONLY COST WAS TO CALL OUT CONTRACT MX TO INSPECT & RELEASE A/C FOR SERVICE. TIME OUT OF',\n",
       "       '4\" DIAMETER DENT  BY 1\\' DEEP ON LE OF RT WING',\n",
       "       'DENTED RT WING LEADING EDGE 8 TO 11 INCHES WIDE AND 2 INCHES DEEP. PHOTOS. MX WILL REPALCED THE SKIN.',\n",
       "       'LANDING FLARE SAW SEVERAL BIRDS IN T/D ZONE OF RWY 18. ALL BIRDS TOOK OFF. ONE STRUCK LT PORTION OF NOSE SLIDING UP INTO THE WINDSHIELD WIPER AND ACROSS CA SIDE WINDSHIELD. REST OF LANDING UNEVENTFUL. NO DMG.',\n",
       "       \"EVENT 9881. CREW REPTD A BIRDSTRIKE TO #2 ENG. NO IRREGULARITIES NOTED IN INDICATIONS. BIRD HIT INSIDE NACELLE LILP. REMAINS ON CORE STATORS FROM 8-11 O'CLOCK POSITION. BORESCOPE FOUND NO INTERNAL DMG. 1 BLADE BLENDED. 4 MAN HRS TO INSPECT/REPAIR\",\n",
       "       'ID BY SMITHSONIAN, FAA 4187. ENG NOSE COWL DAMAGD 14\" W 10\" H AND 12\" D. EN #4 BLADE BENT AND TWISTED. NEW NOSE COWL COST $775,000.',\n",
       "       '',\n",
       "       'BAD ODOR NOTICED. BIRD WAS STANDING ON CENTERLINE OF RWY WHEN WE LANDED. THEN BEGAN TO FLY AND WAS STRUCK BY LWR INTAKE OF #2 ENG AND INGESTED. ALL ENG INDICATIONS WRE NORMAL. INSPN FOUND NO DMG BUT NOTED INGESTION INTO THE CORE REQUIRING BORESCOPE INSPN',\n",
       "       'MEDIUM BIRD STRUCK L UPPER RADOME JUST BELOW #1 WINDOW. REMAINS SMEARED UPWARD BUT DID NOT OBSCURE VISIBILITY. NO DMG. NO INJURIES.',\n",
       "       'BIRD STRIKE AT ROTATION. SML BROWN. NO DMG. TIME OUT OF SERVICE 1/2 HR. COST WAS FOR LABOR.',\n",
       "       'PILOT DID NOT SEE BIRD. IMPACT DURING T/O. PILOT NOTICED RESTRICTION TO AILERON CONTROL, PILOT IMMED. RETD FOR LDG. INSPN FOUND DENT IN RT WING ABOUT 12\" INBD OF WINTIP AND 3\" FROM LE. ANOTHER DENT WAS FOUND ON OTBD EDGE OF AILERON. THE DEFORMED AILERON W',\n",
       "       'WARNING MIGHT HAVE BEEN ON ATIS. LARGE DENT ON ENG INLET. 6 DAMAGED FAN BLADES WERE REPLACED. FAN SHROUD, COWL  AND SPINNER REPLACED.. ENG CONTINUED TO RUN WITH NO APPARENT PROBLEMS. COST TO LEASE ANOTHER A/C WAS $230,000.',\n",
       "       'UNKNOWN BIRD STRUCK ON CLIMB. NO DMG REPTD TO RADOME AT DEST. REMAINS NOT COLLECTED FOR ID. LOCATION REPTD AS KONT256/10.',\n",
       "       'DEER RAN ACROSS RWY INTO NOSE AND PROP AS A/C  STARTED LANDING ROLL. A/C CONTD STRAIGHT AND CAME TO A STOP. IT WAS MOVED TO AN OPEN HANGAR. DMG WAS FIRST REPTD AS SUBSTANTIAL THEN DOWNGRADED TO MINOR. NO INJURIES TO 2 PEOPLE ON BOARD. MOTOR SHOOK VIOLENTL',\n",
       "       'F/O WAS FLYING. ABOUT 2 MI FROM T/D BIRD HIT JUST BELOW CENTER OF WINDSHLD. REMAINS SPREAD OUT UPWARD. BIRD WAS BOUT 8\" BEAK TO TAIL. COST WAS FOR 1HR INSPN.',\n",
       "       'ON L/R WE SAW TWO BIRDS APPROACHING THE A/C. ONE BIRD STRUCK L SIDE OF RADOME, OTHER BIRD MISSED A/C. ONLY EVIDENCE OF STRIKE WAS SMALL GREY POWDER LOOKING AREA ON L SIDE OF RADOME. NO DENTS, NO ABNORMAL ODORS AND NO OTHER ABNORMAL INDICATIONS.',\n",
       "       'MADE SOFT SPOT ON RADOME. DUE TO DMG ON BACK SIDE, RADOME REPLACED',\n",
       "       'DAMAGED RT FLAP',\n",
       "       'STRIKE WAS 4 MILES E ORD. SEVERAL STRIKES. REMOVED SOME FEATHERS & GAVE TO SMC. (data entry note: feathers never turned in for ID) BORESCOPED #2 ENG. OTBD CORE COWL HAS BENT TIP AT UPPER FWD EDGE. DMG TO RADOME, L WING LE & VERTICAL FIN. REPLCD LWR RT PIT',\n",
       "       'SMALL BIRD (SPARROW SIZED) STRUCK NOSE GEAR DOOR, TOOK OUT CHUNK OF PAINT ABOUT 2\" SQUARE.(DATA ENTRY NOTE: RWY REPTD AS 31 BUT KDTO HAS RWYS 17 & 35.',\n",
       "       'BIRD HIT LT LOWER FUSELAGE BEHIND RADOME. NO DMG NOTED.',\n",
       "       'BIRD INGESTED. DMG TO 5 FAN BLADES, ENG KEPT OPERATING BUT WITH GREATER THAN NORMAL VIBRATIONS AT HIGHER POWER SETTINGS. MADE PREC 2 ENG LDG. ALL ENG #1 FAN BLADES REMOVED AND REPLACED.',\n",
       "       'ID BY CAPT. DMG CONSISTED OF BENT FAN BLADE TO #2 ENG DUE TO INGESTION. CANCELLED FLT PENDING BLADE REPAIR/REPLACEMENT. BOTH PILOTS SAW HAWK 2 SECONDS BEFORE IMPACT. OVER LANDFIIL JUST OFF S END OF RWY 35L. NOTIFIED DISPATCH, MX AND MADE LOGBOOK ENTRY.',\n",
       "       'HIT 3 BIRDS. FOUND CRACK IN NOSE DOME.',\n",
       "       'HIT L1 WINDOW. COST FOR 1 HR INSPN. NO DMG.',\n",
       "       'ID BY SMITHSONIAN, 2400. ARFF RESPONDED. 4 FAN BLADES DAMAGED. COST REPTD AS $780 FOR EACH OF 4 FAN BLADES THAT HAD TO BE REPLACED. A/C WA OUT OF SERVICE FOR THE AFTERNOON.',\n",
       "       'WHITE BIRD. NO DMG TO A/C EXCEPT FOR A SCRATCH IN THE PAINT ON AREA OF FUSELAGE ADJACENT TO PROBE. BIRD STRUCK PITOT PROBE FOR AIR DATA MODULE #3 (LOWER R PROBE)',\n",
       "       'BLACK BIRD OR SMALLER. ROTATION. DATA ENTRY NOTE: # STRUCK NOT REPTD, ASSUME 1.',\n",
       "       'ENG WAS DISASSEMBLED FOR INSPN. BORESCOPED. INSTALLED NEW INLET STATOR. REPAIRED YPASS STATOR AND FAN ASSEMBLY. COMPRESSOR WASH.',\n",
       "       'UNKNOWN - HAWK OR BUZZARD. DMG TO RT PROP DEICE AREA AND DMG TO RT ENG NACELLE. LOCATION REPTD AS 7 MILES ESE OF KEKO.',\n",
       "       'DAMAGED LE L WING AN, DENTED. L AILERON DAMAGED. EFFECT LANDING BUT NO DETAILS PROVIDED.',\n",
       "       'BIRD DAMAGED PITOT TUBE AND LANDING LIGHT ON L/R.', 'FLT1040',\n",
       "       'STRIKE WAS AT TOUCHDOWN. BIRD PUNCTURED WING AT STALL WARNING HORN',\n",
       "       'TWR CLOSED. LDG ABOUT 2355 PST. BIRD CROSSED IN FRONT OF A/C DURING LDG ROLLOUT AND HIT L WING OTBD OF ENG NACELLE. FOUND REMAINS ON L WING LEADING EDG EAND A TEAR IN THE DE ICE BOOT OF 1/4 INCH. REMAINS WERE COLLECTED BY THE FIRE DEPT. OUTBOUND FLT WAS C',\n",
       "       'ID BY SMITHSONIAN, FAA 3864. MICRO & DNA. PILOT SAYS ATIS DID NOT INDICATE BIRD ACTIVITY IN VICINITY OF AIRFIELD. TIME OUT OF SERVICE 2.5 HRS. RETD TO AIRPORT FOR INSPN. NO DMG.',\n",
       "       'PAX SAW DEER JUST BEFORE IT HIT L WING. PLANE JERKED TO THE LEFT. PILOT KEPT CONTROL. SUBSTANTIAL DMG REPTD. MANAGER WITNESSED DEER & LEFT MINUTES BEFORE INCIDENT.',\n",
       "       'FEATHERS & BLOOD SMEAR, NO DMG. (PART OF FORM TORN, SOME INFO MISSING). TIME OUT OF SERVICE 15 MINS,  CIST $50 FOR MX SIGN OFF.',\n",
       "       'WHILE ON DESCENT TO LANDING, HIT 5-6 GEESE, 5 MILES S E OF THE FIELD. THE BIRDS DAMAGED THE LEADING EDGE OF BOTH WING, TOP OF WING, TAIL, HORIZONTAL STABILIZER AND RT TIP TANK.',\n",
       "       'HIT BIRD ON FINAL. LANDED W/O INCIDENT. MINOR DMG TO ENG PROP BLADE. NOTIFIED FSDO & NTSB',\n",
       "       'WILL NEED TO REPLACE ENG DUE TO DMG. LOST REVENUE WAS ESTIMATED BY OPER AT 16 SEGMENTS AT $250/SEAT AT 50% LOAD= $36,000.',\n",
       "       'ID BY SMITHSONIAN FAA 1939. A/C HIT BIRD WITH NO APPARENT EFFECT ON FLGHT. MX FOUND DMG TO 6 FAN BLADES AT BWI AND FEATHERS IN #2 ENG. SUBMITTED TO USDA/WS AT BWI. ALTHOUGH 6 BLADES WERE DAMAGED THEY REPLACED THE ENTIRE SET OF 38.',\n",
       "       'DENTED @ 2 ENG INLET RING. BIRD WAS MEDIUM SIZE WITH GRAY FEATHERS.',\n",
       "       'EVENT 11435. ID BY SMITHSONIAN, FAA 1830. (ALT REPTD AS 4000 MSL AND 200 FT AGL SINCE PILOT SAID THEY WERE 15 MILES FROM ARPT, ASSUME 3000 FT ALG.)',\n",
       "       'HERD OF DEER KNOWN TO LIVE ON/AROUND ARPT. NUMBER OVER 20. PILOT SAID DMG WAS MINOR BASED ON ICAO DEFINITION. SLIGHTLY BENT PROPELLER, BENT FLAP AND DENT IN LEADING EDGE.  ENG HAD TO BE DISASSEMBLED AND INSPECTED.(AAIPN FORM SAID SUBSTANTIAL AS DID DAILY',\n",
       "       'ID BY SMITHSONIAN. 1 BIRD SEEN IN LANDING LIGHTS JUST BEFORE IMPACT ON WINDSHLD.',\n",
       "       'BIRD SEEN AND HEARD THAT STRUCK RADOME. UPON INSPN BY MX IT WAS NOTED THAT THERE WAS EVID OF INGESTION INTO COLD SECTION (BYPASS) OF #2 ENG. NO DMG NOTED.',\n",
       "       'DMGD FLAP CAUSED DEPTR TO BE CANCELLED. POSSIBLE ENG DMG. FLAP AND RIVET BENT.',\n",
       "       'HIT L OTBD FLAP ON OTBD EDGE DURING LDG. BENT OUTER EDGE SLIGHTLY. MINOR DMG.',\n",
       "       'PILOT SAW A DEER RUN ACROSS RWY THEN HIT 2ND DEER ON L SIDE. DMG REPTD AS MINOR TO L WING & FUSELAGE. NO INJURIES. NTSB SAYS SUBSTANTIAL DMG TO L FUSELAGE & WING.',\n",
       "       'BIRD NEVER SEEN ONLY FELT AND HEARD AFTER IMPACT. IMPACT ON UPPER RT SIDE OF RADOME. RADOME SUSTAINED STRUCTURAL DMG (SOFT SPOT) AND WAS OUT OF SERVICE FOR APPROX 12 HRS. LOCATION REPTD AS APPROX 10 MILES TO NW JUST PRIOR TO ENTERING RT TRAFFIC FOR VISUAL',\n",
       "       'ATIS WARNING. RETD TO MCO DUE TO BIRDSTRIKE. FLT CREW REPTD BIRDSTIRKE ON T/O ROLL. HIT F/O UPPER PITOT TUBE CAUSING AIR DATA INSTRUMENT DISAGREEEMENT. PHOTOS. ID BY ARPT  BIOL REPLACED PITOT. NO OVERWT INSPN REQD. NO EMERG DECLARED.',\n",
       "       \"ID BY SMITHSONIAN, FAA 4032. BIRD SPLATTERED ON F/O'S SIDE OF WINDSHLD BREAKING WIPER BLADE. UNKN AT THIS TIME IS WINDSHLD WILL HAVE TO BE REPLACED.\",\n",
       "       'ID BY SMITHSONIAN, FAA 3155. #1 ENG AND PITOT SYSTEM WERE CLEANED WITH NO DMG FOUND DURING INSPN. AIR/OIL FILTER WAS REPLACED.',\n",
       "       'RT PROP AND ENG, RT NOSE GEAR DOOR.',\n",
       "       'BIRD HIT WINDSHLD WHILE PILOT WAS CHANGING FREQUENCY. WINDSHLD CAME APART, HIT PILOT ALONG WITH BIRD. FACIAL CUTS REQUIRED STITCHES. MOST OF WINDSHLD DEPARTED A/C. INTERIOR WAS A MESS. STRIKE OCCURRED 6-7 MILES NO OF ARPT.',\n",
       "       'BIRD HIT L WING NEAR TIP CAUSING A LRG DENT IN LE, TEARING OFF 3 VORTEX GENERTORS, DAMAGING THE DE-ICE BOOT, REMOVING ABOUT 6 SQ INCHES OF PAINT. LOCAL MECH SAID PLANE WAS AIRWORTHY.',\n",
       "       'SAW BIRDS FLY ACROSS RWY IN FLARE. IT LOOKED LIKE 2 HIT THE #4 ENG. COST IS FOR 1 HR INSPN.',\n",
       "       'SMELL GAVE US THE INDICATION WE INGESTED A BIRD. NO DMG FOUND. EVIDENCE FOUND IN BYPASS OF ENG. ARFF RESPONDED. A/C TAXIED TO RAMP.',\n",
       "       'HIT 2 HERRING GULLS. PLANE TAXIED TO MILLIONAIRE AND WAS LEFT FOR PRECAUTIONARY REASONS. PILOT REPTS NO APPARENT DMG. FOLLOW UP CONFIRMED NO DMG, COST WAS FOR INSPN.',\n",
       "       'BIRD HIT FUSELAGE 6-12 IN BEHIND WINDSHLD. RIB AND SHEET METAL WERE BUCKLED BACK TO ABOUT 36\" BEHIND WINDSHLD. SOME RIVETS POPPED OUT AND SHEET METAL EXPOSED. BIRD WAS SEEN IN A WINGS TUCKED, DIVE CONFIGURATION. THE OVERHEAD READING LIGHT AND AIR VENT WER',\n",
       "       'RADAR WAS ON. MULTI FAN BLADES SHINGLED AND DMG TO OIL COOLER. ENG REMOVED. ID BY SMITHSONIAN FAA 985. (DAILY REPORT FROM TWR SAID DMG UNKN)',\n",
       "       \"BIRDSTRIKE ON ROTATION. IMMEDIATELY GOT STICK SHAKER AND IAS DISAGREE WARNINGS. F/O AIRSPEED WAS 60 KNOTS LESS THAN CAPT AND STANDBY INDICATORS. DURING VECTORS FOR A DOWNWIND RETURN TO OAK, BOTH EEC'S WENT TO ALTERNATE MODE. WE THEN EXPERIENCED A LOSS OF\",\n",
       "       'DURING LDG, PILOT HEARD A THUMP FOLLOWED BY A BURNING SMELL. RT ENG INTAKE HAD REMAINS OF BIRD. (DATA ENTRY NOTE: DAMAGE BOX NOT CHECKED ON FORM BUT COST WAS SHOWN FOR REPAIRS)',\n",
       "       'BIRD INGESTED. FAN BLADE DMG WAITING FOR BORESCOPE FOR FURTHER DMG REPT. A/C WILL BE DOWN A COUPLE OF DAYS. 4 PAIRS OF FAN BLADES REPLACED AND ACOUSTIC LINER REPAIRED.',\n",
       "       'A/C WAS IN LEVEL FLT WHEN WE HEARD A THUD AND FELT THE A/C SHUDDER. PILOT FELT SOME FEEDBACK DURING MOMENT OF IMPACT ON THE RUDDER PEDALS WHICH SUBSIDED INSTANTLY AFTER IMPACT. VERT STABILIZER WAS DAMAGED WITH A DENT ABOUT 14\\' LONG, 4\" WIDE AND 1\" DEEP. B',\n",
       "       '',\n",
       "       'ID BY SMITHSONIAN, FAA 3097. DNA. (DATA ENTRY NOTE: DATE REPTD AS BOTH 5TH BY PILOT AND 6TH BY  NTSB) STRUCK RT WING CAUSING SUBSTANTIAL DMG TO WINGSPAR. PILOT STATED AS HE INITIATED A DESCENT AT NIGHT 10-12 MILES NE OF ARPT, HE HEARD A LOUD BANG AND FELT',\n",
       "       'COST REPT FOR CONTRACT MX INSPN.',\n",
       "       'BIRDSTRIKE ON RT WING LDG LIGHT. LIGHT WAS REMOVED BY BIRDSTRIKE.',\n",
       "       'BIRDS HIT ENG NACELLE AND TAIL SECTION. (DATA ENTRY NOTE: # STRUCK NOT REPTD, ASSUME 2-10, SAME AS # SEEN0',\n",
       "       'BIRDS SWARMED JUST AS WE APPROACHED UNDERRUN. ARPT PERSONNEL WERE  NOT NOTIFIED BY PILOT OR AIRLINE SO WERE NOT ABLE TO IDENTIFY ANY REMAINS OR TAKE A SNARGE SAMPLE.',\n",
       "       'NO DMG. THUD AND BIRD REMAIN. LOCATION REPTD AS 20 MILES N KBWI.',\n",
       "       'JUST AFTER ROTATION 3/4 DOWN RWY. VIBRATION WAS FELT IN #2 ENG. NOT SHUT DOWN. RETD TO LAND. 4 DAMAGED FAN BLADES (C1 COMPRESSOR FAN BLADES VALUED AT 7700 EACH). ENG WAS DISMANTELED AND ALL FAN BLADES WERE REPLACED. 3 CANCELLED FLTS AND 1 DELAYED DUE TO A',\n",
       "       'DMG TO AIRGROUND INDICATING SENSOR LOCATED ON L MAIN LDG GEAR.  ESTIMATED COST 1,000- 2,000.',\n",
       "       'ATIS WARNING. CABIN DOOR SMASHED. PILOT SAW 2 DEER. RWY WAS  WET MAKING IT HARD TO BRAKE. DEER HIT BELLY OF A/C.& EXITED BTWN THE LDG GEAR. SHE DAMAGED THE DOOR, MOST INNER PART  OF WING ROOT & DENTED SOME BELLY SKIN. NO ONE WAS HURT. RWY WAS CLOSED WHILE',\n",
       "       '',\n",
       "       'STRIKE AT INTXN OF RWY 20 & TWY F. AT 1839. CARCASS RECOVERED. RADOME WAS TAPED. A/C RETD TO HNL WITH FLT CREW ONLY. INGESTION IN #1 ENG ACCORDING TO AIRLINE. NO DMG TO ENG.',\n",
       "       'BLOOD SPOT ON INBD LE FLAPS. COST FOR CLEANING AND MX INSPN. $200.',\n",
       "       'LOCATION = MSP070015.',\n",
       "       'HARD BRASS BRAKE LINE ON RT MAIN GEAR CRACKED. BIRD REMAINS WEDGED THROUGHOUT MAIN GEAR COMPLEX ON RT SIDE. DAMAGE TO RT ENG INLET AND SUBSEQUENT COLLATERAL DMG TO ENG FANS AND INTERNAL PARTS. INGESTION?',\n",
       "       'ID BY SMITHSONIAN, FAA 2622 A & B. SEVERAL BIRDSTRIKES (8 FOUND) ON SHORT FINAL. HAD TO SEND MX FROM ORLANDO TO INSPECT. FOUND EVIDENCE OF INGESTION IN BOTH ENGINES. BORESCOPE FOUND NO DMG. COST FOR INSPN ESTIMATED AT OR BELOW $5,000. ARFLD GRASS AREAS WE',\n",
       "       'HIT BIRD SHORTLY AFTER ROTATION BEFORE GEAR RETRACTION. RETD TO LAND AS PRECAUTION.',\n",
       "       'FLT 753. PILOT REPTD A HUNDRED BIRDS ON UNKN TYPE. #1 ENG WAS SHUT DOWN AND DIVERTED TO EWR. SLIGHT VIBRATION. A/C WAS OUT OF SVC FOR REPAIRS TO COWLING, FAN DUCT ACCOUSTIC PANEL. INGESTION. DENTED FAN BLADE #26 IN #1 ENG. HEAVY BLOOD STAINS ON L WINGTIP',\n",
       "       'EXTENT OF DMG WOULD INDICATE A LRG BIRD BUT WE DID NOT SEE IT.   NO CONTROL PROBLEMS EXPERIENCED. A/C TIME OUT OF SVC WAS 5 WEEKS  DUE TO PART UNAVAILABILITY.',\n",
       "       \"SAW A DEER ABOUT 50 YARDS AHEAD WHEN 5' FROM T/D AND APPLIED FULL POWER TO DO A GO-AROUND. FELT JOLT IN TAIL. OTHER DEER HAD HIT US.  STABILATOR JAMMED CAUSING A/C TO CLIMB & ALMOST STALL. SAW LRG DENT ON L OTBD LE OF STABILATOR FROM COCKPIT. FLEW THE PAT\",\n",
       "       'ID BY SMITHSONIAN. BIRD THOUGHT TO BE GULL. 1 HIT UPPER L CORNER OF WINDSHLD AND BROKE OUT TOP SECTION. 2ND BIRD HIT RT WING LEADING EDGE. WE MADE AN EMERGENCY LANDING. LANDED WITHOUT PROBLEMS. OUT OF SERVICE ABOUT 3 WEEKS. REPALCED WINDSHLD AND LEADING E',\n",
       "       'FLT 2308. NO DMG. INSPN COST $500-1000.', '',\n",
       "       'CRACKED F/O SLIDING WINDOW. BIRDS REPTD AS GEESE, ASSUME CAGO FROM DATE AND LOCATION.',\n",
       "       'NO DMG NOTED. ENG INDICATIONS NORMAL. MX ACTION PERFORMED AT DEST. ATIS WARNING. LOCATION REPTD AS APPROX 5 MILES.',\n",
       "       'DMG TO L WING, LE. THINK IT WAS A WOOD DUCK',\n",
       "       \"WS PICKED UP 5 CARCASSES FROM RWY 35 AT 3000' RM. A/C WAS UNABLE TO LEAVE AND WAS DOWN FOR 36 HRS AFTER AA MX CONDUCTING BORESCOPE OF #2 ENG FOUND NO DMG. PART OF WING AND FEATHERS WERE PULLED OUT OF THE ENG. ESTIMATED COST FOR ENTIRE EVENT WAS $300,000.\",\n",
       "       'ENG INGESTED BIRD. RPM WENT TO 0% GEN KNOCKED OFF. TEMPS INCREASED.',\n",
       "       '',\n",
       "       'BIRD HIT AT THE N1 ROTOR BLADE TIP, RESULTING IN DMG TO N1 ROTOR ABRADABLE SHROUD WITH IMPACT DMG TO SEVERAL FIRST STAGE FAN BLADES WHICH WERE REPLACED. SHROUD WAS PATCHED. ENG DID NOT HAVE TO BE CHANGED FOR THIS REPAIR.  OUT OF SVC 2  DAYS. 2 CANCELLED F',\n",
       "       'A/C INGESTED AN EAGLE INTO THE LEFT ENG WHICH SHUT DOWN. LOUD BANG WAS HEARD FOLLOWED BY VIBRATIONS AND COMPRESSOR STALLS. T/O WAS ABORTED. A/C TAXIED BACK TO TERMINAL ON REMAINING ENG. PAX SAW FLAMES COMING FROM THE ENG. 2ND A/C THAT CAME TO TAKE THE  PA',\n",
       "       \"ON FINAL PIC SAW SEVERAL GEESE IN FLIGHT IN FRONT OF A/C AS THEY CROSSED THE THRESHOLD. HE TRIED TO PULL UP TO AVOID THEM. 1 HIT JUST BELOW PILOTS' WINDOW ON L SIDE. GLANCING BLOW. SOME SKIN DAMAGE VISIBLE. RECOVERED DEAD GOOSE FROM RWY. INTACT. A/C CAN S\",\n",
       "       '5 GEESE STRUCK (ASSUME CANADA FROM DATE AND LOCATION).  LARGE DENT RT WING. WING TIP DAMAGED.',\n",
       "       '\"BAKER\\'S DOZEN\" PIGEONS PUT DENT IN RT INBD FLAP. A/C DEPTD SAFELY AND FLEW TO EVV W/O INCIDENT. REPAIRED. ANOTHER REPORT STATED GULLS WERE STRUCK, THEY ALSO REPTD NO DMG.',\n",
       "       'VERY SHORTLY AFTER T/O, 1 SAW 3-5 BIRDS FLYING AND HEARD 1 HIT THE LE OF THE RT WING. WE VISUALLY INSPECTED THE LEADING EDGE AND SAW A DNET AND LOTS OF BLOOD. WE DECIDED TO RETURN TO THE ARPT.',\n",
       "       'ID BY SMITHSONIAN, FAA 3965. WHOLE FEATHER AND DNA. ATCT NOTIFIED ARPT OPS OF STRIKE. BOTH ENGINES INGESTED BIRD(S). DMG TO LEFT MAIN INBD FLAP. A/C FERRIED AT 1030 ON 12/20. CANCELLED FLT WAS $50,000, REPAIRS WERE $124,740.',\n",
       "       'HAWK OR OWL INGESTED BUT DID NOT CUT OUT ENG. NO PAX. COST FOR LEASING ANOTHER AIRCRAFT WAS $20,000.',\n",
       "       \"PILOT REPTD BIRDSTRIKE WHILE OVER #'S OF RWY 4R. DENTED RADOME SEVERELY. WENT OVER A/C AND HIT VERTICAL PART OF TAIL AT THE BASE CAUSING MINIMAL DMG. A/C WAS SWAPPED OUT CAUSING A 30 MIN DELAY TO CONTINUING FLT.  CARCASS RETRIEVED BY OPS.\",\n",
       "       'FOUR MILE FINAL.',\n",
       "       'ID BY SMITHSONIAN. AT ABOUT 8NM FROM BWI AND 4NM TO\"GRAFF\", THE FINAL APPROACH FIX, A/C ENCOUNTERED A LRG FLOCK OF BIRDS, POSSIBLY GEESE. HIT MULTIPLE BIRDS. LANDING UNEVENTFUL. IMPACT AREAAS WERE JUST CENTER AND ABOVE FWD WINDSCREEN, SEVERAL AREAS NEAR P',\n",
       "       'A/C ON SHORT FINAL. HIT A \"GOOSE\" ON LWR PART OF RADOME. CRACKED ABOUT 4\". REPLACED RADOME COST ABOUT $50,000. BIRD LATER ID\\'D BY SMITHSONIAN AS GULL. FAA 966. WS BIOL SPOKE WITH SMITHSONIAN AND BELIEVES THE GULL WAS A GLAUCOUS-WINGED GULL. A/C MOVED TO H',\n",
       "       'RT ENG REMOVED & DISASSEMBLED FOR REMOVAL OF FEATHERS IN COMPRESSOR & DMG INSPN. ENG WAS NOT DMGD, BUT COST $40,000 FOR INSPN. RADOME AND RADAR ANTENNA WERE DAMAGED, COST $17,000. ID BY SMITHSONIAN FAA 701.',\n",
       "       'IN FLT NO APPARENT DMG NOTED. WE WERE ENROUTE TO MAINTENANCE FACILITY (15 MIN FLT) FOR OTHER WORK. REQUESTED BIRDSTRIKE INSPN. THEY FOUND MICRO CRACKS AND MINOR DELAMINATION IN AREA OF STRIKE.',\n",
       "       'ID BY SMITHSONIAN. BIRD COLLECTED BY ARPT AND SENT TO SI FOR ID. ARPT OPS REPT: ON FLARE TO RWY AT APPROX 50 FT ABOVE RWY, PILOT REPTD BIRDSTRIKE. BIRD HIT NOSE GEAR, BIRD PARTS FOUND ON RWY OVERRUN AND COLLECTED FROM WHEEL WELL OF A/C. NO APPARENT DMG. B',\n",
       "       '1 PROP BLADE BENT, NACELLE AND WING HAVE SEVERAL DENTS AND A SMALL HOLE ON UNDERSIDE OF WING. RT MAINT GEAR OTBD DOOR IS PARTIALLY SHEARED OFF. A/C NOT AIRWORTHY.',\n",
       "       'NO DMG. BLOOD SMEAR ON NOSE CONE. PILOT REPTD BIRDS AS SMALL RED AND BLACK IN COLOR, MED SIZE FLOCK.',\n",
       "       'AT A/C ROTATED, 1 FOX WAS SEEN. IT WAS NOT BELIEVED TO HAVE BEEN STRUCK BUT WAS LATER REPTD TO HAVE BEEN HIT. NO EFFECT ON FLT OR A/C INDICATIONS. ID LATER UPDATED TO COYOTE.',\n",
       "       '',\n",
       "       'ATIS WARNING. PILOT REPTS NO DMG SUSPECTED BUT WILL HAVE MAINT CHECK. SOME FUSELAGE SKIN DAMAGED AS WAS DUCTWORK AND SOUND INSULATION. ALL WAS REPLACED.',\n",
       "       '3 BLADES WERE DAMAGED.',\n",
       "       \"HIT WING ABOUT 5' FROM TIP. MODERATE DMG. WRINKLED LEADING EDGE. FERRIED FOR REPAIR.  REPLACED ALL OF DEICE BOOT & QUITE A BIT OF THE WING. FLT CANCELLED. ID BY SMITHSONIAN FAA 1060.\",\n",
       "       'REMAINS CLEANED OFF WING AND INSPECTED. NO DMG AND RETURNED TO SERVICE. LOCATION REPTD AS 1SM FINAL FOR RWY 4.',\n",
       "       'BOTH PROPS DMGD A BIRD STRUCK NOSE CONE WHICH CAUSED DMG TO THE RADAR AND AVIONICS BAY, ENG NACELLES WILL NEED REPAIR. MINOR DMG TO L WING.',\n",
       "       'ENG FUNCTION NORMAL FROM IMPACT TO T/D AND PARKING. R1 ENG WAS AT IDLE. NO DMG. COST WAS FOR FLYING MECHANICS IN AND OTHERS OUT.',\n",
       "       'AIRPORT REPT SAYS, \" SMALL STRIKE TO ENGINE COWLING. AIRPORT HAS TAKEN CONSIDERABLE MEASURE TO PREVENT WILDLIFE STRIKES A PRESCRIBED B THE 150 SERIES OF THE ADVISORY CIRCULARS.\" OTHER REPORT SAYS, \"EXTENSIVE STRUCTURAL DAMAGE UNDER THE NOSE. FUEL LINE CUT',\n",
       "       'ID BY SMITHSONIAN, FAA 3734. WHOLE FEATHER AND DNA. QANTAS DEPARTED AT 0023. AT 0030 PDT, CREW REPTD DURING CLIMBOUT AT 8,000 FEET (40 MILES WEST OF LAX) THERE WAS A LOUD BANG AND THEIR RADAR BECAME INOPERATIVE. PIC ADVISED ATC THAT THEY WOULD BE RETURNIN',\n",
       "       'ID BY SMITHSONIAN. PILOT REPTD INGESTING BIRD AT ABOUT 400 FT RIGHT AFTER T/O BUT DID NOT SEE THE BIRD. PASSENGERS SAW FLAMES COMING FROM #1 ENG. PILOT SAID THE ENG STALLED OUT AND HE COULD SMELL SMOKE.  AIRLINE REPORT  SAID THAT BOTH ENGINES WERE SHUT DO',\n",
       "       'ID BY SMITHSONIAN, FAA 3172. AFTER DESCENDING FROM IMC CONDITIONS BTWN YAVUP AND RGGO WAYPOINTS ON RNAV (GPS) RWY 31 APPROACH, A LOUD REPORT WAS HEARD BY FLT CREW AND PAX. INSPECT OF CO-PILOT WINDSCREEN WITH A FLASHLIGHT REVEALED FEATHERS AND BLOOD ON WIN',\n",
       "       'RT LE ABOUT 6\\' FROM FUSELAGE. DENT ABOUT 12\" LONG AND 1\" DEEP.',\n",
       "       'TWO DEER STRUCK BOTH ENGINES (PROPS) SHORTLY AFTER TOUCHDOWN. BENT BOTH PROPS, DAMAGED L ENGINE INLET, TORE OF LEFT GEAR DOOR.',\n",
       "       'DURING CLIMB CREW HEARD A LOUD BANG. INGESTED BIRD (SUSPECT GULL OR RAVEN) ON T/O ROTATION. LOW FLYBY WAS MADE TO INSPECT GEAR FOR DMG. PREC LDG MADE SHORTLY AFTER. NO VIZ DMG NOTED AT THIS TIME. BORESCOPE & CREW FLOWN IN TO INSPCT ENG. A/C WAS OK TO FLY.',\n",
       "       'PILOT HEARD A LOUD THUMP BLOW AND AFT OF RADOME DURING DESCENT PASSING 8,000 FT MSL. POST FLT INSPN FOUND BLOOD SMEAR JUST FWD OF POWER ACCESS DOOR ON LWR RT SIDE OF RADOME. NO DMG.',\n",
       "       'SPADE DOOR ON NOSE GEAR DAMAGED. STRIKE WAS 1.5 MILES FROM APCH END OF RWY. ID BY SMITHSONIAN. FAA 437.',\n",
       "       \"HIT CAPT'S WINDSHLD. THEY WERE OVER WINOOSKI, VT. NO REMAINS FOUND. NO DMG.\",\n",
       "       'ID BY SMITHSONIAN, FAA 1334. CAPT SAW BIRD SITTING ON RWY AS A/C ROLLED OUT. THE BIRD ATTEMPTED TO FLY AS THE A/C PASSED IT. A THUMP WAS HEARD AND CAPT SHUT DOWN THE #2 ENG WHICH WAS OVERHEATING.  COMPRESSOR WAS REPLACED PHOTOS TAKEN. DMG ESTIMATED BTWN $',\n",
       "       'ATIS WARNING IS COMMON FOR THIS TIME OF YEAR. INSPN FOUND NO DMG.',\n",
       "       'BIRDS FLEW INTO FLT PATH FROM GROUND. DAMGED FAN BLADES', '',\n",
       "       'ON SHORT FINAL TO RWY 17, FLOCK OF GEESE AT THRESHOLD TOOK OFF INTO FLT PATH. RT ENG PROP BLADE DAMAGED BY 1 GOOSE. WINDSCREEN/CANOPY IMPACTED BY 2ND GOOSE. L WING STRUCK BY 3RD GOOSE. INSTR & STUDENT ABOARD. NO INJURIES. (DATA ENTRY NOTE: DATE NOT REPTD,',\n",
       "       \"ON SHORT FINAL, A THUD WAS HEARD BELOW CAPT'S SIDE WINDOW. FLT LANDED UNEVENTFULLY. FOUND SML SMEAR AT LOCATION WHERE THUD WAS HEARD AND 2 SEPARATE BLOOD SMEARS WITH POSSIBLE FEATHER REMNANTS JUST INBD OF #1 ENG ON THE WING. NO INDICATION OF INGESTION.\",\n",
       "       'NO DMG.',\n",
       "       'HEARD IMPCT ON FRONT OF A/C DURING NIGHTTIME APRCH KOKC. NO DMG TO A/C. 12 INCH SMUDGE ON LOWER FRONT OF RADOME AND SOME REMAINS ON NOSE LANDING GEAR. NO OTHER ABNORMAL INDICATIONS OR UNUSUAL ODORS NOTED. LOCATION REPTD AS 15NM S KOKC.',\n",
       "       'BIRD HIT LEFT ENG FAN DOME. BORESCOPE FOUND BIRD DID NOT GO THRU THE CORE. NO DMG. COMPRESSOR WASH AND TEST RUN.',\n",
       "       'F/O SAW BIRD GO UNDER NOSE ON SHORT FINAL. ENTIRE CREW HEARD IMPACT. COST FOR 1 HR INSPN.',\n",
       "       'RT WING DAMAGED SEVERELY. A/C GROUNDED FOR AT LEAST A MONTH. USED FOR DRUG TASK FORCE',\n",
       "       'NO DMG. COST FOR 1-HR INSPN.',\n",
       "       'COSMETIC DMG. RADOME BOOT REPLACED. A/C WAS NOT TAKEN OUT OF SERVICE.',\n",
       "       'DMG TO BLADES ON #2 ENG.',\n",
       "       'ID BY SMITHSONIAN, FAA 1858. IT APPEARS 1 BIRD HIT AT THE BASE OF THE WINDSHLD NEAR THE CENTER DIVIDER AND ON THE ALCOHOL SPRAY BAR, AS THAT WAS BENT. FEATHERS AND REMAINS WERE JAMMED AROUND THE SPRAY BAR AND BLOOD COATED THE LWR WINDSHLD. ADDITIONAL REMA',\n",
       "       'AFTER T/O THRUST WAS SET AND ACCELERATING DOWN RWY, SMELLED ODOR FROM PACKS. ENG INDICATIONS NORMAL AND CONT T/O. SMELL WENT AWAY DURING CLIMBOUT. PERFORMED PRECAUTIONARY WALKAROUND OF ENG AT DEST AND F/O FOUND BIRDSTRIKE. TIME OUT OF SERV 0.5 HRS.',\n",
       "       'RETD TO LAND DUE TO BIRDSTRIKE AND BAD ODOR IN CABIN. FLT LANDED W/O INCIDENT. HIT RT LE FLAP.',\n",
       "       'FLT 2215. LOUD NOISE & SLIGHT VIBRATION FELT WHEN FLAP HANDLE IS MOVED INTO EACH DETENT. INSPN CLEANED BLOOD & FEATHER SMEARS ON NOSE WHEEL WELL AREA IN INBD LHS OF #1 FAN COWL AND LEADING EDGE. COST WAS FOR LABOR, NOT DAMAGE REPAIRS.',\n",
       "       \"AN EMERGENCY WAS DECLARED AFTER WING WAS DAMAGED FROM A VULTURE STRIKE. STRIKE OCCURRED OVER A CONSTRUCTION MATERIAL LANDFILL. IMPACT SHIVERED THE PLANE AND TWISTED IT TO THE LEFT. WING WAS SMASHED WITH PIECES FLAPPING UP AND DOWN. OUTER 2' OF WING  WAS A\",\n",
       "       \"MX INSPN FOUND EVIDENCE OF BIRDSTRIKES ON LWR L SIDE OF RADOME, CAPT'S WINDSHLD, L INNER WING LEADING EDGE, AND NUMEROUS STRIEKS TO #1 ENGINE. NO OBVIOUS DMG NOTED DURING VISUAL INSPN. HOWEVER NOTED THAT BIRD WAS INGESTED INTO CORE WHICH REQUIRES A BORESC\",\n",
       "       'SIGNIF DMG TO WING AT POINT WHERE IT ATTACHES TO FUSELAGE. MINOR PROP DMG BUT ENG HAD TO BE TORN DOWN FOR INSPN. PHOTOS SENT.',\n",
       "       '2,000 TO 3,000 FT DOWN RWY. NOSE CONE DENTED, PAINT REMOVED. CONDUCTED 2 RWY INSPECTIONS. NO REMAINS FOUND. WS GAVE BIRD COLLECTION KITS TO MX SUPV. ESTIMATED COSTS OBTAINED FROM AIR CHINA HQ. REPAIRS MADE IN CHINA.',\n",
       "       'HIT 4-7 GEESE AT ROTATION NEAR INXTN OF RWY 5/23 AND RWY 13/31. A/C ABORTED T/O AND TAXIED BACK TO RAMP. COSMETIC DMG.',\n",
       "       'DENT ON L/E OF LT WING, JUST OUTBOARD OF LANDING LIGHT. BIRD REPTD AS SIZE OF DOVE.',\n",
       "       'FOWL REMNANTS WERE FOUND ON WING LE AND ENG.',\n",
       "       'POSSIBLY GULL. BIRD HIT WINDSHLD ON PILOT SIDE AND SHATTERED IT. PIECES OF PLASTIC WERE SPREAD THRUOUT CABIN. A PIECE HIT THE HYDRAULICS OFF SWITCH BUT WAS IDENTIFIED AND TURNED BACK ON APPROX 100 FT AGL. I RECEIVED A SMALL CUT ON THE LEG.',\n",
       "       'BIRD SEEN ON RWY JUST PRIOR TO ROTATION. BIRD TOOK OFF JUST PRIOR TO A/C PASSING OVERHEAD. HIT L MAIN LDG GEAR BTWN TIRES. FLT CREW UNAWARE OF IMPACT UNTIL ARRIVAL AT DESTINATION. BIRD WAS FOUND LODGED IN LDG GEAR. FWD BRAKE LINES WERE BROKEN BY IMPACT, B',\n",
       "       '8 GEESE OF APPROX 12 WERE KILLED ON THE RWY.',\n",
       "       'MX INSPN PERFORMED, A/C RELEASED FOR NEXT SCHEDULED FLT. OUT OF SERVICE 1/2 HR.',\n",
       "       'ENG INLET DAMAGED.',\n",
       "       'EVIDENCE OF BIRDSTRIKE ON L MAIN LANDING GEAR ASSEMBLY. LANDING ROLL OUT-FLARE ON. (DATA ENTRY NOTE: # STRUCK NOT REPTD, ASSUME 2-10, SAME AS # SEEN.)',\n",
       "       'BIRD WAS 4-8 POUNDS WITH TAN FEATHERS ON TOP, WHITE ON BOTTOM. APPROX 3 FT WINGSPAN. AFTER LANDING GEAR RETRACTION, WE ENCOUNTERED ABOUT 10 BIRDS OF SAME SPECIES AT BASE OF A SCATTERED CLOUD LAYER, VISIBILITY REPTD AS 3 1/2 DUE TO LIGHT SNOW. BIRDS WERE A',\n",
       "       'ABOUT 10-12 MINUTES INTO THE FLIGHT A/C HIT AT LEAST 3 CANADA GEESE. F/O WINDSHIELD SHATTERED, CUTTING COPILOT ON FACE. RADOME HEAVILY DAMAGE. PHOTOS. EMERGENCY LDG. GOOSE WA PULLED OUT OF RADOME AT ARPT.',\n",
       "       'NO DMG TO A/C. SWALLOW?', 'ENG VIBRATION. 4 BLADES REPLACED.',\n",
       "       'BIRDSTRIKE ON SHORT FINAL. CABLE CAME OFF PULLEY ON LDG GEAR. PLANE MISSED 1 FLT. NO COSTS AVAILABLE FROM AIRLINE. RWY WAS CLOSED WHILE PLANE WAS TOWED. THIS HAWK HAD BEEN BANDED & RELEASED 100 MILES FROM AIRPORT 1 YR 7 MOS EARLIER. PHOTOS.',\n",
       "       'ON T/O WE SAW A FLOCK OF GEESE SITTING ON THE RWY. AS WE APCHD, THE BIRDS TOOK OFF EXCEPT FOR 2.  THEY WAITED UNTIL WE WERE JUST A COUPLE OF SECONDS FROM IMPACT AND TOOK OFF AT THE SAME TIME. 1 TURNED LEFT AND 1 WENT STRAIGHT UP. I ROTATED THE A/C TO TRY',\n",
       "       'ID BY SMITHSONIAN. POSTFLT INSPN REVEALED TWO BIRDSTRIKE LOCATIONS. PILOT STATED NO BIRD SEEN. TRS MX STATED THERE WOULD BE NO DELAYS INCURRED AND REPLACEMENT OF LANDING LIGHT ON WINGTIP WOULD BE DEFERRED TO PLANES NEXT LOCATION. OVER BAY AFTER ALNDING CL',\n",
       "       'ID BY SMITHSONIAN. FAA 4785. WHOLE FEATHER. TWO SMALL BIRDS STRUCK OUTBOARD SECTION OF RT WING DURING L/R. A/C HAD TO DELAY OUTBOUND FLT FOR INSPN BY MX.',\n",
       "       'INSPN AFTER LDG REVEALED POSSIBLE DELAMINATION. RECEIVED FERRY PERMIT FOR TRIP TO HOMEBASE FOR REPAIR. TO SAVE TIME, REPLACED RADOME INSTEAD OF REPAIR.',\n",
       "       'OTHER COST FOR MECHANIC CLEANUP',\n",
       "       'NOTICED BIRD SITTING ON CENTERLINE OF RWY. SINCE WE WERE PAST V1 WE WERE COMMITTED TO FLY. UPON BREAKING GROUND, BIRDS TOOK FLT. A/C AND BIRDS MET 10-20 FT ABOVE RWY. LOUD IMPACT ON LEFT SIDE OF A/C. NO ABNORMAL ENG INDICATIONS. HIT 3 GEESE ON DEPTR ROLL.',\n",
       "       'DURING WALKAROUND NOTICED A/C RT LANDING LIGHT BROKEN WITH REMAINS OF BIRD. REPTD TO MX OF BIRDSTRIKE. KJAC TOWER REQUESTED CALL, THEY INFORMED THAT THEY FOUND GLASS AND BIRD REMAINS ON RWY. DID NOT NOTICE BIRD ON FINAL TO RWY 19. A/C TIME OUT OF SERV REP',\n",
       "       \"ID BY SMITHSONIAN. PILOT REPTD STRIKG ABOUT 20 MILES E OF AIRPORT AT 12,000'. OPS RESPONDED TO GATE AND FOUND MAJOR DMG TO WINGLET.  PILOT SAW ABOUT 10 BIRDS OUT OF THE CORNER OF HIS EYE. A/C YAWED A LITTLE. PILO9T REPTD TO PHX APCH. PHOTOS.\",\n",
       "       'ON SHORT FINAL, IN OVERCAST AND FOG AND JUST AFTER ACQUIRING RWY ENVIRONMENT VISUALLY, A LRG FLOCK OF BIRD APPEARED DIRECTLY IN OUR FLT PATH. WE HIT SEVERAL BUT LANDED UNEVENTFULLY. THERE WERE AT LEAST 14 SEPARATE STRIKES DISTRIBUTED EVENLY AROUND THE PLA',\n",
       "       'PROBABLY DOVE. ATIS REMARKS NOTED INCREASED BIRD ACTIVITY. PROBABLY DOVES/ MOURNING DOVES BASED ON SIZE AND COLOR OF BIRDS SEEN, ALONG WITH NUMBERS OBSERVED DURING TAXI IN AND OUT. ESTIMATES COSTS ARE A PERSONAL GUESS BASED ON TYPICAL MX COSTS FOR INSPN O',\n",
       "       '',\n",
       "       'NO DMG TO BASIC STRUCTURE. PROTECTIVE PAINT ERODED APPROX 3 INCH CIRCLE AT IMPACT PT. LOCATION REPTD AS 17DME NE.',\n",
       "       'POSSIBLE DMG TO STANDBY PITOT TUBE. PITOT TUBE REPLACED.',\n",
       "       'DENT IN L WING LE',\n",
       "       'DMG TO BOTH WINGS. PILOT SAW BIRDS JUST AS THEY STRUCK THEM. RETD TO LAND. DMG TO LEADING EDGES NEAR THE LIGHTS. L WING HAD DENTS ON LEADING EDGE, MISSING RIVETS AND DAMAGE TO ONE STRINGER. RT WING HAD DENTS ON LEADNG EDGE. MOST OF COST IS FOR A/C BEING O',\n",
       "       'BIRD FLEW THRU #1  PROP  DURING LANDING FLARE. FOUND FEATHER PATTERN OF SCRATCHES ON ONE BLADE. NO DMG. BIRD CAPTURED LIVE, TAKEN TO ALASKA RAPTOR CENTER.',\n",
       "       'RT WING L/E DMG.',\n",
       "       \"ID BY SMITHSSONIAN. EITHER WESTERN OR CLARK'S GREBE.  DNA ANALYSIS UNABLE TO DISTINGUISH BETWEEN THEM. DOWNWIND FOR RWY 35 BIRD HIT LEFT SIDE OF NOSE CONE. UPON REGAINING CONTROL OF THE A/C. I TURNED BACK TO ORIGINAL HEADING AND SLOWED AIR SPEED TO 60 KTS\",\n",
       "       'ON LDG FLARE, ABOUT 100 SML BIRDS WERE ON RWY. THEY FLEW UP CONTACTING THE A/C. LATER TWR REPTD 48 BIRDS WERE PICKED UP. (SMALL BLACK BIRDS). A/C WAS INSPECTED, ENG BORESCOPED. NO DMG.',\n",
       "       'VULTURE OR RAVEN. CENTER STRIKE. BIRD TRAVELED UP CENTER OF WINDSCREEN OVER TOP OF THE TAIL. SAW 4, HIT 1.',\n",
       "       'MINOR DMG, L/E OF WING. NOT SURE OF STRIKE UNTIL POST LANDING INSPN.',\n",
       "       'ID BY SMITHSONIAN, FAA 3722. COYOTE OR DOMESTIC DOG. FOX WAS FOUND ON RWY. DMG TO RT MAIN GEAR DOOR. ARPT OPS REPORTED THAT A/C HIT A FOX OR COYOTE ON T/O ROLL',\n",
       "       '4 HRS OUT OF SERVICE. ESTIAMTED OTHER COST REPT AT $5000 BUT NOT EXPLANATION FOR WHAT.',\n",
       "       'RADOME BADLY DMGD UPON IMPACT WITH THE HAWK. PHOTO. ID BY ARPT OPS.',\n",
       "       'SAW BIRD JUST AFTER ROTATION. I TRIED TO AVOID BIRD BY TURNING, BUT IT FLEW INTO THE DIRECTION I HAD TURNED.',\n",
       "       'HIT FUSELAGE AFT OF F/O EYEBROW WINDOW.', 'FAN BLADE DMG.', '',\n",
       "       'HIT 2 SML BIRDS ON NOSE & #1 ENG. DMG UNKN AT THIS TIME. NO DMG FOUND UPON BORESCOPE. COST WAS FOR INSPN.',\n",
       "       'ID BY SMITHSONIAN. FAA 4170. CREW OBSERVED 2 GULLS DIVE PAST THE NOSE UPON T/O. CREW DID NOT HEAR OR FEEL ANY STRIKE ON A/C. PROCEEDED TP KABE. BIRD DISCOVERED WEDGED BTWN RT MAIN WHEEL AND LANDING GEAR STRUT. CREW REPTD NO EFFECT ON LANDING GEAR RETRACTI',\n",
       "       'IN THE FLARE. A/C TIME OUT OF SERVICE = 1/2 HR.',\n",
       "       'WHILE LANDING AT KBKL, F/O OBSERVED A SMALL WHITE BIRD STRIKE A/C FUSELAGE JUST ABOVE R WINDSHIELD. A/C CONT AND LANDED W/O INCIDENT. MX INSPECTED IMPACT AREA AND REPTD NO DMG. A/C RETURNED TO SERVICE. FLT # REPTD AS SRY 10223.',\n",
       "       \"ID BY SMITHSONIAN. PILOT REPTD BIRDSTRIKE ON T/O FROM RWY 19 AT APPROX 1200' OVER POTOMAC RIVER. A/C DIVERTED TO IAD DUE TO A POSSIBLE ENG SHUTDOWN. USDA COLLECTED SNARGE FROM #1 ENG AND PHOTOS. FLT WAS CANCELLED. PAX WERE BOOKED ON OTHER FLTS. ENG MANU C\",\n",
       "       '7-8 BIRDS SUDDENLY APPEARED I FRONT OF A/C. SEVERAL HIT NOSE & WINDSHLD. FORCE OF IMPACT FRACTURED INNER PANE ON CAPT SIDE. NUMEROUS SMALL PIECES OF GLASS IHT CPT IN FACE, SCALP & CHEST. HE TURNED CONTROL OVER TO F/O FOR LDG. EMERG POWER SWITCHED ON AFTER',\n",
       "       'ID BY SMITHSONIAN,F AA 3462, DNA. HIT BIRD ON DEPRTR 6800 MSL. RETD TO ARPT. BIRD WAS INBEDDED IN NOSE CONE. REPLACEMENT A/C  REACHED DESTINATION WITH A DELAY OF 90 MINS. PHOTOS.',\n",
       "       'ID BY SMITHSONIAN, FAA 1718. BIRD WAS INGESTED IN #2 ENG ON T/O RIGHT AT ROTATION. MULTLIPLE STRIKES. A/C MADE EMERGENCY LDG TO ARPT WITH ENG AT IDLE DUE TO VIBRATIONS. FLEW OVER THE OCEAN TO BURN OFF SOME FUEL BEFORE RETURNING AT 11:21. LANDED W/O FURTHE',\n",
       "       'CREW UNAWARE OF STRIKE. FLT CONTD. DMG TO LE OF L WING FOUND ON POST FLT INSPN. LE DENTED OTBD OF #2 ENG. ASSEMBLY IS A QUICK CHANGE UNIT.',\n",
       "       '10 MILE FINAL. DATA ENTRY NOTE: # STRUCK NOT REPTD, ASSUME 1, SAME AS # SEEN.',\n",
       "       '5-6\" DENT ON #2 BULLRING.',\n",
       "       'BIRD ID BY OPS. AIRLIINE QUALAITY ASSURANCE DEPT SAID NOT DMG. MX COST FROM $50-100. WINDSHLD & NOSE BOTH REPTD AS BEING DAMAGED BUT CALL TO WS AIRPORT BIOL WHO CHECKED WITH AIRLINE FOUND NO DMG.',\n",
       "       'BIRD REPTD AS MED & LARGE. PHOTO ATTACHED. NOSE DENTD AND PAINT REMOVED',\n",
       "       \"BROKE OUT LEFT HALF OF WINDSHLD AND CAME TO REST IN PILOT'S LAP (DEAD). DAMAGED OUTSIDE AIR VENT TUBE, MAP LIGHT AND PLASTIC COVER ON LEFT DOOR POST.\",\n",
       "       '1 BLADE OF #2 PROP DAMAGED. NOT REPAIRABLE',\n",
       "       'SAW A FLASH FROM CORNER OF MY EYE AND HEARD THUMP ON RADOME. NO ABNORMAL COCKPIT INDICATIONS NOTICED. CONT TO KISP AND LANDED UNEVENTFULLY. FOUND VERY SMALL BIT OF REMAINS UPON LANDING AND CONTRACT MX INSPECTED A/C. NO DMG. ALL LOGBK ENTRIES COMPLETED AND',\n",
       "       'DID NOT SEE BIRD UNTIL IT APPEARED ON RT SIDE OF A/C. RT HORIZONTAL TAILE STRUCK. MINOR DMG. SUSPECT BIRD WAS OVERTAKEN SINCE IT DID NOT TAKE ANY EVASIVE ACTION.',\n",
       "       \"HIT ABOVE CAPT'S WINDSHLD.\",\n",
       "       'INGESTED OWL ON DEPTR. RETD TO LAND.  ENG VIBRATION WENT TO FULL SCALE 2-3 MINUTES AFTER INGESTION. BORESCOPED. REPLACED 4 PAIRS OF BLADES.',\n",
       "       'NO DMG TO A/C. DATA ENTRY NOTE: # STRUCK NOT REPTD, ASSUME 1, SAME AS # SEEN.',\n",
       "       'APPROX 6 NM FINAL.', \"HIT CAPT'S SIDE WINDOW.\",\n",
       "       'PROP DMG. ENG REMOVED FOR INSPN. 1 PROP WAS REPLACED, COST UNDER $500 (ASSUME $450).  NO ENG DMG.',\n",
       "       'ID BY SMITHSONIAN. A/C STRUCK SMALL BIRD SHORTLY AFTER LIFTING OFF FROM RWY 16. BIRD STRUCK PROP AND VAPORIZED.',\n",
       "       'ID BY SMITHSONIAN. PILOT REPORTED SEEING 3 GULLS OFF RT SIDE OF RWY, HEARD A THUMP BUT DID NOT NOTICE ANY CHANGE.  WITNESSED STRIKE BUT ONLY THOUGHT BIRD HIT THE WING. FLT CONTD TO LAX. MX COLLECTED BIRD FROM #2 ENG AND TURNED REMAINS OVER TO WS BIOL TO R',\n",
       "       'RADOME CRUSHED, RADAR ANTENNAE BENT. ID BY SMITHSONIAN FAA 403. REPLACEMENT RADOME BORROWED FROM AAL. REPLACED RADOME.  FLT DELAYED 1 HR.',\n",
       "       'ID BY SMITHSONIAN. F/O REPTD THAT BOTH HE AND CAPT CAUGHT A QUICK GLIMPSE OF WHAT THEY ASSUMED WAS A BIRD TO THEIR LEFT. FELT IMPACT SHORTLY AFTER. LEAD DAL MX STATED A/C WILL BE GROUNDED UNTIL THEY ORDER PARTS AND MAKE NECESSARY REPAIRS. DMG TO SLAT AND',\n",
       "       \"BIRD HIT UPPER EDGE OF RADOME, REMAINS ONTO CAPT'S WINDSHLD. NO DMG FOUND. COST WAS FOR MAINT INSPN. FLT 2809\",\n",
       "       'FLT 409. HEARD A LOUD BANG AND THOUGHT THE NOSE CONE WAS POSSIBLY GONE. RETD TO STL. LANDED W/O INCIDENT. NOSE CONE WAS INTACT BUT HAD BEEN PENETRATED BY A BIRD.  BIRD WENT THRU RADOME, RADAR AND METAL WALL WHERE RADAR IS MOUNTED. BIRD ID BY SMITHSONIAN (',\n",
       "       'SAW 2 PHEASANTS ON RWY AFTER LANDING. ONE WAS MOVING FROM RT TO LEFT AND GAVE US NO TIME TO REACT. CAPT HIT THE BRAKES. WE SAW PARTS OF THE BIRDS FLYING EVERYWHERE. NO VIBRATION OR ABNORMALITIES WITH  #1 ENG UNTIL WE WERE READY TO SHUT DOWN AND ENG WAS IN',\n",
       "       'STATOR BLADES BENT. STRIKE AT ROTATION.',\n",
       "       'E2 COMPRESSOR TOTAL LOSS',\n",
       "       'RADOME DENTED WELL BEYOND SERVICEABLE LIMITS. ID BY SMITHSONIAN FAA 435.',\n",
       "       'STRUCK FUSELAGE ABOVE CAPT COCKPIT POSITION.',\n",
       "       'COULD HAVE BEEN A CROW. NO DMG.',\n",
       "       'RABBIT WAS INGESTED. FUR IN ENG. ENG VIBRATIONS. ENG AT 91% IN REVERSE THRUST. REVERSE IMMEDIATELY TERMINATED AND A/C TAXIED TO GATE. 3 FAN BLADES DAMAGED BUT 6 WERE CHANGED. ENG SHUT DOWN AFTER EXITING RWY. (ANOTHER REPORT SAID THAT ALL 1ST STAGE FAN BLA',\n",
       "       '', '',\n",
       "       'BLADE DMG FROM INGESTION. 6 BLADES REPAIRED, 4 NEW BLADES PURCHASED.',\n",
       "       \"PIREP UPON T/D FOF 16R. REMAINS OF SWALLOW COLLECTED IN T/D ZONE. FORWARDED TO WS BIOL. NO DMG. REMAINS ON CO/P'S WINDSHLD REMOVED. (DATA ENTRY NOTE: COST REPTD AS $150, ASSUME THEY MEANT OTHER COST SINCE THERE WAS NO DAMAGE)\",\n",
       "       'WE WERE IN THE LANDING FLARE WHEN WE SAY THE BIRDS AND THEY FLEW UP INTO THE A/C. I COULD NOT AVOID THEM.',\n",
       "       'RT WING HAD DENT AND PUNCTURE. NO EFFECT ON CONTROLLABILITY. DMG TO LE WAS SIGNIFICANT.',\n",
       "       'ENG WILL BE EXAMINED. DOWN TIME NOT KNOWN. NO INGESTION. BENT INTAKE ON RT ENG. L ENG ALSO TOOK A STRIKE.',\n",
       "       'NO DMG NOTED BY MX ON INSPN. ALL STRIKES WERE ON RT WING.',\n",
       "       'ROLLING DOWN RWY 7/25, SAW TWO SMALL KILLDEER BIRDS. STRUCK ONE OR POSSIBLY TWO WITH RADOME. REMAINS AND BLOOD FOUND ON L ENG NACELLE. NO DMG. BOROSCOPED ENG.',\n",
       "       '', 'NO DMG. EST OTHER COSTS REPTD AS $94.50.',\n",
       "       'RT WING WAS DENTED BY LARGE BLACK BIRD. DENT WAS 4\" IN DIAMETER AND 1.5\" DEEP.',\n",
       "       '\"RESIDUE\" ON LT EYEBROW WINDOW. BOTH COPILOT, PILOT AT CONTROLS AND CAPT DUCKED AS THE BIRD LOUDLY \"SMACKED\" THE A/C.',\n",
       "       'LH INBD SLAT ON WING WILL BE REPLACED. GULL? NO FEATHERS SAVED.',\n",
       "       'SHORTLY AFTER T/O THE A/C STRUCK A GREAT BLUE HERON. THE BIRD WENT THROUGH THE PROP CUTTING THE BIRD IN HALF. PART OF THE BIRD STRUCK THE WINDSHIELD AND RT WING. NO DMG TO A/C.',\n",
       "       'STARLING? SNOW ON GROUND. BIRDS WERE ON GROUND NEXT TO TWY. THEY FLEW ACROSS TWY AND ACROSS RWY THRU P[ATH OF ROLLOUT ON RWY. ON TAXI IN, BIRDS WERE DEPARTING AREA ALONG TAXIWAY  AS WE TAXIED TO RAMP. MOST OF BIRD WENT INTO RT ENGINE GENERATOR COOLING INL',\n",
       "       '',\n",
       "       \"ONE MILE SHORT FINAL. RADOME DMGED AT 4 O'CLOCK POSITION IF YOU WERE LOOKING AT NOSE OF A/C. LARGE DENT, OVER A FT WIDE, 8 INCHES DEEP OR SO. BLOOD REMAINS. PAINT PEELED OFF. SOME FEATHERS. NO DMG TO ENG.\",\n",
       "       'A/C WAS SUBSTANTIALLY DAMAGED ON LDG AFTER COLLIDING WITH A DEER ON RWY. SAW 4 DEER RUN ACROSS RWY FROM WEST. PILOT TRIED TO AVOID THEM BY RAISING NOSE TO LET DEER GO UNDER. 1 HIT AND SHEARED OFF THE NOSE WHEEL CAUSING NOSE AND PROP TO HIT RWY. PILOT LOWE',\n",
       "       'ID BY SMITHSONIAN FAA 128. LH OIL COOLER PLUGGED WITH REMAINS OF INGESTED BIRD. CLEANED FAN COWL, BLADES, STATOR BLADES AND FAN CORE. BORESCOPED #1 ENG. (TWR REPTD #2 ENG AND THAT A/C WAS TAKEN OUT OF SERVICE TO CHANGE THE ENG). REPLACED ENTIRE SET OF FAN',\n",
       "       'ENG PARAMETERS NORMAL, BUT NEEDS INSPN. COST WAS FOR INSPN',\n",
       "       'ID BY SMITHSONIAN, FAA 1768. SNARGE SENT TO SMITHSONIAN. COSTS DO NOT INCLUDE 55 MINUTES OF FLT TIME. REPLACED ENG PANEL. (OPS SUPV REPT SAID \"BIRD INGESTED AT ABOUT 400-500 FT AGLE. RETD TO LAND W/O INCIDENT. AFTER INSPN, AIRLINE REPTD NO DMG.\")',\n",
       "       'DMG TO OUTSIDE ANTI-ICE AREA OF LE RT WING. 6\"-7\" DIA DENT ABOUT 1-1.5\" DEEP WITH BIRD REMAINS CONTINUING INTO RT MAIN LDG GEAR.',\n",
       "       'ATIS WARNING. FEW DENTS ON WING. DUE TO HIGH WORKLOAD AT REPAIR SHOP, A/C WAS OUT OF SERVICE 2.5-3MONTHS. USUAL TIME FOR THIS REPAIR WOULD HAVE BEEN 65 HRS. LOST REVENUE NOT CALCUALTED.',\n",
       "       \"ARPT BIOL ID'D BIRD. PITOT TUBE DAMAGED AND REPLACED. PART WAS $11,207, LABOR $210, COST FOR AMMENITIES (HOTELS ETC) WAS $1800. NON-MAINTENANCE OPERATIONAL COST WAS $1300. OUTBOUND FLT DELAYED 3 HRS.\",\n",
       "       'PILOT REPTD STRIKE IMMED AFTERWARD. JUST AFTER T/O, 20-25 TURKEYS SUDDENLY APPEARED JUST ABOVE THE RWY FROM L TO RT. 3 WERE HIT, MOSTLY BY STRUT & LEADING EDGE OF WING. LDG GEAR WAS NOT RETRACTED AS A PRECAUTION BUT NO DMG TO GEAR. REPORTED COSTS  ARE PIL',\n",
       "       'BIRD HIT LE OF L WING AND DEFLECTED INTO L ENG. VERY SML AMT OF FEATHERS WAS RECOVERED & SENT TO ENG MANU FOR ANALYSIS. OTHER COSTS TO BE DETERMINED. ENG MANU REPTD NO DMG TO ENG.',\n",
       "       'SAW BIRD DISAPPEAR BELOW LEFT WING AND FELT IMPACT. POSTFLT REVEALED NO TRACE AND NO DMG. BIRD POSSIBLY  HIT LEFT MAIN TIRES. LOCATION REPTD AS ILS 9L, 2 MILE FINAL.',\n",
       "       'SAW LARGE BIRD APPEAR FROM BELOW AT THE 11:30 POSITION FROM THE FRONT OF THE A/C. I BANKED RT TO AVOID CONTACT BUT WAS UNABLE TO AVOID IT. STRIKE PUSHED LEADING EDGE OF L WING INTO WING SPAR. DAMAGE CAUSED CONTROL DIFFICULTIES SO I DECLARED AN EMERGENCY A',\n",
       "       'BIRD HIT RADOME ALMOST DEAD CENTER. DAMAGE WAS 5-6\" IN DIAMETER AND ABOUT 2\" DEEP.',\n",
       "       'NO DMG TO A/C. EST COST OF REPAIR AND EST COST OTHER COST BOTH REPTD AS GREATER THAN $200.',\n",
       "       \"AS A/C WAS 10' FROM TOUCHDOWN, BIRDS FLEW UP INTO PATH OF LDG A/C. NOT VIZ FROM TWR. ABOUT 15 WERE STRUCK. MINOR DMG TO TRAILING EDGE FLAP.\",\n",
       "       'NO DMG. BIRD HIT #1 COWLING (RT SIDE) LIP AND DEFLECTED TO BOTTOM INBOARD RT WING.',\n",
       "       'PILOT AND 2 PAX ON BOARD. MINOR DMG TO PROPELLER.',\n",
       "       '11 PAX. NO ONE WAS HURT. PROP BROKE OFF. REMOVED ENG DUE TO DAMAGE.',\n",
       "       'MODERATE DENT IN L WING LEADING EDGE ACCOMPANIED BY FEATHERS AND OTHER MATTER. PILOT SAID DAMAGE WAS SUBSTANTIAL BASED ON ICAO DEF.',\n",
       "       'SML DOVE-LIKE BIRD. THERE IS A BIG PROBLEM WITH BIRDS AT PHF. SEEMS TO BE NO CONCERN FROM ARPT MGR. GRASS NOT MOWED, NO AIR CANNON OR ANY OTHER PROCEDURE FOR LIMITING # OF BIRDS. WE HAVE A PROBLEM HERE. 2 BIRDSTRIKES IN 3 DAYS. #1 ENG DAMAGED. 4 FAN BLADE',\n",
       "       'ID BY SMITHSONIAN, FAA 2371. BOTH RT SIDE OF NOSE AND LE OF RT WING DENTED. SOME WENT THRU THE ENG FAN. PRELIM REPT NO ENG DMG. ARPT CASE NO. 08-3286',\n",
       "       'ID BY SMITHSONIAN, FAA 3141. DNA AND WHOL FEATHER ALL SHOWED SAME SPECIES. LRG INDENTATION ON NOSE RADOME. APPROX SIZE OF FOOTBALL. PROBALBY REPAIRABLE. IF NOT, COST $300,000. PHOTOS OF DMG.',\n",
       "       \"PILOT ID'D SPECIES WITH PETERSON'S FIELD GUIDE AS JUNCO. OVER 200 BIRDS FLEW UP FROM RWY INTO A/C'S PATH. RETD TO LAND IMMEDIATELY. MX COUNTED OVER 28 STRIKE POINTS. AT LEAST 12 WERE INGESTED IN EACH ENG. ABOUT 85 CARCASSES WERE RECOVERED. NO DMG. A/C OUT\",\n",
       "       'CRACKED PROPELLER AND DAMAGED HUB. UNKN ENG DMG. TEARDOWN INSPN IN PROGRESS',\n",
       "       '2 FOOT DENT IN CENTER OF LEADING EDGE. REPLACED THE CENTER LEADING EDGE ON RT WING, PICCOLO TUBE INSIDE AND CLAMPS. COST WAS $25,000 AND $97,000 FOR CHARTERING AN AIRCRAFT WHILE THEIR A/C WAS DOWN FOR REPAIRS.',\n",
       "       'BIRD ID BY SMITHSONIAN FAA 187. 2 GEESE. 1 HIT F/O WINDSHLD, OTHER #1 ENG. SUBST. DMG NOTED AFTER SHUTDOWN AT GATE. ENG REQD CHANGE.',\n",
       "       'WARNED BY POSTER IN FBO. BIRD WENT THRU BYPASS. POSSIBLY AN OWL. NO OBVIOUS DMG.',\n",
       "       'RH INBD LDG LIGHT LENS DAMAGE.',\n",
       "       'UNDERSIDE OF #1 ENG COWL WAS DAMAGED.',\n",
       "       'ENG SURGED THEN RETURNED TO NORMAL.  ENG NOT CHANGED BUT OIL COOLER WAS REPLACED. BORESCOPED. ATIS WARNING FOR BIRDS. COSTS FROM MX AT AIRPORT.',\n",
       "       'ID BY SMITHSONIAN, FAA 3944. DNA. CRACKING TO FIBERGLASS NOSE BOWL, DAMAGE TO ENG COWLING AND CABIN AIR SCOOP. INCIDENT HAPPENED AFTER PRACTICE INSTR APROACH DURING HOLDING.',\n",
       "       '', 'ENG INSPN. NO DMG.', '',\n",
       "       'ID BY SMITHSONIAN. ARPT CASE # 25641. DELTA REPTD DMG AT $72,000 WITH 20 MAN HRS INVOLVED AT $2000.',\n",
       "       'SAW 6  GEESE, FIRST 5 FLARED OUT OF THE WAY BUT THE LAST ONE HIT THE RT WING LEADING EDGE. IT WAS PUSHED BACK TO THE SPAR, RIB & FUEL TANK WERE ALSO  PUSHED BACK. NO FUEL LEAK. NO EFFECTS ON HOW A/C HANDLED. COST DOES NOT INCLUDE TIME OUT OF SERVICE.',\n",
       "       'OWL WENT INTO H.P. COMPRESSOR OF RT ENG. BORESCOPED. DMG WITHIN LIMITS. (DATA ENTRY NOTE: COST REPTD AS $1000, THE COST REPTD FOR ANY STRIKE BY WS IN HI. NOT ACTUAL COST. CALLED AIRLINE FOR COST. BORESCOPE WAS $400, NO FLT DELAYS. DATE REPTD AS 3/15, AIRL',\n",
       "       '', '',\n",
       "       'BIRD REPTD AS BLUE GOOSE. DMG TO LWR L ENG COWL, VERT STABILIZER AND RT HORIZ STABILIZER. PILOT HEARD THE BIRDS STRIKE THEN CONTACTED FDS TWR TO RETURN FOR PREC LDG.',\n",
       "       'LEADING EDGE AND 2 POSSIBLY THREE RIBS DAMAGED. INCREASED BIRD ACTIVITY WAS BROADCAST ON ATIS.',\n",
       "       'BIRD SHATTERED L SIDE OF WINDHSLD. STUDENT RECVD CUT ON FACE. DMG TO INTERIOR.',\n",
       "       'NO DMG NOTED. UNABLE TO DETERMINE SPECIES. UNABLE TO COLLECT REMAINS. FINAL APRCH.',\n",
       "       'BIRDSTRIKE WHILE ON ARRIVAL. AFTER SUNSET WITH A FULL MOON. VFR CONDITIONS. WE WERE LEVEL AT 1100 FT AND STEADY 300KNOTS INDICATED WHIEL BEING VECTORED FOR A VISUAL APCH FOR RWY 29R. NOT OF BLACK FOREST VOR ABOUT 10 MINUTES FROM LDG. A VERY LOUD POP WAS H',\n",
       "       'NOTICED BIRDS ON THRESHOLD LIGHTS AND GRASS. THEY FLEW UP ON OUR ARRIVAL. SML DENT IN SIDE SKIN, LHS FIRST BLUKHEAD AFT OF RADOME. COST 200-2000 IF SKIN HAS TO BE REPLACED.',\n",
       "       'ID BY SMITHSONIAN, FAA 3791. DNA. BOEING TEST FLT FOR JAL B 777. HIT HAWK ON FINAL. PILOTS REPORTED SEEING THE BIRD BUT DID NOT HEAR/FEEL THE STRIKE. THEY DID NOT REPORT TO ATCT.  THEY FOUND THE STRIKE EVIDENCE AFTER LANDING. BIRD REMAINS IDENTIFIED BY WS',\n",
       "       'ATIS WARNING. ENG VIBRATION.  BIRDS HIT AT ROTATION. A COUPLE BOUNCED OFF THE NOSE AND AT LEAST 1 WAS INGESTED. SEVERAL FAN BLADES AND THE COMPRESSOR WERE DAMAGED.  FLT DIVERTED TO HPN',\n",
       "       'IMPACTED A FLOCK OF LRG BIRDS, I BELIEVED TO BE GEESE. I SAW THEM A SECOND OR TWO BEFORE IMPACT. HEARD A LOUD BANG AND FELT A SHUDDER. LEVELED OFF AND REDUCED POWER IMMED. DIVERTED TO NUT TREE ARPT. A/C HANDLED NORMALLY. VISUAL INSPN FOUND NO DEFORMATION',\n",
       "       'ID BY SMITHSONIAN, FAA 2186. 100% DNA MATCH. BIRD WAS INGESTED INTO #2 ENG. THE A/C SHUT DOWN THE ENG AND RETURNED TO THE ARPT. NO BIRDS OR FLOCK WERE CITED IN THE AREA. PILOT REPTD BIRD AS \"SANDHILL CRANE?\" AND SIZE AS LARGE. IN A REPLY TO DATABASE MGR Q',\n",
       "       'ID BY SMITHSONIAN. INGESTION. 7 FLIGHTS CANCELLED. $50,000 FOR DELAYED/CANCELLED FLTS. ENG COMPLETELY DESTROYED. BLADES FRACTURED, ENG SURGED, VIBRATION AND TEMP INCREASED. ALL FAN BLADES, IGV FRACTURED.',\n",
       "       'NO DMG. SOME BLOOD BELOW PITOT TUBE.',\n",
       "       'WAS NOT AWARE THAT EVENT WAS A BIRD STRIKE UNTIL POST FLT INSPN COMPLETED. RESIDUE WAS NOT COLLECTIBLE.',\n",
       "       'DENTED L WING LE',\n",
       "       'ID BY SMITHSONIAN FAA 415. POPPED CIRCUIT BREAKER, MX REQSTD FLT TO RETURN TO CHECK FOR DMG. SPINNER ON PROP WAS DAMAGED.',\n",
       "       'BELIEVED TO BE WESTERN GULLS. ENG RAN ROUGH AFTER INGESTION. VIBRATION & EXCESSIVE NOISE. EMERGENCY DECLARED. 4 BENT FAN BLADES. 8 FAN BLADES REPLACED.  LANDING UNEVENTFUL.',\n",
       "       'PILOT WAS WARNED ABOUT A HERD OF DEER  ON THE RWY WHILE ATTEMPTING TO LAND. A/C AVOIDED MOST OF THE HERD BUT HIT 1 WITH LEFT MAIN LDG GEAR. DIVERTED TO BHM ABOUT 20 MILES AWAY WITH BENT L MAIN LDG GEAR. LANDED RWY 36 ON RT MAIN LDG GEAR, SKIDDED OFF RWY.',\n",
       "       'A/C HIT DEER WITH LEFT MAIN GEAR WHILE ATTEMPTING TO PULL UP OVER THE DEER ON SHORT FINAL.  MINOR DMG. COST REPTD AS LESS THAN $1,000.',\n",
       "       'HIT AT LEAST 3 BIRDS. 11 DAYS OUT OF SVC. #1 ENG HAD A PARTIAL INGESTION WITH NO DMG. PHOTOS. ID BY SMITHSONIAN FAA 662 & 676. DAMAGED RADOME AND NOSE (PEELED UP). DMG L WING. WINDSHLD HAD BLOOD ON IT. HORIZ STABIL DENTED. FLOWN TO TX FOR REPAIRS. SIGNIFI',\n",
       "       'PILOT REPTD BIRD AS LRG AND WHITE. INGESTED. SLIGHT VIBRATION. ENG INDICATIONS UNCHANGED. PILOT RETARDED #2 ENG THROTTLE & VIB DIMINISHED. ATC NOTIFIED & FLT CLEARED TO LAND. LANDED W/O INCIDENT. 5 FAN BLADES REPLACED).',\n",
       "       'NO DMG. COST WAS FOR INSPN.',\n",
       "       'AREA IS A WILDLIFE REFUGE WITH KNOWN HAZARDS, HOWEVER, NO WARNING SPECIFIC TO OUR OPERATION WAS ISSUED. PILOT PULLED UP TO AVOID BIRDS. PLANE NOT FLYABLE. ENG REP SAID CORE INGESTION IN BOTH ENGS. MANDATORY TEAR DOWN FOR INSPN. HAD TO RENT 2 ENGS. LANDING',\n",
       "       'ATIS WARNING. PILOT REPTD EXTENSIVE DMG TO RADOME WHICH WAS REPLACED. A/C TAKEN OUT OF SVC.',\n",
       "       'NO DMG. RADAR IN WX/URB MODE. ALL LDG LIGHTS ON. A/C INSPCTD BY FLT CREW & CONTRACT MX PRIOR TO NEXT FLT. COST WAS FOR INSPN.',\n",
       "       'FLOCK FLEW INTO DEPTR PATH. OVER 30 BIRDS WERE KILLED. NACELLE, WING ROOT, LE OF WING, EXHAUST STACK RADOME, RIGHT BRAKE LINE & LIGHTS WERE DAMAGED. BIRD WAS INGESTED. NO INJURIES. COST WAS REPORTED TO BE AT LEAST $100,000.',\n",
       "       'TWO FLOCKS OF SMALL BIRDS OFF DEPT END OF RWY MOVING SOUTH TO NORTH.',\n",
       "       'PILOT SIDE ENG COWLING  AND PILOT SIDE FLAP WERE DAMAGED.',\n",
       "       \"STRIKE WAS AT ROTATION. MADE PREC LDG TO CHECK FOR DMG. BIRD HIT CO/P'S SIDE WINDOW. MINOR SCRATCHES ONLY. PHOTO OF BIRD SENT.\",\n",
       "       'ID BY SMITHSONIAN, FAA 4504. DNA. UPON LDG, PILOT SAW 10 BIRDS FLY LFT TO RT. T LEAST 1 WENT OVER THE WINDSHLD. POST FLT INSPN FOUND STRIKE EVIDENCE ON PROP. WS TOOK DNA SWAB. A/C WAS GROUNDED FOR INSPN. NO DMG. OUT OF SERVICE 2.5 HRS.',\n",
       "       'DMG TO FRONT NOSE WHEEL GEAR DOOR.',\n",
       "       'WENT THRU RT ENG. TORE LOOSE A TEMP PROBE AND CAUSED DAMAGE TO FAN BLADES.',\n",
       "       'NO DMG. STRIKE ON OUTSIDE OF LEFT ENG COWL. SOME REMAINS FOUND ON RT MAIN LDG GEAR. COST FOR INPSN',\n",
       "       'NO DMG.',\n",
       "       'WING, LEADING EDGE HAD A DENT 18\" WIDE, 8\" DEEP. 3 HRS TO APPLY TEMP PATCH.',\n",
       "       ' ENG REPLACED DUE TO SEVERITY OF DAMAGED COMPRESSOR BLADES. INGESTION.',\n",
       "       'A/C NEEDED A CONSIDERABLE AMOUNT OF RESKINNING AND SEVERAL STRINGERS WERE REPLACED. REPAIRS TOTALED OVER $17,000. (DATA ENTRY NOTE: ORIGINAL REPT SHOWED COST AT $30,000)',\n",
       "       'BIRD HIT NOSE GEAR & WENT INTO GEAR BAY. FLT CONTD & LANDED. NO PROBLEMS. COST FOR INSPN.',\n",
       "       'ID BY SMITHSONIAN. BIRDSTRIKE ON APCH ON CHINS 7 ARRIVAL INTO KSEA JUST OVER RADDY INTXN. VMC CONDITIONS. A/C WAS NOT SERVICEABLE AND WAS FERRIED TO KMSP FOR REPAIRS. SPARE A/C WAS FLOWN TO KSEA TO TRANSPORT PAX THAT WERE SCHEDULED ON DAMAGED A/C. FAA REP',\n",
       "       \"HIT BIRD ON L SIDE BETWEEN CAPT'S REAR WINDOW. LRG SMUDGE FOUND IN THAT AREA AND ON UNDERSIDE OF WING BTWN ENG AND FUSELAGE. NO DMG. TIME OUT OF SERVICE 15MINS.\",\n",
       "       'HIT BIRD ON DEPTR END OF RWY. DMG TO #2 ENG. PILOT DECLARED AN EMERGENCY AND DIVERTED TO LOVE FIELD. LANDED W/O INCIDENT.  APPEARED TO HAVE BENT 2 FAN BLADES. BIRD WAS DARK BROWN.',\n",
       "       'UNUSUAL ENG NOISE ON LDG AND ROLLOUT.',\n",
       "       'HIT LRG BIRD ON APCH IN LINE W/ RWY. DID NOT SEE THE BIRD. POST FLT INSPN FOUND DENT TO RT FWD FUSELAGE ABOVE COCKPIT. DMG WITHIN TOLERANCES FOR CONTD SVC. CONVERSATION WITH PILOT CONFIRMED MINOR DMG.',\n",
       "       'NO VIZ DMG',\n",
       "       'SMALL EUROPEAN STARLING. 1200 AGL ON RWY C/L. $100 = INSPN COST.',\n",
       "       'HIT L SIDE OF RADOME, LEAVING LRG DENT AND CRACK. ALSO CRACKED METAL FRAME. EAGLE WS TURNED OVER TO NYSDEC, SCOTT VAN ARSDALE, WILDLF TECH. BIRD WAS FOUND TO HAVE WEST NILE VIRUS.',\n",
       "       \"BIRD WAS GRAY WITH 2' WINGSPAN. UPON LIFT-OFF, PILOT REPTD BIRD STRIKE & REQSTD TO RETURN FOR LDG WITH EQUIPMENT STANDING BY.  LANDED W/O INCIDENT. PILOT REPTD SOME ENG DMG.\",\n",
       "       'ON FINAL APCH AT OUTER MARKER FOREM, SML BIRD HIT JUST AHEAD OF AND BELOW L EYEBROW WINDOW. FOUND BLOOD SMEAR. COST WAS FOR BIRD STRIKE INSPN.',\n",
       "       '25 MI N OF  BUR.  SKW PILOTS ADVISED SKY OPS OF BIRDSTRIKE ON FINAL DESCENT TO BUR RWY 8. REMAINS (BLOOD/SMALL PARTS OF FEATHERS) WERE DISCARDED PRIOR TO ARPT OPS ARVL AND WERE NOT SAVED. A/C MX DESCRIBED SMALL PIECES OF FEATHERS AS BLACK. A/C MX CHARGED',\n",
       "       'GOOSE HIT RT SIDE DAMAGING RT WING STRUT FUSELAGE TO STRUT FAIRING. AFTER LDG, 15 GEESE WERE SEEN IN GRASS BY RWY. STRIKE WAS REPTD TO GSO ATC & MX. A/C RETURNED TO SVC LATER IN DAY.',\n",
       "       'DURING LDG ROLL, 3 DEER ENTERED THE RWY FROM LEFT SIDE AT A FAST PACE MOVING TOWARD THE CENTERLINE A FEW SECONDS LATER 1 DEER WAS STRUCK. THE NOSE GEAR COLLAPSED . A/C EXITED THE RWY. A/C WAS EVACUATED AND RWY CLOSED FOR OVER 3 HRS. RT LEADING EDGE AND UN',\n",
       "       'MOURNING DOVES ROOSTING ON RWY DURING NIGHT. RWY WAS WARMER THAN THE NIGHT AIR. DURING T/O THEY WOKE UP FROM LIGHTS AND NOISE AND THEY FLEW IN FRONT OF A/C.. INGESTED 1 OR MORE IN ENG.',\n",
       "       \"HIT BIRDS ON T/O & L MAIN LDG GEAR INDICATOR WENT OUT. SEVERAL BIRDS THRU L ENG. ENG OPERATED OK. L MAIN GEAR ALSO HIT. GEAR UNSAFE LIGHT CAME ON. DID NOT RAISE GEAR. PREPPED CABIN FOR EVAC, DID FLY BY TWR AT 1000', ASKED FOR FIRE TRUCKS & LANDED UNEVENTF\",\n",
       "       'AT ROTATION A SML FLOCK OF PIGEONS FLEW ACROSS OUR NOSE. SAW 5-6 BIRDS. BOTH F/O AND I THOUGHT WE HEARD 2 LILGHT IMPACTS BUT FELT NOTHING. A/C CONTROLLABILITY & ENG PERFORMANCE NORMAL. I CONSULTED WITH FLT CONTROL AND MX CONTROL ONCE SAFELY AIRBORNE. RELA',\n",
       "       'LARGE WHITE BIRD DID SIGNIF DMG TO LE OF RT WING. PILOT WAS ON DOWNWIND, TURNING BASE TO LAND. AT ABOUT 800 FT AGL SAW WHITE FLASH FROM LFT TO RT IN WINDSCREEN. BIRD HIT LE OF RT WING. (PHOTO ON ARPT WEBSITE)',\n",
       "       'PILOT SAW GRAY BLUR BEFORE BIRD WAS INGESTED.  UNCONTAINED FAILURE, PARTS LEFT THE ENG.  REPLACED NOSE COWL DUE TO NUMEROUS HOLES AND PUNCTURES IN INNER LINER AND 2 LRG PUNCTURES IN OUTSIDE SKIN. REPLACED PRECOOLER FAN AIR AND BLEED AIR INLETS. FAN COWL R',\n",
       "       'REPLACED INLET STATOR',\n",
       "       'NO DMG. BIRD BRUSHED FLAP. 1000 FT FROM RWY 14.',\n",
       "       'BIRD HIT BOTTOM L FWRD WINDSCREEN AND LODGED INTO WIPER BLADE. LANDING ON RWY RIGHT AFTER T/D.',\n",
       "       'BOTTOM HALF OF BIRD INGESTED IN #1 ENG. REQUIRED OVERHAUL.',\n",
       "       \"PILOT REPTD PAINT DMG ON NOSE. CALLED ROC AND NOTIFIED FSDO PER PILOT'S REQUEST. SMASHED NOSE. 3 GEESE IN RT ENG. 1 LODGED IN NOSE. GLANCING BLOWS IN L ENG. RT ENG OK. REPLACED NOSE, RADAR, NOSE BOWL.\",\n",
       "       'ID BY SMITHSONIAN. HIT FLOCK OF LRG BIRDS. PENETRATION. BIRD ENTERED COCKPIT. CABIN DEPRESSURIZED.  WINDSHLD WAS COVERED WITH BLOOD. BIRD DEBRIS AND INSULATION WAS SPLATTERED ON CAPT & COPILOT. 17 STRIKES FOUND. 11 PUNCTURES.  AREAS DENTED INCLUDE ABOVE W',\n",
       "       '3 CRACKS IN WING ABOVE LEADING EDGE 9\" INBD OF WINGTIP. ARPT MGR SAID THERE HAS NEVER BEEN A BIRDSTRIKE AT THAT AIRPORT.',\n",
       "       'POSSIBLY DOVES. COST OF $4000 FOR ENG INSN AND TRAVEL COST OF INSPN TEAM.',\n",
       "       'PILOT REVED ENG TO MOVE GULLS OFF THE RWY. THEY LIFTED OFF & CIRCLED BACK. FLT CREW DID NOT SEE ANY BIRDS ON OR AROUND RWY. POWER WAS APPLIED FOR T/O. AS SPEED INCREASED, F/O CALLED \"V1\". & IMMEDI. ALERTED PILOT TO BIRDS WHICH BEGAN TO HIT A/C. WHILE PILO',\n",
       "       'RAN THRU 2 FLOCKS OF BIRDS ON 2 MILE FINAL. 2 STRIKES. 1 ON L ENG OTHER ON NOSE STRUT. BROKE BOTH LIGHTS (LDG & TAXI). ONLY HEARD I IMPACT. RPL RT NLG LDG LIGHT FRAME & RETAINER. RPL OTH NLG LDG LTS. 4 FAN BLADES DAMGED AT TIPS & MID SPAN. MANY BLADES HAV',\n",
       "       'ID BY SMITHSONIAN, FAA 1572. FLT DELAY FOR 5 HRS. BORESCOPE INSPN FOUND NO ENG DMG. COST WAS FOR INSPN.',\n",
       "       'HIT 2 OUT OF 4 DEER AFTER THRUST REVERSER DEPLOYMENT. BROKE #2 COMM ANTEANN OFF. VERY MINOR SKIN DAMAGE AT NOSE GEAR.',\n",
       "       'NO DMG. TOUCHDOWN ZONE. TIME OUT OF SERVICE REPTD AS .20 HRS.',\n",
       "       'ID BY SMITHSONIAN, FAA 2422 & 2381 A & B.100% DNA MATCH. BIRDSTRIKE AT ROTATION. CREW DID NOT NOTICE DMG UNTIL INSPN AT KONT. DENT WAS 5\" BY 8\" AND 1\" DEEP. LOTS OF BLOOD ON LEFT ENG COWL AND PYLON. A/C WAS REMOVED FROM SERVICE. PHOTOS OF DMG.  DELAYED FL',\n",
       "       '',\n",
       "       '1ST STAGE IMPELLER WAS DESTROYED BY BIRD INGESTION. PIECES OF METAL AND BIRD WENT THRU THE ENG CAUSING MAJOR DMG. UNCONTAINED FAILURE. MAYBE WHITE GEESE. ASSUME SNOW GEESE FROM DATE AND LOCATION',\n",
       "       'ID BY SMITHSONIAN, FAA 2562. TIME OUT OF SERVICE 0.2 HRS. INSPN COST $100.',\n",
       "       \"HIT L SIDE FUSELAGE UNDER CAPT'S WINDOW. NO DMG. COST FOR 1 HR INSPN. CAPT HEARD A POP SOUND ON HIS SIDE OF A/C. SUSPECTED BIRDSTRIKE.\",\n",
       "       'HIT FLOCK OF OVER 300 BIRDS. 1 ENG LOST THRUST. DMG TO #1 ENG INCLUDED BENT FAN BLADE AND SEVERAL DAMAGED COMPRESSOR BLADES. REMOVED AND REPLACED #2 FAN LADES DUE TO DMG. BOTH ENGS SHOWED FLUCTUATION. ARPT ESTIMATED # STRUCK TO BE 38 BASED ON REMAINS FOUN',\n",
       "       'DMG TO LEFT OUTBOARD FLAP. HEIGHT REPTD AS 50-100 FT, TOOK AVG. FLAP WAS REPLACED.',\n",
       "       'HIT SEVERAL SML BLACK BIRDS ON DEPTR. ARFF RESPONDED. DMG TO L WING. DENTS. BLOOD ON PROP.',\n",
       "       'THREE DEAD BIRDS FOUND ON RWY. ONE FOUND IN LANDING LIGHT IT HAD COME THRU THE LANDING LIGHT LENS.',\n",
       "       '5 MEDIUM BLACK BIRDS WERE FOUND ON RWY. PILOT SAW 15-20. REPTD A DENT IN WING & RT OTBD WITH POSSIBLE DMG TO ENG AND OTHER PARTS OF A/C.',\n",
       "       'TIME OUT OF SERVICE 1/2 HR.  COST OF REPAIRS REPTD AS $300 BUT NO DMG CHECKED. COST OF INSPN REPTD AS $300. CALL TO PILOT CONFIRMED ONLY $300 COST FOR INSPN. NO DMG.',\n",
       "       'CRACKED RADOME IN 2 PLACED. REMAINS WEDGED BTWN UPPER CRACK.',\n",
       "       'DMG TO A/C. DENT IN BOTH WINGS. L/E AND UNDERSIDE. TOP TAIL ROTATING BEACON DMG. RIP IN DE-ICE BOOT.',\n",
       "       'SAW 2 BIRDS FLYING ACROSS RWY BUT UNABLE TO AVOID. POOR LIGHT CONDITIONS. BIRD WAS INGESTED AFTER V1. SEVERE COMPRESSOR STALLS. 1ST STAGE FAN HAD AT LEAST 2 BLADES DMGD. APPROX $250000 DMG.',\n",
       "       \"HIT BIRD ON CROSSWIND DURING PATTERN WORK. SAW BIRD FALL FROM 600' AGL. FELL INTO GRASS JUST OFF TWY. WARNED TWR OF LOCATION. TIME OUT OF SERVICE 12 MINS. COST 50.\",\n",
       "       'LT LICCARDO , J FLIGHT, 7177',\n",
       "       \"GRAY BIRD. DEFORMED SHEET METAL ON PILOT'S CHIN BUBBLE.\",\n",
       "       '5 DEER SEEN ON N SIDE OF RWY. ABORTED T/O BUT ANOTHER DEER ON S SIDE OF RWY RAN INTO PATH OF A/C. L WING LE AND ANTI-ICE PANEL STRUCK AND DAMAGED. L WING FUEL CELL RUPTURED AT LWR FWD WING ROOT.',\n",
       "       'RIGHT AFTER T/D SAW 3 MOURNING DOVES PASS DOWN LOWER RT PORTION OF FUSELAGE. POSTFLT INSPN REVEALED ONE BIRDSTRIKE TO RT RAM AIR DOOR DEFLECTOR. FEW FEATHERS AND SOME ORGANIC TISSUE ON THE DOOR. NO DMG TO A/C. MX INSPN AND CLEANED OFF BIRD REMAINS.',\n",
       "       'RADOME IMPACTED AND LOST PAINT WITH IMPACT DMG. DID NOT PENETRATE RADOME. PAINT SCRAPE RIGHT ABOVE NOSE CONE. LOCATION REPTD AS 30  NE OF KIXD.',\n",
       "       'VIS DMG.', '',\n",
       "       'HEARD BIRD IMPACT ON FISELAGE. POSTFLT INSPN REVEALED BIRD FEATHERS ON AOA VANE AND A BLOOD SMEAR IMMED BEHIND THE AOA VANE. CONTRACT MX CONTACTED TO INSPECT FOR DMG AND CLEAN REMAINS. LOCATION REPTD AS 20 MILES WEST.',\n",
       "       'POSSIBLE GULL. NO DMG. MX INSPN. STRIKE WAS REPTD IMMEDIATELY TO DAL TWR FOR POSSIBLE FOD.',\n",
       "       \"NO SMELL OF BIRD IN ENG. WE CONTD FLT. LOST ITT GAUGE OUT OF 11,000'. LATER FOUND TI PROBE WAS HIT AND INGESTED THRU ENG.\",\n",
       "       \"STRUCK COYOTE AT 3000' REMAINING MARKER. PILOT SAID ANIMAL WAS MOVING AWAY FROM THE A/C PATH WHEN IT REVERSED DIRECTION AND RAN IN FRONT OF NOSE GEAR. SEVERED ANIMAL MID-SECTION. A/C HAD BROKEN TAXI LIGHT. TAXIED TO PARKING AND DEPLANED W/O INCIDENT. NO C\",\n",
       "       'LARGE BLACK BIRD SWOOPED DOWN IN FRONT OF L WING AND STRUCK LE NEAR OUTER PORTION OF WING, BUCKLED AREA INWARD, SIGNIFICANT DMG TO OUTER 1/4 OF WING (BEFORE END CAP). BLACK BIRD, LARGE CROW OR SIMILAR. NO REMAINS FOUND.',\n",
       "       'DAMAGE TO LEADING EDGE WAS ABOUT 7\" X 5\" X 3\" AND AUSED THE LEADING EDGE SKIN TO CRACK.',\n",
       "       'HIT 20-25 SML BIRDS AT BR (136 KTS). LIKELY IN ENGS AND OR AIR/COND SYSTEM. EVIDENCE OF CORE INGESTION. BORESCOPE NEEDED. CLEANED LE AND TE FLAP SLATS. DMG FOUND ON COMPRESSOR STG 4 BLADES NEEDS FURTHER EVAL. OUT OF LIMITS. #2 ENG HAD EVIDENCE OF CORE ING',\n",
       "       'ENG INGESTED AT LEAST 1 GULL (BIRD ID BY SMITHSONIAN). ATC TOLD PILOT THEY SAW PART OF ONE ENG FALL TO THE GROUND & WARNED THE PILOT WHO FELT VIBRATIONS. WITNESSES HEARD 3 LOUD BANGS AND SAW FLAMES COMING FROM BACK SIDE OF ENG. FLT 602 SHUT ENG & DUMPED 8',\n",
       "       \"NO DMG. DIDN'T SEE IT JUST HEARD IT AND FOUND SPOT AFTER WE PARKED. HIT NOSE GEAR DOOR.\",\n",
       "       'BIRD HIT INSIDE L ENG COWL, THRU THE PROP. LARGE PART OF WHAT APPEARED TO BE A BIRD BREAST WAS LODGED AGAINST THE FRONTMOST CYLINDER WALLS. PROP SLIGHTLY DAMAGED. AND WAS REPLACED. BECAUSE OF PROP STRIKE, ENG WAS ALSO CHANGED OUT. PHOTOS.',\n",
       "       '',\n",
       "       'HIT DEER CROSSING RWY JUST AFTER LDG. HIT MID RT WING, DMG TO WING, FLAPS AND WHEEL BOOT. NO INJURIES.',\n",
       "       '1 GOOSE OUT OF A FLOCK OF ABOUT 10, GRAZED THE RADOME CAUSING SOME DMG. FORTUNATELY IT WAS NOT A DIRECT STRIKE.',\n",
       "       'PIGEON SIZE BIRD. ON SHORT FINAL RWY 35, A/C INCURRED POTENTIAL BIRDSTRIKE. UPON INSPN AFTER LANDING, A SMALL RED MARK ON RADOME AND DUST ON R NACELLE. PERFORMED DETAILED VISUAL INSPN OF FAN, STATOR, LINER AND FIRST STAGE COMP WHICH REVEALED NO DEBRIS OR',\n",
       "       'ID BY SMITHSONIAN, FAA 3589. FLOCK OF BIRDS WAS EITHER SITTING OR WALKING ACROSS RWY AND TOOK FLT WHEN THE A/C ENTERED THE LANDING FLARE. ABOUT 10-20 BIRDS WERE STRUCK. COWLING WAS REPLACED AS WELL AS LANDING GEAR SYSTEM.',\n",
       "       'DENT ON RT OTBD SLAT WAS ABOUT 1/2\" DEEP AND 4 1/2 \" LONG AND 2\" HIGH. PHOTOS WITH REPT.',\n",
       "       'PREC LDG. BIRDTRIKE INSPNC FOUND NO DEFECTS. COST WAS FOR PREC LDG AND INSPN.',\n",
       "       'CROW? RT WING LE DAMAGED. COST RANGE $10-15,000.',\n",
       "       \"ID BY SMITHSONIAN. ALL 3 SAMPLES WERE SAME SPECIES. DURING LDG FLARE WE SAW A BIRD HIT CAPT'S WINDSCREEN. LRG SMEAR LEFT ON WINDOW. AT GATE, MX REPTD MULTIPLE STRIKES ON WING & BOTH ENGINES. PILOTS DID NOT SEE MULTIPLE BIRDS. REMAINS COLLECTED FROM ALL 3\",\n",
       "       'DURING ROLLOUT SAW 5 SANDHILL CRANES STANDING IN CENTER OF RWY. NO WAY TO AVOID THEM.',\n",
       "       '', '',\n",
       "       'BIRDS INGESTED INTO #1 ENG. MULTIPLE BIRD PARTS STUCK TO BOTTOM OF #1 ENG STATOR VANES. REPLACEMENT A/C USED TO COMPLETE THE FOLLOWING FLIGHT. MX FOUND NO DMG.',\n",
       "       '',\n",
       "       'HIT #1 ENG ITT PROBE. DAMAGED MANY FAN BLADES. ENG REPLACED. OVERWT LDG INSPN. 3 WEEKS OUT OF SVC. (DATA ENTRY NOTE: BIRD REPTD AS DOVE, ASSUME MOURNING DOVE FROM WS BIOL INFO. NO CONFIRMATION ABOUT SPECIES, HOWEVER.)',\n",
       "       'OCCURRED AT ROTATION POINT PAST V1',\n",
       "       'PILOT REPTD SEEING A FLASH AT 700 FT. 1 BIRD ENTERED GAS PATH OF L ENG, OTHER IMPACTED L WING FLAP.',\n",
       "       'PILOT REPTD STRIKING BIRD WHEN TURNING BASE TO JOIN FINAL APCH. THERE APPEARS TO BE SOME BUCKLING OF SKIN. A/C WAS STRUCK ON THE NOSE. THE BULKHEAD HAD TO BE REPLACED. PHOTOS.',\n",
       "       \"AT 1200 FT DOWN RWY, WE HIT 2 GEESE SLEEPING RT OF CENTERLINE ON RWY. IT WAS RAINING HARD AND WE DIDNT'S EE THEM UNTIL LANDING LITES ILLUMINATED THEM. HIT RT MAIN GEAR. DMG T OUT DEAR DOOR HINGE.\",\n",
       "       'ENTIRE STABILATOR WAS REMOVED AND REPLACED THE ENTIRE RH LEADING EDGE.',\n",
       "       'REPLACED STROBE LIGHT AND PLASTIC CAP ON WINGTIP.',\n",
       "       'BIRDSTRIKE REPORTED ON FINAL. ARFF RESPONDED. DENT IN RADOME AND DAMAGE TO RADAR ENTENNA. CARCASS REMOVED FROM RWY.',\n",
       "       'SEVERAL A/C REPTD NUMEROUS FLOCKS OF BIRDS TO APCH CONTROL. WE WERE LOOKING FOR THEM. AT 20 MILES NORTH OF ARPT WE ENCOUNTERED A LRG FLOCK OF SMALL BLACK BIRDS. (SEVERAL HUNDRED). MX FOUND VERT. STAB. LE  HAD A DEEP DENT WHICH WAS OUT OF LIMITS. THE VERT',\n",
       "       'DENTED WING',\n",
       "       'ID BY SMITHSONIAN. PS FOUND HAWK ALONG WITH PARTS ON RWY. USDA/WS COLLECTED FEATHER SAMPLE FROM PARTS TO BE SURE STRIKE WAS THE SAME BIRD. A/C REPAIRED AT DESTINATION.',\n",
       "       'MED-SIZED BLACK BIRD. DENTED.  WINGTIP DMG. SHATTERED RECOG LIGHT. POSSIBLY A TURKEY VULTURE. (DATA ENTR NOTE: STRIKE ALSO REPTD BY OPS SUPV, WHO SHOWED  PHASE AS CLIMB AND EFFECT AS PREC LDG)',\n",
       "       'RADOME DESTROYED ($10-20,000). LARGE BROWN AND WHITE BIRD. 5-10 DAYS OUT OF SERVICE',\n",
       "       'ID BY SMITHSONIAN. ACCORDING TO CAPT, HE WAS ON TAKE OFF RUN WHEN THE STRIKE OCCURRED. HE WAS ABLE TO LAND AND TAXIED TO WYMAN AVIATION AT OPF. WING LEADING EDGE WAS DENTED AND REPAIRS WERE NEEDED BEFORE A/C COULD BE USED.',\n",
       "       'DEPARTING RWY 36, KRPB AT DAWN, AT START OF ROTATION, FIRST, A DOE DEER RAN OUT AND ALONG RT SIDE OF A/C. SECOND, BIRDSTRIKE AT ABOUT 300 FT AGL. A GROUP OF THREE BLACK BIRDS. GROUP OF BLACK BIRDS DOVE AND I HAD JUST ENOUGH AIRSPEED TO PULL BACK YOKE TO A',\n",
       "       'NO AFFECT ON A/C PERFORMANCE OR POWER. MX INSPECT A/C AND FOUND BLOOD ON THE UNDERSIDE OF FUSELAGE. NO OTHER BIRD REMAINS FOUND AND A/C NOT DMG.\\r\\nOPERATOR = TEXAS STATE TECH COLLEGE',\n",
       "       \"BIRD WAS ID'D BY WS BIOL. BIRD BOUNCED OFF OF COWLING AND WAS NOT INGESTED.\",\n",
       "       'ID BY SMITHSONIAN, FAA 2900. SAMPLE WAS MOLDY NO DNA SEQ. PILOT REPTD SEEING 2 BIRDS ON RWY. 1 POSSIBLY HIT A/C. PREC LDG. HAD TO SHUT DOWN #1 ENG. FOUND 2 FAN BLADES DAMAGED BEYOND REPAIR, ATTRITION LINER DENTED.  ALSO DAMAGED WERE T/R OUTBD LINER BRACKE',\n",
       "       'BIRD HIT RHS FUSELAGE AND WENT THRU #2 ENG. COMPRESSOR STALLED BUT CONTD TO RUN. REDUCED POWER TO FLT IDLE. ENG INDICATIONS WITHIN NORMAL LIMITS. DECLARED EMERGENCY AND MADE UNEVENTFUL SINGLE ENG LDG AT DET. #2 FAN ASSEMBLY HAD 18 DAMAGED BLADES.',\n",
       "       'BIRD HIT RT LE OF WING. DAMAGE DID NOT AFFECT FLIGHT CHARACTERISTICS. RAVENS FREQUENTLY ARE NEAR S END BOUNDARY OF  ARPT. FLY NEAR POND 1/8 MI S OF RWY 21/3. REPTD AS RAVEN, ASSUME COMMON.',\n",
       "       \"SML DENT ON L WING LEG 6' FROM FUSELAGE. REPAIR PULLED DENTED AREA OUT AND IS RELATIVELY SMOOTH TO ADJOINING SURFACE. CONFLICTING REPTS FOR WHERE STRIKE OCCURRED. 1 SAYS APCH TO SEA THE OTHER SAYS CLIMB OUT OF SKAGIT)\",\n",
       "       'ID BY SMITHSONIAN. DENT IN UPPER L/E AND TOP FRONT OF WING.',\n",
       "       'DENTED SHEET METAL ON NOSE.',\n",
       "       'JUVENILE WHOOPING CRANE. SAW 4, HIT 1. LEFT INBD FLAP DMG. HAD TO RENT A FLAP WHILE REPAIRS WERE BEING MADE. THIS CRANE WAS PART OF THE FLOCK THAT WAS BEING TRAINED TO MIGRATE BY OPERATION MIGRATION AND WAS KNOWN AS DAR 741.',\n",
       "       '',\n",
       "       'NUMEROUS BIRDSTRIKES ON T/O. ABORTED T/O BTWN 90-100 KTS.  REMAINS OF 3 JUVENILE RB GULLS WERE RECOVERED BY OPS. A/C WAS TAKEN OUT OF SERVICE. A/C - EMB 140',\n",
       "       'BIRD REPTD AS MED SIZED WATERFOWL. BORESCOPE FOUND NO DMG. FLT CANCELLED. REMAINS ON CORE AND BYPASS SECTION OF #2 ENG. FATAL INJURIES TO BIRD.',\n",
       "       'ALLEGED BIRDSTRIKE ON TOUCHDOWN. BIRD SEEN AND FELT BUT NO EVIDENCE FOUND. A/C OUT OF SERCIVE 6 MINUTES.',\n",
       "       'TAKEOFF IMMEDIATELY AFTER ROTATION AND LIFT OFF RWY 6. WE SAW A FLOCK OF APPROX 20-30 CANADA GEESE FLY UP FROM L SIDE OF RWY 6 SHORTLY AFTER REACHING V1. BIRDS THEN FLEW DIRECTLY ACROSS RWY FROM L-R. WE COULD NOT ABORT T/O AND TRIED TO ROTATE QUICKLY ENOU',\n",
       "       'SML BIRD (LIKELY A SPARROW) HIT LIP OF #1 ENG INLET. BIRD WAS CHOPPED IN HALF. PART WENT UNDER NACELLE AND PART WAS FOUND AGAIN ENG INTAKE SCREEN.',\n",
       "       '', 'CRACK IN COMPOSITE TRANSMISSION COWLING.',\n",
       "       '2-3 NM NORTH OF CHARLOTTE COUNTY ARPT, A BROWN BIRD APPEARED ON HIS LEFT ON A COLLISION COURSE. HE BANKED LEFT TO AVOID BIRD BY HEARD A CRASH. SAW DMG TO RT HORIZONTAL STABILIZER LEADING EDGE. RUDDER & PITCH CONTROL WERE AFFECTED. LANDED UNEVENTFULLY AT D',\n",
       "       \"AFTER BEING CLEARED TO LAND, PILOT SAW A BIRD ABOUT 30' OVER A/C. BIRD TUCKED AND DOVE AT A/C, SHATTERING RT WINDSCREEN. R/SIDE GLARESHIELD DAMAGED. RIGHT FRONT AND REAR PASSENGERS RECEIVED MINOR INJURIES. PILOT TRIED TO CALL TWR BUT RADIO WAS NOT WORKING\",\n",
       "       'ATIS WARNING. DAMAGED LEFT BOTTOM FIBERGLASS COWLING WITH MAJOR PAINT DMG.',\n",
       "       \"DEER LEFT GRASS AREA BTWN WOODS AND RWY, ENTERED LDG AREA AND HIT A/C AT 90 DEGREE ANGLE IN RT LWR FIREWALL AREA,(NO DMG HERE), LWR WING LIFT STRUT AND RT MAIN LDG GEAR SUPPORT/STRUT. PILOT REPTD DEER'S HEAD HIT THE FUELING STEP WHICH IS JUST FWD OF THE W\",\n",
       "       'NO DMG. COST FOR INSPN ONLY.',\n",
       "       'BIRDS HIT US JUST AFTER ROTATION, THEREFORE WE WERE TECHNICALLY ON GRND, THEREFORE \"0\" FT. COSTS REFLECTED EST FOR COST OF CONTRACT MX TO INSPECT A/C IN SAN ANTONIO.',\n",
       "       'FLOCK OF MED SIZED BIRDS CROSSED THE LANDING RWY FROM THE WEST. A/C BEING INSPECTED BUT IS BELIEVED THAT ONE OR MORE BIRDS STRUCK THE RADOME. OTHER STRIKES NOT READILY APPARENT. NO EFFECT ON LANDING.',\n",
       "       'SML WATER BIRD HIT ON SHORT FINAL. MADE SLIGHTLY AUDIBLE SOUND ON IMPACT. NO DMG SEEN UNTIL LDG. SML CRACK, 4-6\" IN LWR LEFT CORNER OF RT FRONT WINDSCREEN.',\n",
       "       'IMPACT DMG TO L UPPER WING SURFACE.'], dtype=object)"
      ]
     },
     "execution_count": 361,
     "metadata": {},
     "output_type": "execute_result"
    }
   ],
   "source": [
    "new_col1(train_input)"
   ]
  },
  {
   "cell_type": "code",
   "execution_count": 362,
   "metadata": {},
   "outputs": [
    {
     "data": {
      "text/plain": [
       "(844,)"
      ]
     },
     "execution_count": 362,
     "metadata": {},
     "output_type": "execute_result"
    }
   ],
   "source": [
    "new_col1(train_input).shape"
   ]
  },
  {
   "cell_type": "markdown",
   "metadata": {},
   "source": [
    "#### Creating Separate Pipeline for numerical, categorical,binary,text and feature engineering columns"
   ]
  },
  {
   "cell_type": "code",
   "execution_count": 363,
   "metadata": {},
   "outputs": [],
   "source": [
    "numerical_transformer = Pipeline(steps=[\n",
    "                ('imputer', SimpleImputer(strategy='median')),\n",
    "                ('scaler', StandardScaler())])"
   ]
  },
  {
   "cell_type": "code",
   "execution_count": 364,
   "metadata": {},
   "outputs": [],
   "source": [
    "categorical_transformer = Pipeline(steps=[\n",
    "    ('imputer', SimpleImputer(strategy='constant', fill_value='unknown')),\n",
    "    ('onehot', OneHotEncoder(handle_unknown='ignore'))])"
   ]
  },
  {
   "cell_type": "code",
   "execution_count": 365,
   "metadata": {},
   "outputs": [],
   "source": [
    "binary_transformer = Pipeline(steps=[\n",
    "    ('imputer', SimpleImputer(strategy='most_frequent'))])"
   ]
  },
  {
   "cell_type": "code",
   "execution_count": 366,
   "metadata": {},
   "outputs": [],
   "source": [
    "Feature_column = Pipeline(steps=[('new_column1', FunctionTransformer(new_col)),\n",
    "                               ('scaler', StandardScaler())])"
   ]
  },
  {
   "cell_type": "code",
   "execution_count": 367,
   "metadata": {},
   "outputs": [],
   "source": [
    "text_transformer = Pipeline(steps=[\n",
    "                ('new_column2', FunctionTransformer(new_col1)),\n",
    "                ('text', TfidfVectorizer(stop_words='english')),\n",
    "                ('svd', TruncatedSVD(n_components=100, n_iter=10))\n",
    "            ])"
   ]
  },
  {
   "cell_type": "code",
   "execution_count": 368,
   "metadata": {},
   "outputs": [],
   "source": [
    "preprocessor = ColumnTransformer([\n",
    "        ('num', numerical_transformer, numerical_columns),\n",
    "        ('cat', categorical_transformer, categorical_columns),\n",
    "        ('binary', binary_transformer, binary_columns),\n",
    "        ('trans', Feature_column, feature_eng_columns),\n",
    "        ('text', text_transformer, text_column)],\n",
    "        remainder='drop')"
   ]
  },
  {
   "cell_type": "markdown",
   "metadata": {},
   "source": [
    "#### Applying Fit_transform to train and transform to test"
   ]
  },
  {
   "cell_type": "code",
   "execution_count": 369,
   "metadata": {},
   "outputs": [
    {
     "data": {
      "text/plain": [
       "array([[-9.32546683e-01,  1.81551296e-01,  1.98058746e-01, ...,\n",
       "         2.94670781e-03, -6.01240246e-02,  5.17963325e-02],\n",
       "       [ 4.30778926e-01, -1.64260696e+00, -4.44313565e-01, ...,\n",
       "         1.52421443e-02,  4.33439227e-03,  9.62677762e-03],\n",
       "       [-2.86760868e-01,  1.81551296e-01,  1.92752266e+00, ...,\n",
       "        -2.36161015e-03,  5.88316197e-02,  1.15642039e-02],\n",
       "       ...,\n",
       "       [-1.50657852e+00,  1.81551296e-01, -5.40669411e-01, ...,\n",
       "         8.09007767e-04, -1.18268397e-03,  3.61684198e-02],\n",
       "       [-1.43252909e-01,  1.81551296e-01, -4.44313565e-01, ...,\n",
       "        -8.63788532e-02, -4.78963915e-02,  3.81348849e-02],\n",
       "       [-3.58514848e-01, -1.64260696e+00,  4.45125019e-01, ...,\n",
       "        -7.78072602e-02,  2.11083070e-02, -9.79086193e-02]])"
      ]
     },
     "execution_count": 369,
     "metadata": {},
     "output_type": "execute_result"
    }
   ],
   "source": [
    "train_x = preprocessor.fit_transform(train_input)\n",
    "\n",
    "train_x"
   ]
  },
  {
   "cell_type": "code",
   "execution_count": 370,
   "metadata": {},
   "outputs": [
    {
     "data": {
      "text/plain": [
       "(844, 234)"
      ]
     },
     "execution_count": 370,
     "metadata": {},
     "output_type": "execute_result"
    }
   ],
   "source": [
    "train_x.shape"
   ]
  },
  {
   "cell_type": "code",
   "execution_count": 371,
   "metadata": {},
   "outputs": [
    {
     "data": {
      "text/plain": [
       "array([[ 1.00481076e+00,  1.81551296e-01, -5.43140074e-01, ...,\n",
       "         9.45002836e-04,  2.15953097e-02,  2.40874320e-03],\n",
       "       [ 7.20090291e-02,  1.81551296e-01,  1.43339011e+00, ...,\n",
       "         3.06612496e-02,  5.64711725e-02, -1.72515356e-02],\n",
       "       [-1.21956260e+00, -1.64260696e+00, -5.43140074e-01, ...,\n",
       "        -4.16164413e-03, -5.65952505e-03,  7.62418461e-02],\n",
       "       ...,\n",
       "       [-7.14989298e-02, -1.64260696e+00, -4.90075273e-02, ...,\n",
       "         1.19554835e-02,  5.65814091e-02, -2.95823843e-02],\n",
       "       [ 3.08567617e+00,  1.81551296e-01, -4.93726819e-01, ...,\n",
       "         1.76157489e-02, -1.10875258e-02, -2.66993227e-02],\n",
       "       [ 3.59024947e-01,  1.81551296e-01, -4.93726819e-01, ...,\n",
       "         1.07971839e-02,  3.33977313e-02, -1.90462733e-02]])"
      ]
     },
     "execution_count": 371,
     "metadata": {},
     "output_type": "execute_result"
    }
   ],
   "source": [
    "# Transform the test data\n",
    "\n",
    "test_x = preprocessor.transform(test_input)\n",
    "\n",
    "test_x"
   ]
  },
  {
   "cell_type": "code",
   "execution_count": 372,
   "metadata": {},
   "outputs": [
    {
     "data": {
      "text/plain": [
       "(363, 234)"
      ]
     },
     "execution_count": 372,
     "metadata": {},
     "output_type": "execute_result"
    }
   ],
   "source": [
    "test_x.shape"
   ]
  },
  {
   "cell_type": "markdown",
   "metadata": {},
   "source": [
    "## Find the Baseline (1 point)"
   ]
  },
  {
   "cell_type": "code",
   "execution_count": 373,
   "metadata": {},
   "outputs": [
    {
     "data": {
      "text/html": [
       "<style>#sk-container-id-58 {color: black;}#sk-container-id-58 pre{padding: 0;}#sk-container-id-58 div.sk-toggleable {background-color: white;}#sk-container-id-58 label.sk-toggleable__label {cursor: pointer;display: block;width: 100%;margin-bottom: 0;padding: 0.3em;box-sizing: border-box;text-align: center;}#sk-container-id-58 label.sk-toggleable__label-arrow:before {content: \"▸\";float: left;margin-right: 0.25em;color: #696969;}#sk-container-id-58 label.sk-toggleable__label-arrow:hover:before {color: black;}#sk-container-id-58 div.sk-estimator:hover label.sk-toggleable__label-arrow:before {color: black;}#sk-container-id-58 div.sk-toggleable__content {max-height: 0;max-width: 0;overflow: hidden;text-align: left;background-color: #f0f8ff;}#sk-container-id-58 div.sk-toggleable__content pre {margin: 0.2em;color: black;border-radius: 0.25em;background-color: #f0f8ff;}#sk-container-id-58 input.sk-toggleable__control:checked~div.sk-toggleable__content {max-height: 200px;max-width: 100%;overflow: auto;}#sk-container-id-58 input.sk-toggleable__control:checked~label.sk-toggleable__label-arrow:before {content: \"▾\";}#sk-container-id-58 div.sk-estimator input.sk-toggleable__control:checked~label.sk-toggleable__label {background-color: #d4ebff;}#sk-container-id-58 div.sk-label input.sk-toggleable__control:checked~label.sk-toggleable__label {background-color: #d4ebff;}#sk-container-id-58 input.sk-hidden--visually {border: 0;clip: rect(1px 1px 1px 1px);clip: rect(1px, 1px, 1px, 1px);height: 1px;margin: -1px;overflow: hidden;padding: 0;position: absolute;width: 1px;}#sk-container-id-58 div.sk-estimator {font-family: monospace;background-color: #f0f8ff;border: 1px dotted black;border-radius: 0.25em;box-sizing: border-box;margin-bottom: 0.5em;}#sk-container-id-58 div.sk-estimator:hover {background-color: #d4ebff;}#sk-container-id-58 div.sk-parallel-item::after {content: \"\";width: 100%;border-bottom: 1px solid gray;flex-grow: 1;}#sk-container-id-58 div.sk-label:hover label.sk-toggleable__label {background-color: #d4ebff;}#sk-container-id-58 div.sk-serial::before {content: \"\";position: absolute;border-left: 1px solid gray;box-sizing: border-box;top: 0;bottom: 0;left: 50%;z-index: 0;}#sk-container-id-58 div.sk-serial {display: flex;flex-direction: column;align-items: center;background-color: white;padding-right: 0.2em;padding-left: 0.2em;position: relative;}#sk-container-id-58 div.sk-item {position: relative;z-index: 1;}#sk-container-id-58 div.sk-parallel {display: flex;align-items: stretch;justify-content: center;background-color: white;position: relative;}#sk-container-id-58 div.sk-item::before, #sk-container-id-58 div.sk-parallel-item::before {content: \"\";position: absolute;border-left: 1px solid gray;box-sizing: border-box;top: 0;bottom: 0;left: 50%;z-index: -1;}#sk-container-id-58 div.sk-parallel-item {display: flex;flex-direction: column;z-index: 1;position: relative;background-color: white;}#sk-container-id-58 div.sk-parallel-item:first-child::after {align-self: flex-end;width: 50%;}#sk-container-id-58 div.sk-parallel-item:last-child::after {align-self: flex-start;width: 50%;}#sk-container-id-58 div.sk-parallel-item:only-child::after {width: 0;}#sk-container-id-58 div.sk-dashed-wrapped {border: 1px dashed gray;margin: 0 0.4em 0.5em 0.4em;box-sizing: border-box;padding-bottom: 0.4em;background-color: white;}#sk-container-id-58 div.sk-label label {font-family: monospace;font-weight: bold;display: inline-block;line-height: 1.2em;}#sk-container-id-58 div.sk-label-container {text-align: center;}#sk-container-id-58 div.sk-container {/* jupyter's `normalize.less` sets `[hidden] { display: none; }` but bootstrap.min.css set `[hidden] { display: none !important; }` so we also need the `!important` here to be able to override the default hidden behavior on the sphinx rendered scikit-learn.org. See: https://github.com/scikit-learn/scikit-learn/issues/21755 */display: inline-block !important;position: relative;}#sk-container-id-58 div.sk-text-repr-fallback {display: none;}</style><div id=\"sk-container-id-58\" class=\"sk-top-container\"><div class=\"sk-text-repr-fallback\"><pre>DummyRegressor()</pre><b>In a Jupyter environment, please rerun this cell to show the HTML representation or trust the notebook. <br />On GitHub, the HTML representation is unable to render, please try loading this page with nbviewer.org.</b></div><div class=\"sk-container\" hidden><div class=\"sk-item\"><div class=\"sk-estimator sk-toggleable\"><input class=\"sk-toggleable__control sk-hidden--visually\" id=\"sk-estimator-id-119\" type=\"checkbox\" checked><label for=\"sk-estimator-id-119\" class=\"sk-toggleable__label sk-toggleable__label-arrow\">DummyRegressor</label><div class=\"sk-toggleable__content\"><pre>DummyRegressor()</pre></div></div></div></div></div>"
      ],
      "text/plain": [
       "DummyRegressor()"
      ]
     },
     "execution_count": 373,
     "metadata": {},
     "output_type": "execute_result"
    }
   ],
   "source": [
    "from sklearn.dummy import DummyRegressor\n",
    "\n",
    "dummy_regr = DummyRegressor(strategy=\"mean\")\n",
    "\n",
    "dummy_regr.fit(train_x, train_target)"
   ]
  },
  {
   "cell_type": "code",
   "execution_count": 374,
   "metadata": {},
   "outputs": [],
   "source": [
    "from sklearn.metrics import mean_squared_error"
   ]
  },
  {
   "cell_type": "code",
   "execution_count": 375,
   "metadata": {},
   "outputs": [
    {
     "name": "stdout",
     "output_type": "stream",
     "text": [
      "Baseline Train RMSE: 339533.22389087797\n"
     ]
    }
   ],
   "source": [
    "#Baseline Train RMSE\n",
    "dummy_train_pred = dummy_regr.predict(train_x)\n",
    "\n",
    "baseline_train_mse = mean_squared_error(train_target, dummy_train_pred)\n",
    "\n",
    "baseline_train_rmse = np.sqrt(baseline_train_mse)\n",
    "\n",
    "print('Baseline Train RMSE: {}' .format(baseline_train_rmse))"
   ]
  },
  {
   "cell_type": "code",
   "execution_count": 376,
   "metadata": {},
   "outputs": [
    {
     "name": "stdout",
     "output_type": "stream",
     "text": [
      "Baseline Test RMSE: 302873.3517635203\n"
     ]
    }
   ],
   "source": [
    "#Baseline Test RMSE\n",
    "dummy_test_pred = dummy_regr.predict(test_x)\n",
    "\n",
    "baseline_test_mse = mean_squared_error (test_target, dummy_test_pred)\n",
    "\n",
    "baseline_test_rmse = np.sqrt(baseline_test_mse)\n",
    "\n",
    "print('Baseline Test RMSE: {}' .format(baseline_test_rmse))"
   ]
  },
  {
   "cell_type": "markdown",
   "metadata": {},
   "source": [
    "# Section 2: \n",
    "\n",
    "Build the following models:\n"
   ]
  },
  {
   "cell_type": "markdown",
   "metadata": {},
   "source": [
    "## Decision Tree: (1 point)"
   ]
  },
  {
   "cell_type": "code",
   "execution_count": 377,
   "metadata": {},
   "outputs": [
    {
     "data": {
      "text/html": [
       "<style>#sk-container-id-59 {color: black;}#sk-container-id-59 pre{padding: 0;}#sk-container-id-59 div.sk-toggleable {background-color: white;}#sk-container-id-59 label.sk-toggleable__label {cursor: pointer;display: block;width: 100%;margin-bottom: 0;padding: 0.3em;box-sizing: border-box;text-align: center;}#sk-container-id-59 label.sk-toggleable__label-arrow:before {content: \"▸\";float: left;margin-right: 0.25em;color: #696969;}#sk-container-id-59 label.sk-toggleable__label-arrow:hover:before {color: black;}#sk-container-id-59 div.sk-estimator:hover label.sk-toggleable__label-arrow:before {color: black;}#sk-container-id-59 div.sk-toggleable__content {max-height: 0;max-width: 0;overflow: hidden;text-align: left;background-color: #f0f8ff;}#sk-container-id-59 div.sk-toggleable__content pre {margin: 0.2em;color: black;border-radius: 0.25em;background-color: #f0f8ff;}#sk-container-id-59 input.sk-toggleable__control:checked~div.sk-toggleable__content {max-height: 200px;max-width: 100%;overflow: auto;}#sk-container-id-59 input.sk-toggleable__control:checked~label.sk-toggleable__label-arrow:before {content: \"▾\";}#sk-container-id-59 div.sk-estimator input.sk-toggleable__control:checked~label.sk-toggleable__label {background-color: #d4ebff;}#sk-container-id-59 div.sk-label input.sk-toggleable__control:checked~label.sk-toggleable__label {background-color: #d4ebff;}#sk-container-id-59 input.sk-hidden--visually {border: 0;clip: rect(1px 1px 1px 1px);clip: rect(1px, 1px, 1px, 1px);height: 1px;margin: -1px;overflow: hidden;padding: 0;position: absolute;width: 1px;}#sk-container-id-59 div.sk-estimator {font-family: monospace;background-color: #f0f8ff;border: 1px dotted black;border-radius: 0.25em;box-sizing: border-box;margin-bottom: 0.5em;}#sk-container-id-59 div.sk-estimator:hover {background-color: #d4ebff;}#sk-container-id-59 div.sk-parallel-item::after {content: \"\";width: 100%;border-bottom: 1px solid gray;flex-grow: 1;}#sk-container-id-59 div.sk-label:hover label.sk-toggleable__label {background-color: #d4ebff;}#sk-container-id-59 div.sk-serial::before {content: \"\";position: absolute;border-left: 1px solid gray;box-sizing: border-box;top: 0;bottom: 0;left: 50%;z-index: 0;}#sk-container-id-59 div.sk-serial {display: flex;flex-direction: column;align-items: center;background-color: white;padding-right: 0.2em;padding-left: 0.2em;position: relative;}#sk-container-id-59 div.sk-item {position: relative;z-index: 1;}#sk-container-id-59 div.sk-parallel {display: flex;align-items: stretch;justify-content: center;background-color: white;position: relative;}#sk-container-id-59 div.sk-item::before, #sk-container-id-59 div.sk-parallel-item::before {content: \"\";position: absolute;border-left: 1px solid gray;box-sizing: border-box;top: 0;bottom: 0;left: 50%;z-index: -1;}#sk-container-id-59 div.sk-parallel-item {display: flex;flex-direction: column;z-index: 1;position: relative;background-color: white;}#sk-container-id-59 div.sk-parallel-item:first-child::after {align-self: flex-end;width: 50%;}#sk-container-id-59 div.sk-parallel-item:last-child::after {align-self: flex-start;width: 50%;}#sk-container-id-59 div.sk-parallel-item:only-child::after {width: 0;}#sk-container-id-59 div.sk-dashed-wrapped {border: 1px dashed gray;margin: 0 0.4em 0.5em 0.4em;box-sizing: border-box;padding-bottom: 0.4em;background-color: white;}#sk-container-id-59 div.sk-label label {font-family: monospace;font-weight: bold;display: inline-block;line-height: 1.2em;}#sk-container-id-59 div.sk-label-container {text-align: center;}#sk-container-id-59 div.sk-container {/* jupyter's `normalize.less` sets `[hidden] { display: none; }` but bootstrap.min.css set `[hidden] { display: none !important; }` so we also need the `!important` here to be able to override the default hidden behavior on the sphinx rendered scikit-learn.org. See: https://github.com/scikit-learn/scikit-learn/issues/21755 */display: inline-block !important;position: relative;}#sk-container-id-59 div.sk-text-repr-fallback {display: none;}</style><div id=\"sk-container-id-59\" class=\"sk-top-container\"><div class=\"sk-text-repr-fallback\"><pre>DecisionTreeRegressor(max_depth=10)</pre><b>In a Jupyter environment, please rerun this cell to show the HTML representation or trust the notebook. <br />On GitHub, the HTML representation is unable to render, please try loading this page with nbviewer.org.</b></div><div class=\"sk-container\" hidden><div class=\"sk-item\"><div class=\"sk-estimator sk-toggleable\"><input class=\"sk-toggleable__control sk-hidden--visually\" id=\"sk-estimator-id-120\" type=\"checkbox\" checked><label for=\"sk-estimator-id-120\" class=\"sk-toggleable__label sk-toggleable__label-arrow\">DecisionTreeRegressor</label><div class=\"sk-toggleable__content\"><pre>DecisionTreeRegressor(max_depth=10)</pre></div></div></div></div></div>"
      ],
      "text/plain": [
       "DecisionTreeRegressor(max_depth=10)"
      ]
     },
     "execution_count": 377,
     "metadata": {},
     "output_type": "execute_result"
    }
   ],
   "source": [
    "from sklearn.tree import DecisionTreeRegressor\n",
    "\n",
    "tree_reg = DecisionTreeRegressor(max_depth=10) \n",
    "\n",
    "tree_reg.fit(train_x, train_target)"
   ]
  },
  {
   "cell_type": "code",
   "execution_count": 378,
   "metadata": {},
   "outputs": [
    {
     "data": {
      "text/plain": [
       "51143.196775548044"
      ]
     },
     "execution_count": 378,
     "metadata": {},
     "output_type": "execute_result"
    }
   ],
   "source": [
    "#Train RMSE\n",
    "train_pred = tree_reg.predict(train_x)\n",
    "\n",
    "train_mse = mean_squared_error(train_target, train_pred)\n",
    "\n",
    "DecisionTreeRegressor1_train_rmse = np.sqrt(train_mse)\n",
    "\n",
    "DecisionTreeRegressor1_train_rmse"
   ]
  },
  {
   "cell_type": "code",
   "execution_count": 379,
   "metadata": {},
   "outputs": [
    {
     "data": {
      "text/plain": [
       "192071.8070826128"
      ]
     },
     "execution_count": 379,
     "metadata": {},
     "output_type": "execute_result"
    }
   ],
   "source": [
    "#Test RMSE\n",
    "test_pred = tree_reg.predict(test_x)\n",
    "\n",
    "test_mse = mean_squared_error(test_target, test_pred)\n",
    "\n",
    "DecisionTreeRegressor1_test_rmse = np.sqrt(test_mse)\n",
    "\n",
    "DecisionTreeRegressor1_test_rmse"
   ]
  },
  {
   "cell_type": "markdown",
   "metadata": {},
   "source": [
    "### Is the model overfitting? Provide your answer below. If yes, please add more cells below and show how you corrected overfitting. If your model is overfitting and you don't correct it, you will lose points. (0.25 points)"
   ]
  },
  {
   "cell_type": "markdown",
   "metadata": {},
   "source": [
    "Since there is huge difference in values of train and test rmse values, the model is severely overfitting.To address the overfitting, we will reduce the max_depth from 10 to 7 and setting min_sample_leafs to 10, After that we achieved to reduce the difference between test and train rsme but the accuracy has decreased from previous model may be due to the data skewness in the total cost values "
   ]
  },
  {
   "cell_type": "code",
   "execution_count": 380,
   "metadata": {},
   "outputs": [
    {
     "data": {
      "text/html": [
       "<style>#sk-container-id-60 {color: black;}#sk-container-id-60 pre{padding: 0;}#sk-container-id-60 div.sk-toggleable {background-color: white;}#sk-container-id-60 label.sk-toggleable__label {cursor: pointer;display: block;width: 100%;margin-bottom: 0;padding: 0.3em;box-sizing: border-box;text-align: center;}#sk-container-id-60 label.sk-toggleable__label-arrow:before {content: \"▸\";float: left;margin-right: 0.25em;color: #696969;}#sk-container-id-60 label.sk-toggleable__label-arrow:hover:before {color: black;}#sk-container-id-60 div.sk-estimator:hover label.sk-toggleable__label-arrow:before {color: black;}#sk-container-id-60 div.sk-toggleable__content {max-height: 0;max-width: 0;overflow: hidden;text-align: left;background-color: #f0f8ff;}#sk-container-id-60 div.sk-toggleable__content pre {margin: 0.2em;color: black;border-radius: 0.25em;background-color: #f0f8ff;}#sk-container-id-60 input.sk-toggleable__control:checked~div.sk-toggleable__content {max-height: 200px;max-width: 100%;overflow: auto;}#sk-container-id-60 input.sk-toggleable__control:checked~label.sk-toggleable__label-arrow:before {content: \"▾\";}#sk-container-id-60 div.sk-estimator input.sk-toggleable__control:checked~label.sk-toggleable__label {background-color: #d4ebff;}#sk-container-id-60 div.sk-label input.sk-toggleable__control:checked~label.sk-toggleable__label {background-color: #d4ebff;}#sk-container-id-60 input.sk-hidden--visually {border: 0;clip: rect(1px 1px 1px 1px);clip: rect(1px, 1px, 1px, 1px);height: 1px;margin: -1px;overflow: hidden;padding: 0;position: absolute;width: 1px;}#sk-container-id-60 div.sk-estimator {font-family: monospace;background-color: #f0f8ff;border: 1px dotted black;border-radius: 0.25em;box-sizing: border-box;margin-bottom: 0.5em;}#sk-container-id-60 div.sk-estimator:hover {background-color: #d4ebff;}#sk-container-id-60 div.sk-parallel-item::after {content: \"\";width: 100%;border-bottom: 1px solid gray;flex-grow: 1;}#sk-container-id-60 div.sk-label:hover label.sk-toggleable__label {background-color: #d4ebff;}#sk-container-id-60 div.sk-serial::before {content: \"\";position: absolute;border-left: 1px solid gray;box-sizing: border-box;top: 0;bottom: 0;left: 50%;z-index: 0;}#sk-container-id-60 div.sk-serial {display: flex;flex-direction: column;align-items: center;background-color: white;padding-right: 0.2em;padding-left: 0.2em;position: relative;}#sk-container-id-60 div.sk-item {position: relative;z-index: 1;}#sk-container-id-60 div.sk-parallel {display: flex;align-items: stretch;justify-content: center;background-color: white;position: relative;}#sk-container-id-60 div.sk-item::before, #sk-container-id-60 div.sk-parallel-item::before {content: \"\";position: absolute;border-left: 1px solid gray;box-sizing: border-box;top: 0;bottom: 0;left: 50%;z-index: -1;}#sk-container-id-60 div.sk-parallel-item {display: flex;flex-direction: column;z-index: 1;position: relative;background-color: white;}#sk-container-id-60 div.sk-parallel-item:first-child::after {align-self: flex-end;width: 50%;}#sk-container-id-60 div.sk-parallel-item:last-child::after {align-self: flex-start;width: 50%;}#sk-container-id-60 div.sk-parallel-item:only-child::after {width: 0;}#sk-container-id-60 div.sk-dashed-wrapped {border: 1px dashed gray;margin: 0 0.4em 0.5em 0.4em;box-sizing: border-box;padding-bottom: 0.4em;background-color: white;}#sk-container-id-60 div.sk-label label {font-family: monospace;font-weight: bold;display: inline-block;line-height: 1.2em;}#sk-container-id-60 div.sk-label-container {text-align: center;}#sk-container-id-60 div.sk-container {/* jupyter's `normalize.less` sets `[hidden] { display: none; }` but bootstrap.min.css set `[hidden] { display: none !important; }` so we also need the `!important` here to be able to override the default hidden behavior on the sphinx rendered scikit-learn.org. See: https://github.com/scikit-learn/scikit-learn/issues/21755 */display: inline-block !important;position: relative;}#sk-container-id-60 div.sk-text-repr-fallback {display: none;}</style><div id=\"sk-container-id-60\" class=\"sk-top-container\"><div class=\"sk-text-repr-fallback\"><pre>DecisionTreeRegressor(max_depth=5, min_samples_leaf=10)</pre><b>In a Jupyter environment, please rerun this cell to show the HTML representation or trust the notebook. <br />On GitHub, the HTML representation is unable to render, please try loading this page with nbviewer.org.</b></div><div class=\"sk-container\" hidden><div class=\"sk-item\"><div class=\"sk-estimator sk-toggleable\"><input class=\"sk-toggleable__control sk-hidden--visually\" id=\"sk-estimator-id-121\" type=\"checkbox\" checked><label for=\"sk-estimator-id-121\" class=\"sk-toggleable__label sk-toggleable__label-arrow\">DecisionTreeRegressor</label><div class=\"sk-toggleable__content\"><pre>DecisionTreeRegressor(max_depth=5, min_samples_leaf=10)</pre></div></div></div></div></div>"
      ],
      "text/plain": [
       "DecisionTreeRegressor(max_depth=5, min_samples_leaf=10)"
      ]
     },
     "execution_count": 380,
     "metadata": {},
     "output_type": "execute_result"
    }
   ],
   "source": [
    "tree_reg2 = DecisionTreeRegressor(min_samples_leaf = 10, max_depth=5) \n",
    "\n",
    "tree_reg2.fit(train_x, train_target)"
   ]
  },
  {
   "cell_type": "code",
   "execution_count": 381,
   "metadata": {},
   "outputs": [
    {
     "data": {
      "text/plain": [
       "140599.10282972024"
      ]
     },
     "execution_count": 381,
     "metadata": {},
     "output_type": "execute_result"
    }
   ],
   "source": [
    "#Train RMSE\n",
    "train_pred = tree_reg2.predict(train_x)\n",
    "\n",
    "train_mse = mean_squared_error(train_target, train_pred)\n",
    "\n",
    "DecisionTreeRegressor2_train_rmse = np.sqrt(train_mse)\n",
    "\n",
    "DecisionTreeRegressor2_train_rmse"
   ]
  },
  {
   "cell_type": "code",
   "execution_count": 382,
   "metadata": {},
   "outputs": [
    {
     "data": {
      "text/plain": [
       "149792.0991959123"
      ]
     },
     "execution_count": 382,
     "metadata": {},
     "output_type": "execute_result"
    }
   ],
   "source": [
    "#Test RMSE\n",
    "test_pred = tree_reg2.predict(test_x)\n",
    "\n",
    "test_mse = mean_squared_error(test_target, test_pred)\n",
    "\n",
    "DecisionTreeRegressor2_test_rmse = np.sqrt(test_mse)\n",
    "\n",
    "DecisionTreeRegressor2_test_rmse"
   ]
  },
  {
   "cell_type": "markdown",
   "metadata": {},
   "source": [
    "## Voting regressor (1 points):\n",
    "\n",
    "The voting regressor should have at least 3 individual models"
   ]
  },
  {
   "cell_type": "code",
   "execution_count": 383,
   "metadata": {},
   "outputs": [
    {
     "name": "stderr",
     "output_type": "stream",
     "text": [
      "C:\\Users\\mahes\\anaconda3\\Lib\\site-packages\\sklearn\\ensemble\\_voting.py:604: DataConversionWarning: A column-vector y was passed when a 1d array was expected. Please change the shape of y to (n_samples, ), for example using ravel().\n",
      "  y = column_or_1d(y, warn=True)\n"
     ]
    },
    {
     "data": {
      "text/html": [
       "<style>#sk-container-id-61 {color: black;}#sk-container-id-61 pre{padding: 0;}#sk-container-id-61 div.sk-toggleable {background-color: white;}#sk-container-id-61 label.sk-toggleable__label {cursor: pointer;display: block;width: 100%;margin-bottom: 0;padding: 0.3em;box-sizing: border-box;text-align: center;}#sk-container-id-61 label.sk-toggleable__label-arrow:before {content: \"▸\";float: left;margin-right: 0.25em;color: #696969;}#sk-container-id-61 label.sk-toggleable__label-arrow:hover:before {color: black;}#sk-container-id-61 div.sk-estimator:hover label.sk-toggleable__label-arrow:before {color: black;}#sk-container-id-61 div.sk-toggleable__content {max-height: 0;max-width: 0;overflow: hidden;text-align: left;background-color: #f0f8ff;}#sk-container-id-61 div.sk-toggleable__content pre {margin: 0.2em;color: black;border-radius: 0.25em;background-color: #f0f8ff;}#sk-container-id-61 input.sk-toggleable__control:checked~div.sk-toggleable__content {max-height: 200px;max-width: 100%;overflow: auto;}#sk-container-id-61 input.sk-toggleable__control:checked~label.sk-toggleable__label-arrow:before {content: \"▾\";}#sk-container-id-61 div.sk-estimator input.sk-toggleable__control:checked~label.sk-toggleable__label {background-color: #d4ebff;}#sk-container-id-61 div.sk-label input.sk-toggleable__control:checked~label.sk-toggleable__label {background-color: #d4ebff;}#sk-container-id-61 input.sk-hidden--visually {border: 0;clip: rect(1px 1px 1px 1px);clip: rect(1px, 1px, 1px, 1px);height: 1px;margin: -1px;overflow: hidden;padding: 0;position: absolute;width: 1px;}#sk-container-id-61 div.sk-estimator {font-family: monospace;background-color: #f0f8ff;border: 1px dotted black;border-radius: 0.25em;box-sizing: border-box;margin-bottom: 0.5em;}#sk-container-id-61 div.sk-estimator:hover {background-color: #d4ebff;}#sk-container-id-61 div.sk-parallel-item::after {content: \"\";width: 100%;border-bottom: 1px solid gray;flex-grow: 1;}#sk-container-id-61 div.sk-label:hover label.sk-toggleable__label {background-color: #d4ebff;}#sk-container-id-61 div.sk-serial::before {content: \"\";position: absolute;border-left: 1px solid gray;box-sizing: border-box;top: 0;bottom: 0;left: 50%;z-index: 0;}#sk-container-id-61 div.sk-serial {display: flex;flex-direction: column;align-items: center;background-color: white;padding-right: 0.2em;padding-left: 0.2em;position: relative;}#sk-container-id-61 div.sk-item {position: relative;z-index: 1;}#sk-container-id-61 div.sk-parallel {display: flex;align-items: stretch;justify-content: center;background-color: white;position: relative;}#sk-container-id-61 div.sk-item::before, #sk-container-id-61 div.sk-parallel-item::before {content: \"\";position: absolute;border-left: 1px solid gray;box-sizing: border-box;top: 0;bottom: 0;left: 50%;z-index: -1;}#sk-container-id-61 div.sk-parallel-item {display: flex;flex-direction: column;z-index: 1;position: relative;background-color: white;}#sk-container-id-61 div.sk-parallel-item:first-child::after {align-self: flex-end;width: 50%;}#sk-container-id-61 div.sk-parallel-item:last-child::after {align-self: flex-start;width: 50%;}#sk-container-id-61 div.sk-parallel-item:only-child::after {width: 0;}#sk-container-id-61 div.sk-dashed-wrapped {border: 1px dashed gray;margin: 0 0.4em 0.5em 0.4em;box-sizing: border-box;padding-bottom: 0.4em;background-color: white;}#sk-container-id-61 div.sk-label label {font-family: monospace;font-weight: bold;display: inline-block;line-height: 1.2em;}#sk-container-id-61 div.sk-label-container {text-align: center;}#sk-container-id-61 div.sk-container {/* jupyter's `normalize.less` sets `[hidden] { display: none; }` but bootstrap.min.css set `[hidden] { display: none !important; }` so we also need the `!important` here to be able to override the default hidden behavior on the sphinx rendered scikit-learn.org. See: https://github.com/scikit-learn/scikit-learn/issues/21755 */display: inline-block !important;position: relative;}#sk-container-id-61 div.sk-text-repr-fallback {display: none;}</style><div id=\"sk-container-id-61\" class=\"sk-top-container\"><div class=\"sk-text-repr-fallback\"><pre>VotingRegressor(estimators=[(&#x27;dt&#x27;, DecisionTreeRegressor(max_depth=10)),\n",
       "                            (&#x27;svr&#x27;, SVR(C=10, epsilon=0.01)),\n",
       "                            (&#x27;sgd&#x27;, SGDRegressor(max_iter=10000))])</pre><b>In a Jupyter environment, please rerun this cell to show the HTML representation or trust the notebook. <br />On GitHub, the HTML representation is unable to render, please try loading this page with nbviewer.org.</b></div><div class=\"sk-container\" hidden><div class=\"sk-item sk-dashed-wrapped\"><div class=\"sk-label-container\"><div class=\"sk-label sk-toggleable\"><input class=\"sk-toggleable__control sk-hidden--visually\" id=\"sk-estimator-id-122\" type=\"checkbox\" ><label for=\"sk-estimator-id-122\" class=\"sk-toggleable__label sk-toggleable__label-arrow\">VotingRegressor</label><div class=\"sk-toggleable__content\"><pre>VotingRegressor(estimators=[(&#x27;dt&#x27;, DecisionTreeRegressor(max_depth=10)),\n",
       "                            (&#x27;svr&#x27;, SVR(C=10, epsilon=0.01)),\n",
       "                            (&#x27;sgd&#x27;, SGDRegressor(max_iter=10000))])</pre></div></div></div><div class=\"sk-parallel\"><div class=\"sk-parallel-item\"><div class=\"sk-item\"><div class=\"sk-label-container\"><div class=\"sk-label sk-toggleable\"><label>dt</label></div></div><div class=\"sk-serial\"><div class=\"sk-item\"><div class=\"sk-estimator sk-toggleable\"><input class=\"sk-toggleable__control sk-hidden--visually\" id=\"sk-estimator-id-123\" type=\"checkbox\" ><label for=\"sk-estimator-id-123\" class=\"sk-toggleable__label sk-toggleable__label-arrow\">DecisionTreeRegressor</label><div class=\"sk-toggleable__content\"><pre>DecisionTreeRegressor(max_depth=10)</pre></div></div></div></div></div></div><div class=\"sk-parallel-item\"><div class=\"sk-item\"><div class=\"sk-label-container\"><div class=\"sk-label sk-toggleable\"><label>svr</label></div></div><div class=\"sk-serial\"><div class=\"sk-item\"><div class=\"sk-estimator sk-toggleable\"><input class=\"sk-toggleable__control sk-hidden--visually\" id=\"sk-estimator-id-124\" type=\"checkbox\" ><label for=\"sk-estimator-id-124\" class=\"sk-toggleable__label sk-toggleable__label-arrow\">SVR</label><div class=\"sk-toggleable__content\"><pre>SVR(C=10, epsilon=0.01)</pre></div></div></div></div></div></div><div class=\"sk-parallel-item\"><div class=\"sk-item\"><div class=\"sk-label-container\"><div class=\"sk-label sk-toggleable\"><label>sgd</label></div></div><div class=\"sk-serial\"><div class=\"sk-item\"><div class=\"sk-estimator sk-toggleable\"><input class=\"sk-toggleable__control sk-hidden--visually\" id=\"sk-estimator-id-125\" type=\"checkbox\" ><label for=\"sk-estimator-id-125\" class=\"sk-toggleable__label sk-toggleable__label-arrow\">SGDRegressor</label><div class=\"sk-toggleable__content\"><pre>SGDRegressor(max_iter=10000)</pre></div></div></div></div></div></div></div></div></div></div>"
      ],
      "text/plain": [
       "VotingRegressor(estimators=[('dt', DecisionTreeRegressor(max_depth=10)),\n",
       "                            ('svr', SVR(C=10, epsilon=0.01)),\n",
       "                            ('sgd', SGDRegressor(max_iter=10000))])"
      ]
     },
     "execution_count": 383,
     "metadata": {},
     "output_type": "execute_result"
    }
   ],
   "source": [
    "from sklearn.linear_model import SGDRegressor \n",
    "from sklearn.svm import SVR \n",
    "from sklearn.ensemble import VotingRegressor\n",
    "\n",
    "\n",
    "dtree_reg = DecisionTreeRegressor(max_depth=10)\n",
    "svm_reg = SVR(kernel=\"rbf\", C=10, epsilon=0.01, gamma='scale') \n",
    "sgd_reg = SGDRegressor(max_iter=10000, tol=1e-3)\n",
    "\n",
    "voting_reg = VotingRegressor(\n",
    "            estimators=[('dt', dtree_reg), \n",
    "                        ('svr', svm_reg), \n",
    "                        ('sgd', sgd_reg)])\n",
    "\n",
    "voting_reg.fit(train_x, train_target)"
   ]
  },
  {
   "cell_type": "code",
   "execution_count": 384,
   "metadata": {},
   "outputs": [
    {
     "data": {
      "text/plain": [
       "176376.94981959878"
      ]
     },
     "execution_count": 384,
     "metadata": {},
     "output_type": "execute_result"
    }
   ],
   "source": [
    "#Train RMSE\n",
    "train_pred = voting_reg.predict(train_x)\n",
    "\n",
    "train_mse = mean_squared_error(train_target, train_pred)\n",
    "\n",
    "Voting_Reg1_train_rmse = np.sqrt(train_mse)\n",
    "\n",
    "Voting_Reg1_train_rmse"
   ]
  },
  {
   "cell_type": "code",
   "execution_count": 385,
   "metadata": {},
   "outputs": [
    {
     "data": {
      "text/plain": [
       "187832.4337790554"
      ]
     },
     "execution_count": 385,
     "metadata": {},
     "output_type": "execute_result"
    }
   ],
   "source": [
    "#Test RMSE\n",
    "test_pred = voting_reg.predict(test_x)\n",
    "\n",
    "test_mse = mean_squared_error(test_target, test_pred)\n",
    "\n",
    "Voting_Reg1_test_rmse = np.sqrt(test_mse)\n",
    "\n",
    "Voting_Reg1_test_rmse"
   ]
  },
  {
   "cell_type": "markdown",
   "metadata": {},
   "source": [
    "### Is the model overfitting? Provide your answer below. If yes, please add more cells below and show how you corrected overfitting. If your model is overfitting and you don't correct it, you will lose points. (0.25 points)"
   ]
  },
  {
   "cell_type": "markdown",
   "metadata": {},
   "source": [
    "Since there is significant difference between train and test rmse, the model is overfitting. To address this issue,Below we have calculated the weightage of each model and adjusted the weights accordingly and the test rmse score has significantly improved but still overfitting issue is there may be because of the target data values skewness"
   ]
  },
  {
   "cell_type": "code",
   "execution_count": 386,
   "metadata": {},
   "outputs": [
    {
     "name": "stdout",
     "output_type": "stream",
     "text": [
      "DecisionTreeRegressor Test rmse= 199245.43787671765\n",
      "SVR Test rmse= 313013.525188425\n",
      "SGDRegressor Test rmse= 202561.4899322219\n",
      "VotingRegressor Test rmse= 185292.47212350086\n"
     ]
    }
   ],
   "source": [
    "## Inspecting  each classifier used above in voting regressor\n",
    "\n",
    "for reg in (dtree_reg, svm_reg, sgd_reg, voting_reg):\n",
    "    reg.fit(train_x, train_target['Total Cost'])\n",
    "    test_y_pred = reg.predict(test_x)\n",
    "    print(reg.__class__.__name__, 'Test rmse=', np.sqrt(mean_squared_error(test_target, test_y_pred)))"
   ]
  },
  {
   "cell_type": "code",
   "execution_count": 387,
   "metadata": {},
   "outputs": [
    {
     "name": "stderr",
     "output_type": "stream",
     "text": [
      "C:\\Users\\mahes\\anaconda3\\Lib\\site-packages\\sklearn\\ensemble\\_voting.py:604: DataConversionWarning: A column-vector y was passed when a 1d array was expected. Please change the shape of y to (n_samples, ), for example using ravel().\n",
      "  y = column_or_1d(y, warn=True)\n"
     ]
    },
    {
     "data": {
      "text/html": [
       "<style>#sk-container-id-62 {color: black;}#sk-container-id-62 pre{padding: 0;}#sk-container-id-62 div.sk-toggleable {background-color: white;}#sk-container-id-62 label.sk-toggleable__label {cursor: pointer;display: block;width: 100%;margin-bottom: 0;padding: 0.3em;box-sizing: border-box;text-align: center;}#sk-container-id-62 label.sk-toggleable__label-arrow:before {content: \"▸\";float: left;margin-right: 0.25em;color: #696969;}#sk-container-id-62 label.sk-toggleable__label-arrow:hover:before {color: black;}#sk-container-id-62 div.sk-estimator:hover label.sk-toggleable__label-arrow:before {color: black;}#sk-container-id-62 div.sk-toggleable__content {max-height: 0;max-width: 0;overflow: hidden;text-align: left;background-color: #f0f8ff;}#sk-container-id-62 div.sk-toggleable__content pre {margin: 0.2em;color: black;border-radius: 0.25em;background-color: #f0f8ff;}#sk-container-id-62 input.sk-toggleable__control:checked~div.sk-toggleable__content {max-height: 200px;max-width: 100%;overflow: auto;}#sk-container-id-62 input.sk-toggleable__control:checked~label.sk-toggleable__label-arrow:before {content: \"▾\";}#sk-container-id-62 div.sk-estimator input.sk-toggleable__control:checked~label.sk-toggleable__label {background-color: #d4ebff;}#sk-container-id-62 div.sk-label input.sk-toggleable__control:checked~label.sk-toggleable__label {background-color: #d4ebff;}#sk-container-id-62 input.sk-hidden--visually {border: 0;clip: rect(1px 1px 1px 1px);clip: rect(1px, 1px, 1px, 1px);height: 1px;margin: -1px;overflow: hidden;padding: 0;position: absolute;width: 1px;}#sk-container-id-62 div.sk-estimator {font-family: monospace;background-color: #f0f8ff;border: 1px dotted black;border-radius: 0.25em;box-sizing: border-box;margin-bottom: 0.5em;}#sk-container-id-62 div.sk-estimator:hover {background-color: #d4ebff;}#sk-container-id-62 div.sk-parallel-item::after {content: \"\";width: 100%;border-bottom: 1px solid gray;flex-grow: 1;}#sk-container-id-62 div.sk-label:hover label.sk-toggleable__label {background-color: #d4ebff;}#sk-container-id-62 div.sk-serial::before {content: \"\";position: absolute;border-left: 1px solid gray;box-sizing: border-box;top: 0;bottom: 0;left: 50%;z-index: 0;}#sk-container-id-62 div.sk-serial {display: flex;flex-direction: column;align-items: center;background-color: white;padding-right: 0.2em;padding-left: 0.2em;position: relative;}#sk-container-id-62 div.sk-item {position: relative;z-index: 1;}#sk-container-id-62 div.sk-parallel {display: flex;align-items: stretch;justify-content: center;background-color: white;position: relative;}#sk-container-id-62 div.sk-item::before, #sk-container-id-62 div.sk-parallel-item::before {content: \"\";position: absolute;border-left: 1px solid gray;box-sizing: border-box;top: 0;bottom: 0;left: 50%;z-index: -1;}#sk-container-id-62 div.sk-parallel-item {display: flex;flex-direction: column;z-index: 1;position: relative;background-color: white;}#sk-container-id-62 div.sk-parallel-item:first-child::after {align-self: flex-end;width: 50%;}#sk-container-id-62 div.sk-parallel-item:last-child::after {align-self: flex-start;width: 50%;}#sk-container-id-62 div.sk-parallel-item:only-child::after {width: 0;}#sk-container-id-62 div.sk-dashed-wrapped {border: 1px dashed gray;margin: 0 0.4em 0.5em 0.4em;box-sizing: border-box;padding-bottom: 0.4em;background-color: white;}#sk-container-id-62 div.sk-label label {font-family: monospace;font-weight: bold;display: inline-block;line-height: 1.2em;}#sk-container-id-62 div.sk-label-container {text-align: center;}#sk-container-id-62 div.sk-container {/* jupyter's `normalize.less` sets `[hidden] { display: none; }` but bootstrap.min.css set `[hidden] { display: none !important; }` so we also need the `!important` here to be able to override the default hidden behavior on the sphinx rendered scikit-learn.org. See: https://github.com/scikit-learn/scikit-learn/issues/21755 */display: inline-block !important;position: relative;}#sk-container-id-62 div.sk-text-repr-fallback {display: none;}</style><div id=\"sk-container-id-62\" class=\"sk-top-container\"><div class=\"sk-text-repr-fallback\"><pre>VotingRegressor(estimators=[(&#x27;dt&#x27;, DecisionTreeRegressor(max_depth=5)),\n",
       "                            (&#x27;svr&#x27;, SVR(C=10, epsilon=0.01)),\n",
       "                            (&#x27;sgd&#x27;, SGDRegressor(max_iter=10000))],\n",
       "                weights=[0.4, 0.2, 0.4])</pre><b>In a Jupyter environment, please rerun this cell to show the HTML representation or trust the notebook. <br />On GitHub, the HTML representation is unable to render, please try loading this page with nbviewer.org.</b></div><div class=\"sk-container\" hidden><div class=\"sk-item sk-dashed-wrapped\"><div class=\"sk-label-container\"><div class=\"sk-label sk-toggleable\"><input class=\"sk-toggleable__control sk-hidden--visually\" id=\"sk-estimator-id-126\" type=\"checkbox\" ><label for=\"sk-estimator-id-126\" class=\"sk-toggleable__label sk-toggleable__label-arrow\">VotingRegressor</label><div class=\"sk-toggleable__content\"><pre>VotingRegressor(estimators=[(&#x27;dt&#x27;, DecisionTreeRegressor(max_depth=5)),\n",
       "                            (&#x27;svr&#x27;, SVR(C=10, epsilon=0.01)),\n",
       "                            (&#x27;sgd&#x27;, SGDRegressor(max_iter=10000))],\n",
       "                weights=[0.4, 0.2, 0.4])</pre></div></div></div><div class=\"sk-parallel\"><div class=\"sk-parallel-item\"><div class=\"sk-item\"><div class=\"sk-label-container\"><div class=\"sk-label sk-toggleable\"><label>dt</label></div></div><div class=\"sk-serial\"><div class=\"sk-item\"><div class=\"sk-estimator sk-toggleable\"><input class=\"sk-toggleable__control sk-hidden--visually\" id=\"sk-estimator-id-127\" type=\"checkbox\" ><label for=\"sk-estimator-id-127\" class=\"sk-toggleable__label sk-toggleable__label-arrow\">DecisionTreeRegressor</label><div class=\"sk-toggleable__content\"><pre>DecisionTreeRegressor(max_depth=5)</pre></div></div></div></div></div></div><div class=\"sk-parallel-item\"><div class=\"sk-item\"><div class=\"sk-label-container\"><div class=\"sk-label sk-toggleable\"><label>svr</label></div></div><div class=\"sk-serial\"><div class=\"sk-item\"><div class=\"sk-estimator sk-toggleable\"><input class=\"sk-toggleable__control sk-hidden--visually\" id=\"sk-estimator-id-128\" type=\"checkbox\" ><label for=\"sk-estimator-id-128\" class=\"sk-toggleable__label sk-toggleable__label-arrow\">SVR</label><div class=\"sk-toggleable__content\"><pre>SVR(C=10, epsilon=0.01)</pre></div></div></div></div></div></div><div class=\"sk-parallel-item\"><div class=\"sk-item\"><div class=\"sk-label-container\"><div class=\"sk-label sk-toggleable\"><label>sgd</label></div></div><div class=\"sk-serial\"><div class=\"sk-item\"><div class=\"sk-estimator sk-toggleable\"><input class=\"sk-toggleable__control sk-hidden--visually\" id=\"sk-estimator-id-129\" type=\"checkbox\" ><label for=\"sk-estimator-id-129\" class=\"sk-toggleable__label sk-toggleable__label-arrow\">SGDRegressor</label><div class=\"sk-toggleable__content\"><pre>SGDRegressor(max_iter=10000)</pre></div></div></div></div></div></div></div></div></div></div>"
      ],
      "text/plain": [
       "VotingRegressor(estimators=[('dt', DecisionTreeRegressor(max_depth=5)),\n",
       "                            ('svr', SVR(C=10, epsilon=0.01)),\n",
       "                            ('sgd', SGDRegressor(max_iter=10000))],\n",
       "                weights=[0.4, 0.2, 0.4])"
      ]
     },
     "execution_count": 387,
     "metadata": {},
     "output_type": "execute_result"
    }
   ],
   "source": [
    "#dtree_reg = DecisionTreeRegressor(max_depth=5)\n",
    "#svm_reg = SVR(kernel=\"rbf\", C=10, epsilon=0.01, gamma='scale') \n",
    "#sgd_reg = SGDRegressor(max_iter=10000, tol=1e-3)\n",
    "\n",
    "dtree_reg1 = DecisionTreeRegressor(max_depth=5)\n",
    "voting_reg = VotingRegressor(\n",
    "            estimators=[('dt', dtree_reg1), ('svr', svm_reg), ('sgd', sgd_reg)],\n",
    "                        weights=[0.4, 0.2, 0.4])\n",
    "\n",
    "voting_reg.fit(train_x, train_target)"
   ]
  },
  {
   "cell_type": "code",
   "execution_count": 388,
   "metadata": {},
   "outputs": [
    {
     "data": {
      "text/plain": [
       "153662.2997034617"
      ]
     },
     "execution_count": 388,
     "metadata": {},
     "output_type": "execute_result"
    }
   ],
   "source": [
    "#Train RMSE\n",
    "train_pred = voting_reg.predict(train_x)\n",
    "\n",
    "train_mse = mean_squared_error(train_target, train_pred)\n",
    "\n",
    "voting_Reg2_train_rmse = np.sqrt(train_mse)\n",
    "\n",
    "voting_Reg2_train_rmse"
   ]
  },
  {
   "cell_type": "code",
   "execution_count": 389,
   "metadata": {},
   "outputs": [
    {
     "data": {
      "text/plain": [
       "170142.5446302153"
      ]
     },
     "execution_count": 389,
     "metadata": {},
     "output_type": "execute_result"
    }
   ],
   "source": [
    "#Test RMSE\n",
    "test_pred = voting_reg.predict(test_x)\n",
    "\n",
    "test_mse = mean_squared_error(test_target, test_pred)\n",
    "\n",
    "voting_Reg2_test_rmse = np.sqrt(test_mse)\n",
    "\n",
    "voting_Reg2_test_rmse"
   ]
  },
  {
   "cell_type": "markdown",
   "metadata": {},
   "source": [
    "## A Boosting model: (1 point)\n",
    "\n",
    "Build either an Adaboost or a GradientBoost model"
   ]
  },
  {
   "cell_type": "markdown",
   "metadata": {},
   "source": [
    "##### Here we have taken AdaBoost Regressor"
   ]
  },
  {
   "cell_type": "code",
   "execution_count": 390,
   "metadata": {},
   "outputs": [
    {
     "name": "stderr",
     "output_type": "stream",
     "text": [
      "C:\\Users\\mahes\\anaconda3\\Lib\\site-packages\\sklearn\\utils\\validation.py:1184: DataConversionWarning: A column-vector y was passed when a 1d array was expected. Please change the shape of y to (n_samples, ), for example using ravel().\n",
      "  y = column_or_1d(y, warn=True)\n"
     ]
    },
    {
     "data": {
      "text/html": [
       "<style>#sk-container-id-63 {color: black;}#sk-container-id-63 pre{padding: 0;}#sk-container-id-63 div.sk-toggleable {background-color: white;}#sk-container-id-63 label.sk-toggleable__label {cursor: pointer;display: block;width: 100%;margin-bottom: 0;padding: 0.3em;box-sizing: border-box;text-align: center;}#sk-container-id-63 label.sk-toggleable__label-arrow:before {content: \"▸\";float: left;margin-right: 0.25em;color: #696969;}#sk-container-id-63 label.sk-toggleable__label-arrow:hover:before {color: black;}#sk-container-id-63 div.sk-estimator:hover label.sk-toggleable__label-arrow:before {color: black;}#sk-container-id-63 div.sk-toggleable__content {max-height: 0;max-width: 0;overflow: hidden;text-align: left;background-color: #f0f8ff;}#sk-container-id-63 div.sk-toggleable__content pre {margin: 0.2em;color: black;border-radius: 0.25em;background-color: #f0f8ff;}#sk-container-id-63 input.sk-toggleable__control:checked~div.sk-toggleable__content {max-height: 200px;max-width: 100%;overflow: auto;}#sk-container-id-63 input.sk-toggleable__control:checked~label.sk-toggleable__label-arrow:before {content: \"▾\";}#sk-container-id-63 div.sk-estimator input.sk-toggleable__control:checked~label.sk-toggleable__label {background-color: #d4ebff;}#sk-container-id-63 div.sk-label input.sk-toggleable__control:checked~label.sk-toggleable__label {background-color: #d4ebff;}#sk-container-id-63 input.sk-hidden--visually {border: 0;clip: rect(1px 1px 1px 1px);clip: rect(1px, 1px, 1px, 1px);height: 1px;margin: -1px;overflow: hidden;padding: 0;position: absolute;width: 1px;}#sk-container-id-63 div.sk-estimator {font-family: monospace;background-color: #f0f8ff;border: 1px dotted black;border-radius: 0.25em;box-sizing: border-box;margin-bottom: 0.5em;}#sk-container-id-63 div.sk-estimator:hover {background-color: #d4ebff;}#sk-container-id-63 div.sk-parallel-item::after {content: \"\";width: 100%;border-bottom: 1px solid gray;flex-grow: 1;}#sk-container-id-63 div.sk-label:hover label.sk-toggleable__label {background-color: #d4ebff;}#sk-container-id-63 div.sk-serial::before {content: \"\";position: absolute;border-left: 1px solid gray;box-sizing: border-box;top: 0;bottom: 0;left: 50%;z-index: 0;}#sk-container-id-63 div.sk-serial {display: flex;flex-direction: column;align-items: center;background-color: white;padding-right: 0.2em;padding-left: 0.2em;position: relative;}#sk-container-id-63 div.sk-item {position: relative;z-index: 1;}#sk-container-id-63 div.sk-parallel {display: flex;align-items: stretch;justify-content: center;background-color: white;position: relative;}#sk-container-id-63 div.sk-item::before, #sk-container-id-63 div.sk-parallel-item::before {content: \"\";position: absolute;border-left: 1px solid gray;box-sizing: border-box;top: 0;bottom: 0;left: 50%;z-index: -1;}#sk-container-id-63 div.sk-parallel-item {display: flex;flex-direction: column;z-index: 1;position: relative;background-color: white;}#sk-container-id-63 div.sk-parallel-item:first-child::after {align-self: flex-end;width: 50%;}#sk-container-id-63 div.sk-parallel-item:last-child::after {align-self: flex-start;width: 50%;}#sk-container-id-63 div.sk-parallel-item:only-child::after {width: 0;}#sk-container-id-63 div.sk-dashed-wrapped {border: 1px dashed gray;margin: 0 0.4em 0.5em 0.4em;box-sizing: border-box;padding-bottom: 0.4em;background-color: white;}#sk-container-id-63 div.sk-label label {font-family: monospace;font-weight: bold;display: inline-block;line-height: 1.2em;}#sk-container-id-63 div.sk-label-container {text-align: center;}#sk-container-id-63 div.sk-container {/* jupyter's `normalize.less` sets `[hidden] { display: none; }` but bootstrap.min.css set `[hidden] { display: none !important; }` so we also need the `!important` here to be able to override the default hidden behavior on the sphinx rendered scikit-learn.org. See: https://github.com/scikit-learn/scikit-learn/issues/21755 */display: inline-block !important;position: relative;}#sk-container-id-63 div.sk-text-repr-fallback {display: none;}</style><div id=\"sk-container-id-63\" class=\"sk-top-container\"><div class=\"sk-text-repr-fallback\"><pre>AdaBoostRegressor(estimator=DecisionTreeRegressor(max_depth=10),\n",
       "                  learning_rate=0.1, n_estimators=300)</pre><b>In a Jupyter environment, please rerun this cell to show the HTML representation or trust the notebook. <br />On GitHub, the HTML representation is unable to render, please try loading this page with nbviewer.org.</b></div><div class=\"sk-container\" hidden><div class=\"sk-item sk-dashed-wrapped\"><div class=\"sk-label-container\"><div class=\"sk-label sk-toggleable\"><input class=\"sk-toggleable__control sk-hidden--visually\" id=\"sk-estimator-id-130\" type=\"checkbox\" ><label for=\"sk-estimator-id-130\" class=\"sk-toggleable__label sk-toggleable__label-arrow\">AdaBoostRegressor</label><div class=\"sk-toggleable__content\"><pre>AdaBoostRegressor(estimator=DecisionTreeRegressor(max_depth=10),\n",
       "                  learning_rate=0.1, n_estimators=300)</pre></div></div></div><div class=\"sk-parallel\"><div class=\"sk-parallel-item\"><div class=\"sk-item\"><div class=\"sk-label-container\"><div class=\"sk-label sk-toggleable\"><input class=\"sk-toggleable__control sk-hidden--visually\" id=\"sk-estimator-id-131\" type=\"checkbox\" ><label for=\"sk-estimator-id-131\" class=\"sk-toggleable__label sk-toggleable__label-arrow\">estimator: DecisionTreeRegressor</label><div class=\"sk-toggleable__content\"><pre>DecisionTreeRegressor(max_depth=10)</pre></div></div></div><div class=\"sk-serial\"><div class=\"sk-item\"><div class=\"sk-estimator sk-toggleable\"><input class=\"sk-toggleable__control sk-hidden--visually\" id=\"sk-estimator-id-132\" type=\"checkbox\" ><label for=\"sk-estimator-id-132\" class=\"sk-toggleable__label sk-toggleable__label-arrow\">DecisionTreeRegressor</label><div class=\"sk-toggleable__content\"><pre>DecisionTreeRegressor(max_depth=10)</pre></div></div></div></div></div></div></div></div></div></div>"
      ],
      "text/plain": [
       "AdaBoostRegressor(estimator=DecisionTreeRegressor(max_depth=10),\n",
       "                  learning_rate=0.1, n_estimators=300)"
      ]
     },
     "execution_count": 390,
     "metadata": {},
     "output_type": "execute_result"
    }
   ],
   "source": [
    "from sklearn.ensemble import AdaBoostRegressor \n",
    "\n",
    "\n",
    "ada_reg = AdaBoostRegressor( \n",
    "            DecisionTreeRegressor(max_depth=10), n_estimators=300, \n",
    "            learning_rate=0.1) \n",
    "\n",
    "ada_reg.fit(train_x, train_target)"
   ]
  },
  {
   "cell_type": "code",
   "execution_count": 391,
   "metadata": {},
   "outputs": [
    {
     "data": {
      "text/plain": [
       "24203.038529309317"
      ]
     },
     "execution_count": 391,
     "metadata": {},
     "output_type": "execute_result"
    }
   ],
   "source": [
    "#Train RMSE\n",
    "train_pred = ada_reg.predict(train_x)\n",
    "\n",
    "train_mse = mean_squared_error(train_target, train_pred)\n",
    "\n",
    "AdaBoostRegressor1_train_rmse = np.sqrt(train_mse)\n",
    "\n",
    "AdaBoostRegressor1_train_rmse"
   ]
  },
  {
   "cell_type": "code",
   "execution_count": 392,
   "metadata": {},
   "outputs": [
    {
     "data": {
      "text/plain": [
       "134816.8122930852"
      ]
     },
     "execution_count": 392,
     "metadata": {},
     "output_type": "execute_result"
    }
   ],
   "source": [
    "#Test RMSE\n",
    "test_pred = ada_reg.predict(test_x)\n",
    "\n",
    "test_mse = mean_squared_error(test_target, test_pred)\n",
    "\n",
    "AdaBoostRegressor1_test_rmse = np.sqrt(test_mse)\n",
    "\n",
    "AdaBoostRegressor1_test_rmse"
   ]
  },
  {
   "cell_type": "markdown",
   "metadata": {},
   "source": [
    "### Is the model overfitting? Provide your answer below. If yes, please add more cells below and show how you corrected overfitting. If your model is overfitting and you don't correct it, you will lose points. (0.25 points)"
   ]
  },
  {
   "cell_type": "raw",
   "metadata": {},
   "source": [
    "The model is severely overfitting due to huge difference between train and test rmse. To address this issue, we have reduced the max_depth to 4 and number of estimators to 100 and set min_sample_leaf to 10.After that we achieved to reduce the difference between test and train rsme score but the test rmse score has increased a bit from previous model may be due to the data skewness in the total cost values"
   ]
  },
  {
   "cell_type": "code",
   "execution_count": 393,
   "metadata": {},
   "outputs": [
    {
     "name": "stderr",
     "output_type": "stream",
     "text": [
      "C:\\Users\\mahes\\anaconda3\\Lib\\site-packages\\sklearn\\utils\\validation.py:1184: DataConversionWarning: A column-vector y was passed when a 1d array was expected. Please change the shape of y to (n_samples, ), for example using ravel().\n",
      "  y = column_or_1d(y, warn=True)\n"
     ]
    },
    {
     "data": {
      "text/html": [
       "<style>#sk-container-id-64 {color: black;}#sk-container-id-64 pre{padding: 0;}#sk-container-id-64 div.sk-toggleable {background-color: white;}#sk-container-id-64 label.sk-toggleable__label {cursor: pointer;display: block;width: 100%;margin-bottom: 0;padding: 0.3em;box-sizing: border-box;text-align: center;}#sk-container-id-64 label.sk-toggleable__label-arrow:before {content: \"▸\";float: left;margin-right: 0.25em;color: #696969;}#sk-container-id-64 label.sk-toggleable__label-arrow:hover:before {color: black;}#sk-container-id-64 div.sk-estimator:hover label.sk-toggleable__label-arrow:before {color: black;}#sk-container-id-64 div.sk-toggleable__content {max-height: 0;max-width: 0;overflow: hidden;text-align: left;background-color: #f0f8ff;}#sk-container-id-64 div.sk-toggleable__content pre {margin: 0.2em;color: black;border-radius: 0.25em;background-color: #f0f8ff;}#sk-container-id-64 input.sk-toggleable__control:checked~div.sk-toggleable__content {max-height: 200px;max-width: 100%;overflow: auto;}#sk-container-id-64 input.sk-toggleable__control:checked~label.sk-toggleable__label-arrow:before {content: \"▾\";}#sk-container-id-64 div.sk-estimator input.sk-toggleable__control:checked~label.sk-toggleable__label {background-color: #d4ebff;}#sk-container-id-64 div.sk-label input.sk-toggleable__control:checked~label.sk-toggleable__label {background-color: #d4ebff;}#sk-container-id-64 input.sk-hidden--visually {border: 0;clip: rect(1px 1px 1px 1px);clip: rect(1px, 1px, 1px, 1px);height: 1px;margin: -1px;overflow: hidden;padding: 0;position: absolute;width: 1px;}#sk-container-id-64 div.sk-estimator {font-family: monospace;background-color: #f0f8ff;border: 1px dotted black;border-radius: 0.25em;box-sizing: border-box;margin-bottom: 0.5em;}#sk-container-id-64 div.sk-estimator:hover {background-color: #d4ebff;}#sk-container-id-64 div.sk-parallel-item::after {content: \"\";width: 100%;border-bottom: 1px solid gray;flex-grow: 1;}#sk-container-id-64 div.sk-label:hover label.sk-toggleable__label {background-color: #d4ebff;}#sk-container-id-64 div.sk-serial::before {content: \"\";position: absolute;border-left: 1px solid gray;box-sizing: border-box;top: 0;bottom: 0;left: 50%;z-index: 0;}#sk-container-id-64 div.sk-serial {display: flex;flex-direction: column;align-items: center;background-color: white;padding-right: 0.2em;padding-left: 0.2em;position: relative;}#sk-container-id-64 div.sk-item {position: relative;z-index: 1;}#sk-container-id-64 div.sk-parallel {display: flex;align-items: stretch;justify-content: center;background-color: white;position: relative;}#sk-container-id-64 div.sk-item::before, #sk-container-id-64 div.sk-parallel-item::before {content: \"\";position: absolute;border-left: 1px solid gray;box-sizing: border-box;top: 0;bottom: 0;left: 50%;z-index: -1;}#sk-container-id-64 div.sk-parallel-item {display: flex;flex-direction: column;z-index: 1;position: relative;background-color: white;}#sk-container-id-64 div.sk-parallel-item:first-child::after {align-self: flex-end;width: 50%;}#sk-container-id-64 div.sk-parallel-item:last-child::after {align-self: flex-start;width: 50%;}#sk-container-id-64 div.sk-parallel-item:only-child::after {width: 0;}#sk-container-id-64 div.sk-dashed-wrapped {border: 1px dashed gray;margin: 0 0.4em 0.5em 0.4em;box-sizing: border-box;padding-bottom: 0.4em;background-color: white;}#sk-container-id-64 div.sk-label label {font-family: monospace;font-weight: bold;display: inline-block;line-height: 1.2em;}#sk-container-id-64 div.sk-label-container {text-align: center;}#sk-container-id-64 div.sk-container {/* jupyter's `normalize.less` sets `[hidden] { display: none; }` but bootstrap.min.css set `[hidden] { display: none !important; }` so we also need the `!important` here to be able to override the default hidden behavior on the sphinx rendered scikit-learn.org. See: https://github.com/scikit-learn/scikit-learn/issues/21755 */display: inline-block !important;position: relative;}#sk-container-id-64 div.sk-text-repr-fallback {display: none;}</style><div id=\"sk-container-id-64\" class=\"sk-top-container\"><div class=\"sk-text-repr-fallback\"><pre>AdaBoostRegressor(estimator=DecisionTreeRegressor(max_depth=4,\n",
       "                                                  min_samples_leaf=10),\n",
       "                  learning_rate=0.1, n_estimators=100)</pre><b>In a Jupyter environment, please rerun this cell to show the HTML representation or trust the notebook. <br />On GitHub, the HTML representation is unable to render, please try loading this page with nbviewer.org.</b></div><div class=\"sk-container\" hidden><div class=\"sk-item sk-dashed-wrapped\"><div class=\"sk-label-container\"><div class=\"sk-label sk-toggleable\"><input class=\"sk-toggleable__control sk-hidden--visually\" id=\"sk-estimator-id-133\" type=\"checkbox\" ><label for=\"sk-estimator-id-133\" class=\"sk-toggleable__label sk-toggleable__label-arrow\">AdaBoostRegressor</label><div class=\"sk-toggleable__content\"><pre>AdaBoostRegressor(estimator=DecisionTreeRegressor(max_depth=4,\n",
       "                                                  min_samples_leaf=10),\n",
       "                  learning_rate=0.1, n_estimators=100)</pre></div></div></div><div class=\"sk-parallel\"><div class=\"sk-parallel-item\"><div class=\"sk-item\"><div class=\"sk-label-container\"><div class=\"sk-label sk-toggleable\"><input class=\"sk-toggleable__control sk-hidden--visually\" id=\"sk-estimator-id-134\" type=\"checkbox\" ><label for=\"sk-estimator-id-134\" class=\"sk-toggleable__label sk-toggleable__label-arrow\">estimator: DecisionTreeRegressor</label><div class=\"sk-toggleable__content\"><pre>DecisionTreeRegressor(max_depth=4, min_samples_leaf=10)</pre></div></div></div><div class=\"sk-serial\"><div class=\"sk-item\"><div class=\"sk-estimator sk-toggleable\"><input class=\"sk-toggleable__control sk-hidden--visually\" id=\"sk-estimator-id-135\" type=\"checkbox\" ><label for=\"sk-estimator-id-135\" class=\"sk-toggleable__label sk-toggleable__label-arrow\">DecisionTreeRegressor</label><div class=\"sk-toggleable__content\"><pre>DecisionTreeRegressor(max_depth=4, min_samples_leaf=10)</pre></div></div></div></div></div></div></div></div></div></div>"
      ],
      "text/plain": [
       "AdaBoostRegressor(estimator=DecisionTreeRegressor(max_depth=4,\n",
       "                                                  min_samples_leaf=10),\n",
       "                  learning_rate=0.1, n_estimators=100)"
      ]
     },
     "execution_count": 393,
     "metadata": {},
     "output_type": "execute_result"
    }
   ],
   "source": [
    "from sklearn.ensemble import AdaBoostRegressor \n",
    "\n",
    "\n",
    "ada_reg2 = AdaBoostRegressor( \n",
    "            DecisionTreeRegressor(min_samples_leaf = 10, max_depth=4), n_estimators=100, \n",
    "            learning_rate=0.1) \n",
    "\n",
    "ada_reg2.fit(train_x, train_target)"
   ]
  },
  {
   "cell_type": "code",
   "execution_count": 394,
   "metadata": {},
   "outputs": [
    {
     "data": {
      "text/plain": [
       "87275.41959164955"
      ]
     },
     "execution_count": 394,
     "metadata": {},
     "output_type": "execute_result"
    }
   ],
   "source": [
    "#Train RMSE\n",
    "train_pred = ada_reg2.predict(train_x)\n",
    "\n",
    "train_mse = mean_squared_error(train_target, train_pred)\n",
    "\n",
    "AdaBoostRegressor2_train_rmse = np.sqrt(train_mse)\n",
    "\n",
    "AdaBoostRegressor2_train_rmse"
   ]
  },
  {
   "cell_type": "code",
   "execution_count": 395,
   "metadata": {},
   "outputs": [
    {
     "data": {
      "text/plain": [
       "138376.90238825048"
      ]
     },
     "execution_count": 395,
     "metadata": {},
     "output_type": "execute_result"
    }
   ],
   "source": [
    "#Test RMSE\n",
    "test_pred = ada_reg2.predict(test_x)\n",
    "\n",
    "test_mse = mean_squared_error(test_target, test_pred)\n",
    "\n",
    "AdaBoostRegressor2_test_rmse = np.sqrt(test_mse)\n",
    "\n",
    "AdaBoostRegressor2_test_rmse"
   ]
  },
  {
   "cell_type": "markdown",
   "metadata": {},
   "source": [
    "## Neural network: (1 point)"
   ]
  },
  {
   "cell_type": "code",
   "execution_count": 396,
   "metadata": {},
   "outputs": [
    {
     "name": "stderr",
     "output_type": "stream",
     "text": [
      "C:\\Users\\mahes\\anaconda3\\Lib\\site-packages\\sklearn\\neural_network\\_multilayer_perceptron.py:1625: DataConversionWarning: A column-vector y was passed when a 1d array was expected. Please change the shape of y to (n_samples, ), for example using ravel().\n",
      "  y = column_or_1d(y, warn=True)\n"
     ]
    },
    {
     "data": {
      "text/html": [
       "<style>#sk-container-id-65 {color: black;}#sk-container-id-65 pre{padding: 0;}#sk-container-id-65 div.sk-toggleable {background-color: white;}#sk-container-id-65 label.sk-toggleable__label {cursor: pointer;display: block;width: 100%;margin-bottom: 0;padding: 0.3em;box-sizing: border-box;text-align: center;}#sk-container-id-65 label.sk-toggleable__label-arrow:before {content: \"▸\";float: left;margin-right: 0.25em;color: #696969;}#sk-container-id-65 label.sk-toggleable__label-arrow:hover:before {color: black;}#sk-container-id-65 div.sk-estimator:hover label.sk-toggleable__label-arrow:before {color: black;}#sk-container-id-65 div.sk-toggleable__content {max-height: 0;max-width: 0;overflow: hidden;text-align: left;background-color: #f0f8ff;}#sk-container-id-65 div.sk-toggleable__content pre {margin: 0.2em;color: black;border-radius: 0.25em;background-color: #f0f8ff;}#sk-container-id-65 input.sk-toggleable__control:checked~div.sk-toggleable__content {max-height: 200px;max-width: 100%;overflow: auto;}#sk-container-id-65 input.sk-toggleable__control:checked~label.sk-toggleable__label-arrow:before {content: \"▾\";}#sk-container-id-65 div.sk-estimator input.sk-toggleable__control:checked~label.sk-toggleable__label {background-color: #d4ebff;}#sk-container-id-65 div.sk-label input.sk-toggleable__control:checked~label.sk-toggleable__label {background-color: #d4ebff;}#sk-container-id-65 input.sk-hidden--visually {border: 0;clip: rect(1px 1px 1px 1px);clip: rect(1px, 1px, 1px, 1px);height: 1px;margin: -1px;overflow: hidden;padding: 0;position: absolute;width: 1px;}#sk-container-id-65 div.sk-estimator {font-family: monospace;background-color: #f0f8ff;border: 1px dotted black;border-radius: 0.25em;box-sizing: border-box;margin-bottom: 0.5em;}#sk-container-id-65 div.sk-estimator:hover {background-color: #d4ebff;}#sk-container-id-65 div.sk-parallel-item::after {content: \"\";width: 100%;border-bottom: 1px solid gray;flex-grow: 1;}#sk-container-id-65 div.sk-label:hover label.sk-toggleable__label {background-color: #d4ebff;}#sk-container-id-65 div.sk-serial::before {content: \"\";position: absolute;border-left: 1px solid gray;box-sizing: border-box;top: 0;bottom: 0;left: 50%;z-index: 0;}#sk-container-id-65 div.sk-serial {display: flex;flex-direction: column;align-items: center;background-color: white;padding-right: 0.2em;padding-left: 0.2em;position: relative;}#sk-container-id-65 div.sk-item {position: relative;z-index: 1;}#sk-container-id-65 div.sk-parallel {display: flex;align-items: stretch;justify-content: center;background-color: white;position: relative;}#sk-container-id-65 div.sk-item::before, #sk-container-id-65 div.sk-parallel-item::before {content: \"\";position: absolute;border-left: 1px solid gray;box-sizing: border-box;top: 0;bottom: 0;left: 50%;z-index: -1;}#sk-container-id-65 div.sk-parallel-item {display: flex;flex-direction: column;z-index: 1;position: relative;background-color: white;}#sk-container-id-65 div.sk-parallel-item:first-child::after {align-self: flex-end;width: 50%;}#sk-container-id-65 div.sk-parallel-item:last-child::after {align-self: flex-start;width: 50%;}#sk-container-id-65 div.sk-parallel-item:only-child::after {width: 0;}#sk-container-id-65 div.sk-dashed-wrapped {border: 1px dashed gray;margin: 0 0.4em 0.5em 0.4em;box-sizing: border-box;padding-bottom: 0.4em;background-color: white;}#sk-container-id-65 div.sk-label label {font-family: monospace;font-weight: bold;display: inline-block;line-height: 1.2em;}#sk-container-id-65 div.sk-label-container {text-align: center;}#sk-container-id-65 div.sk-container {/* jupyter's `normalize.less` sets `[hidden] { display: none; }` but bootstrap.min.css set `[hidden] { display: none !important; }` so we also need the `!important` here to be able to override the default hidden behavior on the sphinx rendered scikit-learn.org. See: https://github.com/scikit-learn/scikit-learn/issues/21755 */display: inline-block !important;position: relative;}#sk-container-id-65 div.sk-text-repr-fallback {display: none;}</style><div id=\"sk-container-id-65\" class=\"sk-top-container\"><div class=\"sk-text-repr-fallback\"><pre>MLPRegressor(hidden_layer_sizes=(200, 150, 100, 50, 25), max_iter=1000)</pre><b>In a Jupyter environment, please rerun this cell to show the HTML representation or trust the notebook. <br />On GitHub, the HTML representation is unable to render, please try loading this page with nbviewer.org.</b></div><div class=\"sk-container\" hidden><div class=\"sk-item\"><div class=\"sk-estimator sk-toggleable\"><input class=\"sk-toggleable__control sk-hidden--visually\" id=\"sk-estimator-id-136\" type=\"checkbox\" checked><label for=\"sk-estimator-id-136\" class=\"sk-toggleable__label sk-toggleable__label-arrow\">MLPRegressor</label><div class=\"sk-toggleable__content\"><pre>MLPRegressor(hidden_layer_sizes=(200, 150, 100, 50, 25), max_iter=1000)</pre></div></div></div></div></div>"
      ],
      "text/plain": [
       "MLPRegressor(hidden_layer_sizes=(200, 150, 100, 50, 25), max_iter=1000)"
      ]
     },
     "execution_count": 396,
     "metadata": {},
     "output_type": "execute_result"
    }
   ],
   "source": [
    "from sklearn.neural_network import MLPRegressor\n",
    "dnn_reg = MLPRegressor(hidden_layer_sizes=(200,150,100,50,25),\n",
    "                       max_iter=1000)\n",
    "\n",
    "dnn_reg.fit(train_x, train_target)"
   ]
  },
  {
   "cell_type": "code",
   "execution_count": 397,
   "metadata": {
    "scrolled": true
   },
   "outputs": [
    {
     "data": {
      "text/plain": [
       "3876.3225335394986"
      ]
     },
     "execution_count": 397,
     "metadata": {},
     "output_type": "execute_result"
    }
   ],
   "source": [
    "#Train RMSE\n",
    "train_pred = dnn_reg.predict(train_x)\n",
    "\n",
    "train_mse = mean_squared_error(train_target, train_pred)\n",
    "\n",
    "NeuralNetwork1_train_rmse = np.sqrt(train_mse)\n",
    "\n",
    "NeuralNetwork1_train_rmse"
   ]
  },
  {
   "cell_type": "code",
   "execution_count": 398,
   "metadata": {},
   "outputs": [
    {
     "data": {
      "text/plain": [
       "156974.3884566234"
      ]
     },
     "execution_count": 398,
     "metadata": {},
     "output_type": "execute_result"
    }
   ],
   "source": [
    "#Test RMSE\n",
    "test_pred = dnn_reg.predict(test_x)\n",
    "\n",
    "test_mse = mean_squared_error(test_target, test_pred)\n",
    "\n",
    "NeuralNetwork1_test_rmse = np.sqrt(test_mse)\n",
    "\n",
    "NeuralNetwork1_test_rmse"
   ]
  },
  {
   "cell_type": "markdown",
   "metadata": {},
   "source": [
    "### Is the model overfitting? Provide your answer below. If yes, please add more cells below and show how you corrected overfitting. If your model is overfitting and you don't correct it, you will lose points. (0.25 points)"
   ]
  },
  {
   "cell_type": "markdown",
   "metadata": {},
   "source": [
    "As there is very huge difference between train and test RMSE score, the model is severely overfitting. For that, below we have changed the number of layers and number of neurons ,the maximum iterations and learning rate.After that, the difference in rmse scores is reduced and overfitting problem has reduced, also test rmse score has improved."
   ]
  },
  {
   "cell_type": "code",
   "execution_count": 399,
   "metadata": {},
   "outputs": [
    {
     "name": "stderr",
     "output_type": "stream",
     "text": [
      "C:\\Users\\mahes\\anaconda3\\Lib\\site-packages\\sklearn\\neural_network\\_multilayer_perceptron.py:1625: DataConversionWarning: A column-vector y was passed when a 1d array was expected. Please change the shape of y to (n_samples, ), for example using ravel().\n",
      "  y = column_or_1d(y, warn=True)\n",
      "C:\\Users\\mahes\\anaconda3\\Lib\\site-packages\\sklearn\\neural_network\\_multilayer_perceptron.py:691: ConvergenceWarning: Stochastic Optimizer: Maximum iterations (300) reached and the optimization hasn't converged yet.\n",
      "  warnings.warn(\n"
     ]
    },
    {
     "data": {
      "text/html": [
       "<style>#sk-container-id-66 {color: black;}#sk-container-id-66 pre{padding: 0;}#sk-container-id-66 div.sk-toggleable {background-color: white;}#sk-container-id-66 label.sk-toggleable__label {cursor: pointer;display: block;width: 100%;margin-bottom: 0;padding: 0.3em;box-sizing: border-box;text-align: center;}#sk-container-id-66 label.sk-toggleable__label-arrow:before {content: \"▸\";float: left;margin-right: 0.25em;color: #696969;}#sk-container-id-66 label.sk-toggleable__label-arrow:hover:before {color: black;}#sk-container-id-66 div.sk-estimator:hover label.sk-toggleable__label-arrow:before {color: black;}#sk-container-id-66 div.sk-toggleable__content {max-height: 0;max-width: 0;overflow: hidden;text-align: left;background-color: #f0f8ff;}#sk-container-id-66 div.sk-toggleable__content pre {margin: 0.2em;color: black;border-radius: 0.25em;background-color: #f0f8ff;}#sk-container-id-66 input.sk-toggleable__control:checked~div.sk-toggleable__content {max-height: 200px;max-width: 100%;overflow: auto;}#sk-container-id-66 input.sk-toggleable__control:checked~label.sk-toggleable__label-arrow:before {content: \"▾\";}#sk-container-id-66 div.sk-estimator input.sk-toggleable__control:checked~label.sk-toggleable__label {background-color: #d4ebff;}#sk-container-id-66 div.sk-label input.sk-toggleable__control:checked~label.sk-toggleable__label {background-color: #d4ebff;}#sk-container-id-66 input.sk-hidden--visually {border: 0;clip: rect(1px 1px 1px 1px);clip: rect(1px, 1px, 1px, 1px);height: 1px;margin: -1px;overflow: hidden;padding: 0;position: absolute;width: 1px;}#sk-container-id-66 div.sk-estimator {font-family: monospace;background-color: #f0f8ff;border: 1px dotted black;border-radius: 0.25em;box-sizing: border-box;margin-bottom: 0.5em;}#sk-container-id-66 div.sk-estimator:hover {background-color: #d4ebff;}#sk-container-id-66 div.sk-parallel-item::after {content: \"\";width: 100%;border-bottom: 1px solid gray;flex-grow: 1;}#sk-container-id-66 div.sk-label:hover label.sk-toggleable__label {background-color: #d4ebff;}#sk-container-id-66 div.sk-serial::before {content: \"\";position: absolute;border-left: 1px solid gray;box-sizing: border-box;top: 0;bottom: 0;left: 50%;z-index: 0;}#sk-container-id-66 div.sk-serial {display: flex;flex-direction: column;align-items: center;background-color: white;padding-right: 0.2em;padding-left: 0.2em;position: relative;}#sk-container-id-66 div.sk-item {position: relative;z-index: 1;}#sk-container-id-66 div.sk-parallel {display: flex;align-items: stretch;justify-content: center;background-color: white;position: relative;}#sk-container-id-66 div.sk-item::before, #sk-container-id-66 div.sk-parallel-item::before {content: \"\";position: absolute;border-left: 1px solid gray;box-sizing: border-box;top: 0;bottom: 0;left: 50%;z-index: -1;}#sk-container-id-66 div.sk-parallel-item {display: flex;flex-direction: column;z-index: 1;position: relative;background-color: white;}#sk-container-id-66 div.sk-parallel-item:first-child::after {align-self: flex-end;width: 50%;}#sk-container-id-66 div.sk-parallel-item:last-child::after {align-self: flex-start;width: 50%;}#sk-container-id-66 div.sk-parallel-item:only-child::after {width: 0;}#sk-container-id-66 div.sk-dashed-wrapped {border: 1px dashed gray;margin: 0 0.4em 0.5em 0.4em;box-sizing: border-box;padding-bottom: 0.4em;background-color: white;}#sk-container-id-66 div.sk-label label {font-family: monospace;font-weight: bold;display: inline-block;line-height: 1.2em;}#sk-container-id-66 div.sk-label-container {text-align: center;}#sk-container-id-66 div.sk-container {/* jupyter's `normalize.less` sets `[hidden] { display: none; }` but bootstrap.min.css set `[hidden] { display: none !important; }` so we also need the `!important` here to be able to override the default hidden behavior on the sphinx rendered scikit-learn.org. See: https://github.com/scikit-learn/scikit-learn/issues/21755 */display: inline-block !important;position: relative;}#sk-container-id-66 div.sk-text-repr-fallback {display: none;}</style><div id=\"sk-container-id-66\" class=\"sk-top-container\"><div class=\"sk-text-repr-fallback\"><pre>MLPRegressor(alpha=0.1, hidden_layer_sizes=(200, 150, 50), max_iter=300)</pre><b>In a Jupyter environment, please rerun this cell to show the HTML representation or trust the notebook. <br />On GitHub, the HTML representation is unable to render, please try loading this page with nbviewer.org.</b></div><div class=\"sk-container\" hidden><div class=\"sk-item\"><div class=\"sk-estimator sk-toggleable\"><input class=\"sk-toggleable__control sk-hidden--visually\" id=\"sk-estimator-id-137\" type=\"checkbox\" checked><label for=\"sk-estimator-id-137\" class=\"sk-toggleable__label sk-toggleable__label-arrow\">MLPRegressor</label><div class=\"sk-toggleable__content\"><pre>MLPRegressor(alpha=0.1, hidden_layer_sizes=(200, 150, 50), max_iter=300)</pre></div></div></div></div></div>"
      ],
      "text/plain": [
       "MLPRegressor(alpha=0.1, hidden_layer_sizes=(200, 150, 50), max_iter=300)"
      ]
     },
     "execution_count": 399,
     "metadata": {},
     "output_type": "execute_result"
    }
   ],
   "source": [
    "dnn_reg2 = MLPRegressor(hidden_layer_sizes=(200,150,50),\n",
    "                       max_iter=300,\n",
    "                      alpha = 0.1)\n",
    "\n",
    "dnn_reg2.fit(train_x, train_target)"
   ]
  },
  {
   "cell_type": "code",
   "execution_count": 400,
   "metadata": {},
   "outputs": [
    {
     "data": {
      "text/plain": [
       "77972.63377662029"
      ]
     },
     "execution_count": 400,
     "metadata": {},
     "output_type": "execute_result"
    }
   ],
   "source": [
    "#Train RMSE\n",
    "train_pred = dnn_reg2.predict(train_x)\n",
    "\n",
    "train_mse = mean_squared_error(train_target, train_pred)\n",
    "\n",
    "NeuralNetwork2_train_rmse = np.sqrt(train_mse)\n",
    "\n",
    "NeuralNetwork2_train_rmse"
   ]
  },
  {
   "cell_type": "code",
   "execution_count": 401,
   "metadata": {},
   "outputs": [
    {
     "data": {
      "text/plain": [
       "138435.01976119648"
      ]
     },
     "execution_count": 401,
     "metadata": {},
     "output_type": "execute_result"
    }
   ],
   "source": [
    "#Test RMSE\n",
    "test_pred = dnn_reg2.predict(test_x)\n",
    "\n",
    "test_mse = mean_squared_error(test_target, test_pred)\n",
    "\n",
    "NeuralNetwork2_test_rmse = np.sqrt(test_mse)\n",
    "\n",
    "NeuralNetwork2_test_rmse"
   ]
  },
  {
   "cell_type": "markdown",
   "metadata": {},
   "source": [
    "## Grid search (1 points)\n",
    "\n",
    "Perform either a full or randomized grid search on any model you want. There has to be at least two parameters for the search. "
   ]
  },
  {
   "cell_type": "code",
   "execution_count": 402,
   "metadata": {},
   "outputs": [
    {
     "name": "stdout",
     "output_type": "stream",
     "text": [
      "Fitting 5 folds for each of 10 candidates, totalling 50 fits\n"
     ]
    },
    {
     "data": {
      "text/html": [
       "<style>#sk-container-id-67 {color: black;}#sk-container-id-67 pre{padding: 0;}#sk-container-id-67 div.sk-toggleable {background-color: white;}#sk-container-id-67 label.sk-toggleable__label {cursor: pointer;display: block;width: 100%;margin-bottom: 0;padding: 0.3em;box-sizing: border-box;text-align: center;}#sk-container-id-67 label.sk-toggleable__label-arrow:before {content: \"▸\";float: left;margin-right: 0.25em;color: #696969;}#sk-container-id-67 label.sk-toggleable__label-arrow:hover:before {color: black;}#sk-container-id-67 div.sk-estimator:hover label.sk-toggleable__label-arrow:before {color: black;}#sk-container-id-67 div.sk-toggleable__content {max-height: 0;max-width: 0;overflow: hidden;text-align: left;background-color: #f0f8ff;}#sk-container-id-67 div.sk-toggleable__content pre {margin: 0.2em;color: black;border-radius: 0.25em;background-color: #f0f8ff;}#sk-container-id-67 input.sk-toggleable__control:checked~div.sk-toggleable__content {max-height: 200px;max-width: 100%;overflow: auto;}#sk-container-id-67 input.sk-toggleable__control:checked~label.sk-toggleable__label-arrow:before {content: \"▾\";}#sk-container-id-67 div.sk-estimator input.sk-toggleable__control:checked~label.sk-toggleable__label {background-color: #d4ebff;}#sk-container-id-67 div.sk-label input.sk-toggleable__control:checked~label.sk-toggleable__label {background-color: #d4ebff;}#sk-container-id-67 input.sk-hidden--visually {border: 0;clip: rect(1px 1px 1px 1px);clip: rect(1px, 1px, 1px, 1px);height: 1px;margin: -1px;overflow: hidden;padding: 0;position: absolute;width: 1px;}#sk-container-id-67 div.sk-estimator {font-family: monospace;background-color: #f0f8ff;border: 1px dotted black;border-radius: 0.25em;box-sizing: border-box;margin-bottom: 0.5em;}#sk-container-id-67 div.sk-estimator:hover {background-color: #d4ebff;}#sk-container-id-67 div.sk-parallel-item::after {content: \"\";width: 100%;border-bottom: 1px solid gray;flex-grow: 1;}#sk-container-id-67 div.sk-label:hover label.sk-toggleable__label {background-color: #d4ebff;}#sk-container-id-67 div.sk-serial::before {content: \"\";position: absolute;border-left: 1px solid gray;box-sizing: border-box;top: 0;bottom: 0;left: 50%;z-index: 0;}#sk-container-id-67 div.sk-serial {display: flex;flex-direction: column;align-items: center;background-color: white;padding-right: 0.2em;padding-left: 0.2em;position: relative;}#sk-container-id-67 div.sk-item {position: relative;z-index: 1;}#sk-container-id-67 div.sk-parallel {display: flex;align-items: stretch;justify-content: center;background-color: white;position: relative;}#sk-container-id-67 div.sk-item::before, #sk-container-id-67 div.sk-parallel-item::before {content: \"\";position: absolute;border-left: 1px solid gray;box-sizing: border-box;top: 0;bottom: 0;left: 50%;z-index: -1;}#sk-container-id-67 div.sk-parallel-item {display: flex;flex-direction: column;z-index: 1;position: relative;background-color: white;}#sk-container-id-67 div.sk-parallel-item:first-child::after {align-self: flex-end;width: 50%;}#sk-container-id-67 div.sk-parallel-item:last-child::after {align-self: flex-start;width: 50%;}#sk-container-id-67 div.sk-parallel-item:only-child::after {width: 0;}#sk-container-id-67 div.sk-dashed-wrapped {border: 1px dashed gray;margin: 0 0.4em 0.5em 0.4em;box-sizing: border-box;padding-bottom: 0.4em;background-color: white;}#sk-container-id-67 div.sk-label label {font-family: monospace;font-weight: bold;display: inline-block;line-height: 1.2em;}#sk-container-id-67 div.sk-label-container {text-align: center;}#sk-container-id-67 div.sk-container {/* jupyter's `normalize.less` sets `[hidden] { display: none; }` but bootstrap.min.css set `[hidden] { display: none !important; }` so we also need the `!important` here to be able to override the default hidden behavior on the sphinx rendered scikit-learn.org. See: https://github.com/scikit-learn/scikit-learn/issues/21755 */display: inline-block !important;position: relative;}#sk-container-id-67 div.sk-text-repr-fallback {display: none;}</style><div id=\"sk-container-id-67\" class=\"sk-top-container\"><div class=\"sk-text-repr-fallback\"><pre>RandomizedSearchCV(cv=5, estimator=DecisionTreeRegressor(),\n",
       "                   param_distributions=[{&#x27;max_depth&#x27;: array([ 1,  2,  3,  4,  5,  6,  7,  8,  9, 10, 11, 12, 13, 14, 15, 16, 17,\n",
       "       18, 19, 20, 21, 22, 23, 24, 25, 26, 27, 28, 29]),\n",
       "                                         &#x27;min_samples_leaf&#x27;: array([ 1,  2,  3,  4,  5,  6,  7,  8,  9, 10, 11, 12, 13, 14, 15, 16, 17,\n",
       "       18, 19, 20, 21, 22, 23, 24, 25, 26, 27, 28, 29])}],\n",
       "                   return_train_score=True, scoring=&#x27;neg_mean_squared_error&#x27;,\n",
       "                   verbose=1)</pre><b>In a Jupyter environment, please rerun this cell to show the HTML representation or trust the notebook. <br />On GitHub, the HTML representation is unable to render, please try loading this page with nbviewer.org.</b></div><div class=\"sk-container\" hidden><div class=\"sk-item sk-dashed-wrapped\"><div class=\"sk-label-container\"><div class=\"sk-label sk-toggleable\"><input class=\"sk-toggleable__control sk-hidden--visually\" id=\"sk-estimator-id-138\" type=\"checkbox\" ><label for=\"sk-estimator-id-138\" class=\"sk-toggleable__label sk-toggleable__label-arrow\">RandomizedSearchCV</label><div class=\"sk-toggleable__content\"><pre>RandomizedSearchCV(cv=5, estimator=DecisionTreeRegressor(),\n",
       "                   param_distributions=[{&#x27;max_depth&#x27;: array([ 1,  2,  3,  4,  5,  6,  7,  8,  9, 10, 11, 12, 13, 14, 15, 16, 17,\n",
       "       18, 19, 20, 21, 22, 23, 24, 25, 26, 27, 28, 29]),\n",
       "                                         &#x27;min_samples_leaf&#x27;: array([ 1,  2,  3,  4,  5,  6,  7,  8,  9, 10, 11, 12, 13, 14, 15, 16, 17,\n",
       "       18, 19, 20, 21, 22, 23, 24, 25, 26, 27, 28, 29])}],\n",
       "                   return_train_score=True, scoring=&#x27;neg_mean_squared_error&#x27;,\n",
       "                   verbose=1)</pre></div></div></div><div class=\"sk-parallel\"><div class=\"sk-parallel-item\"><div class=\"sk-item\"><div class=\"sk-label-container\"><div class=\"sk-label sk-toggleable\"><input class=\"sk-toggleable__control sk-hidden--visually\" id=\"sk-estimator-id-139\" type=\"checkbox\" ><label for=\"sk-estimator-id-139\" class=\"sk-toggleable__label sk-toggleable__label-arrow\">estimator: DecisionTreeRegressor</label><div class=\"sk-toggleable__content\"><pre>DecisionTreeRegressor()</pre></div></div></div><div class=\"sk-serial\"><div class=\"sk-item\"><div class=\"sk-estimator sk-toggleable\"><input class=\"sk-toggleable__control sk-hidden--visually\" id=\"sk-estimator-id-140\" type=\"checkbox\" ><label for=\"sk-estimator-id-140\" class=\"sk-toggleable__label sk-toggleable__label-arrow\">DecisionTreeRegressor</label><div class=\"sk-toggleable__content\"><pre>DecisionTreeRegressor()</pre></div></div></div></div></div></div></div></div></div></div>"
      ],
      "text/plain": [
       "RandomizedSearchCV(cv=5, estimator=DecisionTreeRegressor(),\n",
       "                   param_distributions=[{'max_depth': array([ 1,  2,  3,  4,  5,  6,  7,  8,  9, 10, 11, 12, 13, 14, 15, 16, 17,\n",
       "       18, 19, 20, 21, 22, 23, 24, 25, 26, 27, 28, 29]),\n",
       "                                         'min_samples_leaf': array([ 1,  2,  3,  4,  5,  6,  7,  8,  9, 10, 11, 12, 13, 14, 15, 16, 17,\n",
       "       18, 19, 20, 21, 22, 23, 24, 25, 26, 27, 28, 29])}],\n",
       "                   return_train_score=True, scoring='neg_mean_squared_error',\n",
       "                   verbose=1)"
      ]
     },
     "execution_count": 402,
     "metadata": {},
     "output_type": "execute_result"
    }
   ],
   "source": [
    "from sklearn.model_selection import RandomizedSearchCV\n",
    "\n",
    "param_grid = [\n",
    "    {'min_samples_leaf': np.arange(1, 30), \n",
    "     'max_depth': np.arange(1,30)}\n",
    "  ]\n",
    "\n",
    "tree_reg3 = DecisionTreeRegressor()\n",
    "\n",
    "grid_search = RandomizedSearchCV(tree_reg3, param_grid, cv=5, n_iter=10,\n",
    "                           scoring='neg_mean_squared_error', verbose=1,\n",
    "                           return_train_score=True)\n",
    "\n",
    "grid_search.fit(train_x, train_target)"
   ]
  },
  {
   "cell_type": "code",
   "execution_count": 403,
   "metadata": {},
   "outputs": [
    {
     "name": "stdout",
     "output_type": "stream",
     "text": [
      "207041.30609171643 {'min_samples_leaf': 17, 'max_depth': 4}\n",
      "203094.69601948894 {'min_samples_leaf': 5, 'max_depth': 29}\n",
      "200742.89430241878 {'min_samples_leaf': 15, 'max_depth': 17}\n",
      "197847.9393160949 {'min_samples_leaf': 16, 'max_depth': 23}\n",
      "188600.28725505757 {'min_samples_leaf': 6, 'max_depth': 6}\n",
      "217788.5245908445 {'min_samples_leaf': 19, 'max_depth': 8}\n",
      "199284.04886470383 {'min_samples_leaf': 8, 'max_depth': 22}\n",
      "229128.8067284473 {'min_samples_leaf': 23, 'max_depth': 17}\n",
      "200760.96538039407 {'min_samples_leaf': 14, 'max_depth': 18}\n",
      "226618.64445791574 {'min_samples_leaf': 1, 'max_depth': 21}\n"
     ]
    }
   ],
   "source": [
    "cvres = grid_search.cv_results_\n",
    "\n",
    "for mean_score, params in zip(cvres[\"mean_test_score\"], cvres[\"params\"]):\n",
    "    print(np.sqrt(-mean_score), params)"
   ]
  },
  {
   "cell_type": "code",
   "execution_count": 404,
   "metadata": {},
   "outputs": [
    {
     "data": {
      "text/plain": [
       "{'min_samples_leaf': 6, 'max_depth': 6}"
      ]
     },
     "execution_count": 404,
     "metadata": {},
     "output_type": "execute_result"
    }
   ],
   "source": [
    "grid_search.best_params_"
   ]
  },
  {
   "cell_type": "code",
   "execution_count": 405,
   "metadata": {},
   "outputs": [
    {
     "data": {
      "text/html": [
       "<style>#sk-container-id-68 {color: black;}#sk-container-id-68 pre{padding: 0;}#sk-container-id-68 div.sk-toggleable {background-color: white;}#sk-container-id-68 label.sk-toggleable__label {cursor: pointer;display: block;width: 100%;margin-bottom: 0;padding: 0.3em;box-sizing: border-box;text-align: center;}#sk-container-id-68 label.sk-toggleable__label-arrow:before {content: \"▸\";float: left;margin-right: 0.25em;color: #696969;}#sk-container-id-68 label.sk-toggleable__label-arrow:hover:before {color: black;}#sk-container-id-68 div.sk-estimator:hover label.sk-toggleable__label-arrow:before {color: black;}#sk-container-id-68 div.sk-toggleable__content {max-height: 0;max-width: 0;overflow: hidden;text-align: left;background-color: #f0f8ff;}#sk-container-id-68 div.sk-toggleable__content pre {margin: 0.2em;color: black;border-radius: 0.25em;background-color: #f0f8ff;}#sk-container-id-68 input.sk-toggleable__control:checked~div.sk-toggleable__content {max-height: 200px;max-width: 100%;overflow: auto;}#sk-container-id-68 input.sk-toggleable__control:checked~label.sk-toggleable__label-arrow:before {content: \"▾\";}#sk-container-id-68 div.sk-estimator input.sk-toggleable__control:checked~label.sk-toggleable__label {background-color: #d4ebff;}#sk-container-id-68 div.sk-label input.sk-toggleable__control:checked~label.sk-toggleable__label {background-color: #d4ebff;}#sk-container-id-68 input.sk-hidden--visually {border: 0;clip: rect(1px 1px 1px 1px);clip: rect(1px, 1px, 1px, 1px);height: 1px;margin: -1px;overflow: hidden;padding: 0;position: absolute;width: 1px;}#sk-container-id-68 div.sk-estimator {font-family: monospace;background-color: #f0f8ff;border: 1px dotted black;border-radius: 0.25em;box-sizing: border-box;margin-bottom: 0.5em;}#sk-container-id-68 div.sk-estimator:hover {background-color: #d4ebff;}#sk-container-id-68 div.sk-parallel-item::after {content: \"\";width: 100%;border-bottom: 1px solid gray;flex-grow: 1;}#sk-container-id-68 div.sk-label:hover label.sk-toggleable__label {background-color: #d4ebff;}#sk-container-id-68 div.sk-serial::before {content: \"\";position: absolute;border-left: 1px solid gray;box-sizing: border-box;top: 0;bottom: 0;left: 50%;z-index: 0;}#sk-container-id-68 div.sk-serial {display: flex;flex-direction: column;align-items: center;background-color: white;padding-right: 0.2em;padding-left: 0.2em;position: relative;}#sk-container-id-68 div.sk-item {position: relative;z-index: 1;}#sk-container-id-68 div.sk-parallel {display: flex;align-items: stretch;justify-content: center;background-color: white;position: relative;}#sk-container-id-68 div.sk-item::before, #sk-container-id-68 div.sk-parallel-item::before {content: \"\";position: absolute;border-left: 1px solid gray;box-sizing: border-box;top: 0;bottom: 0;left: 50%;z-index: -1;}#sk-container-id-68 div.sk-parallel-item {display: flex;flex-direction: column;z-index: 1;position: relative;background-color: white;}#sk-container-id-68 div.sk-parallel-item:first-child::after {align-self: flex-end;width: 50%;}#sk-container-id-68 div.sk-parallel-item:last-child::after {align-self: flex-start;width: 50%;}#sk-container-id-68 div.sk-parallel-item:only-child::after {width: 0;}#sk-container-id-68 div.sk-dashed-wrapped {border: 1px dashed gray;margin: 0 0.4em 0.5em 0.4em;box-sizing: border-box;padding-bottom: 0.4em;background-color: white;}#sk-container-id-68 div.sk-label label {font-family: monospace;font-weight: bold;display: inline-block;line-height: 1.2em;}#sk-container-id-68 div.sk-label-container {text-align: center;}#sk-container-id-68 div.sk-container {/* jupyter's `normalize.less` sets `[hidden] { display: none; }` but bootstrap.min.css set `[hidden] { display: none !important; }` so we also need the `!important` here to be able to override the default hidden behavior on the sphinx rendered scikit-learn.org. See: https://github.com/scikit-learn/scikit-learn/issues/21755 */display: inline-block !important;position: relative;}#sk-container-id-68 div.sk-text-repr-fallback {display: none;}</style><div id=\"sk-container-id-68\" class=\"sk-top-container\"><div class=\"sk-text-repr-fallback\"><pre>DecisionTreeRegressor(max_depth=6, min_samples_leaf=6)</pre><b>In a Jupyter environment, please rerun this cell to show the HTML representation or trust the notebook. <br />On GitHub, the HTML representation is unable to render, please try loading this page with nbviewer.org.</b></div><div class=\"sk-container\" hidden><div class=\"sk-item\"><div class=\"sk-estimator sk-toggleable\"><input class=\"sk-toggleable__control sk-hidden--visually\" id=\"sk-estimator-id-141\" type=\"checkbox\" checked><label for=\"sk-estimator-id-141\" class=\"sk-toggleable__label sk-toggleable__label-arrow\">DecisionTreeRegressor</label><div class=\"sk-toggleable__content\"><pre>DecisionTreeRegressor(max_depth=6, min_samples_leaf=6)</pre></div></div></div></div></div>"
      ],
      "text/plain": [
       "DecisionTreeRegressor(max_depth=6, min_samples_leaf=6)"
      ]
     },
     "execution_count": 405,
     "metadata": {},
     "output_type": "execute_result"
    }
   ],
   "source": [
    "grid_search.best_estimator_"
   ]
  },
  {
   "cell_type": "code",
   "execution_count": 406,
   "metadata": {},
   "outputs": [
    {
     "data": {
      "text/plain": [
       "104572.29170581736"
      ]
     },
     "execution_count": 406,
     "metadata": {},
     "output_type": "execute_result"
    }
   ],
   "source": [
    "#Train RMSE\n",
    "train_pred = grid_search.best_estimator_.predict(train_x)\n",
    "\n",
    "train_mse = mean_squared_error(train_target, train_pred)\n",
    "\n",
    "Grid_DecisionTreeRegressor1_train_rmse = np.sqrt(train_mse)\n",
    "\n",
    "Grid_DecisionTreeRegressor1_train_rmse"
   ]
  },
  {
   "cell_type": "code",
   "execution_count": 407,
   "metadata": {},
   "outputs": [
    {
     "data": {
      "text/plain": [
       "172234.41566208538"
      ]
     },
     "execution_count": 407,
     "metadata": {},
     "output_type": "execute_result"
    }
   ],
   "source": [
    "#Test RMSE\n",
    "test_pred = grid_search.best_estimator_.predict(test_x)\n",
    "\n",
    "test_mse = mean_squared_error(test_target, test_pred)\n",
    "\n",
    "Grid_DecisionTreeRegressor1_test_rmse = np.sqrt(test_mse)\n",
    "\n",
    "Grid_DecisionTreeRegressor1_test_rmse"
   ]
  },
  {
   "cell_type": "markdown",
   "metadata": {},
   "source": [
    "### Is the model overfitting? Provide your answer below. If yes, please add more cells below and show how you corrected overfitting. If your model is overfitting and you don't correct it, you will lose points. (0.25 points)"
   ]
  },
  {
   "cell_type": "markdown",
   "metadata": {},
   "source": [
    "As there is huge difference between train and test RMSE score, the model is severely overfitting. For that, below we have changed the range of min_samples_leaf and max_depth to (1, 20) and (1,10) respectively. Now the difference in rmse scores has drastically reduced and overfitting problem has been addressed"
   ]
  },
  {
   "cell_type": "code",
   "execution_count": 408,
   "metadata": {},
   "outputs": [
    {
     "name": "stdout",
     "output_type": "stream",
     "text": [
      "Fitting 5 folds for each of 10 candidates, totalling 50 fits\n"
     ]
    },
    {
     "data": {
      "text/html": [
       "<style>#sk-container-id-69 {color: black;}#sk-container-id-69 pre{padding: 0;}#sk-container-id-69 div.sk-toggleable {background-color: white;}#sk-container-id-69 label.sk-toggleable__label {cursor: pointer;display: block;width: 100%;margin-bottom: 0;padding: 0.3em;box-sizing: border-box;text-align: center;}#sk-container-id-69 label.sk-toggleable__label-arrow:before {content: \"▸\";float: left;margin-right: 0.25em;color: #696969;}#sk-container-id-69 label.sk-toggleable__label-arrow:hover:before {color: black;}#sk-container-id-69 div.sk-estimator:hover label.sk-toggleable__label-arrow:before {color: black;}#sk-container-id-69 div.sk-toggleable__content {max-height: 0;max-width: 0;overflow: hidden;text-align: left;background-color: #f0f8ff;}#sk-container-id-69 div.sk-toggleable__content pre {margin: 0.2em;color: black;border-radius: 0.25em;background-color: #f0f8ff;}#sk-container-id-69 input.sk-toggleable__control:checked~div.sk-toggleable__content {max-height: 200px;max-width: 100%;overflow: auto;}#sk-container-id-69 input.sk-toggleable__control:checked~label.sk-toggleable__label-arrow:before {content: \"▾\";}#sk-container-id-69 div.sk-estimator input.sk-toggleable__control:checked~label.sk-toggleable__label {background-color: #d4ebff;}#sk-container-id-69 div.sk-label input.sk-toggleable__control:checked~label.sk-toggleable__label {background-color: #d4ebff;}#sk-container-id-69 input.sk-hidden--visually {border: 0;clip: rect(1px 1px 1px 1px);clip: rect(1px, 1px, 1px, 1px);height: 1px;margin: -1px;overflow: hidden;padding: 0;position: absolute;width: 1px;}#sk-container-id-69 div.sk-estimator {font-family: monospace;background-color: #f0f8ff;border: 1px dotted black;border-radius: 0.25em;box-sizing: border-box;margin-bottom: 0.5em;}#sk-container-id-69 div.sk-estimator:hover {background-color: #d4ebff;}#sk-container-id-69 div.sk-parallel-item::after {content: \"\";width: 100%;border-bottom: 1px solid gray;flex-grow: 1;}#sk-container-id-69 div.sk-label:hover label.sk-toggleable__label {background-color: #d4ebff;}#sk-container-id-69 div.sk-serial::before {content: \"\";position: absolute;border-left: 1px solid gray;box-sizing: border-box;top: 0;bottom: 0;left: 50%;z-index: 0;}#sk-container-id-69 div.sk-serial {display: flex;flex-direction: column;align-items: center;background-color: white;padding-right: 0.2em;padding-left: 0.2em;position: relative;}#sk-container-id-69 div.sk-item {position: relative;z-index: 1;}#sk-container-id-69 div.sk-parallel {display: flex;align-items: stretch;justify-content: center;background-color: white;position: relative;}#sk-container-id-69 div.sk-item::before, #sk-container-id-69 div.sk-parallel-item::before {content: \"\";position: absolute;border-left: 1px solid gray;box-sizing: border-box;top: 0;bottom: 0;left: 50%;z-index: -1;}#sk-container-id-69 div.sk-parallel-item {display: flex;flex-direction: column;z-index: 1;position: relative;background-color: white;}#sk-container-id-69 div.sk-parallel-item:first-child::after {align-self: flex-end;width: 50%;}#sk-container-id-69 div.sk-parallel-item:last-child::after {align-self: flex-start;width: 50%;}#sk-container-id-69 div.sk-parallel-item:only-child::after {width: 0;}#sk-container-id-69 div.sk-dashed-wrapped {border: 1px dashed gray;margin: 0 0.4em 0.5em 0.4em;box-sizing: border-box;padding-bottom: 0.4em;background-color: white;}#sk-container-id-69 div.sk-label label {font-family: monospace;font-weight: bold;display: inline-block;line-height: 1.2em;}#sk-container-id-69 div.sk-label-container {text-align: center;}#sk-container-id-69 div.sk-container {/* jupyter's `normalize.less` sets `[hidden] { display: none; }` but bootstrap.min.css set `[hidden] { display: none !important; }` so we also need the `!important` here to be able to override the default hidden behavior on the sphinx rendered scikit-learn.org. See: https://github.com/scikit-learn/scikit-learn/issues/21755 */display: inline-block !important;position: relative;}#sk-container-id-69 div.sk-text-repr-fallback {display: none;}</style><div id=\"sk-container-id-69\" class=\"sk-top-container\"><div class=\"sk-text-repr-fallback\"><pre>RandomizedSearchCV(cv=5, estimator=DecisionTreeRegressor(),\n",
       "                   param_distributions=[{&#x27;max_depth&#x27;: array([1, 2, 3, 4, 5, 6, 7, 8, 9]),\n",
       "                                         &#x27;min_samples_leaf&#x27;: array([ 1,  2,  3,  4,  5,  6,  7,  8,  9, 10, 11, 12, 13, 14, 15, 16, 17,\n",
       "       18, 19])}],\n",
       "                   return_train_score=True, scoring=&#x27;neg_mean_squared_error&#x27;,\n",
       "                   verbose=1)</pre><b>In a Jupyter environment, please rerun this cell to show the HTML representation or trust the notebook. <br />On GitHub, the HTML representation is unable to render, please try loading this page with nbviewer.org.</b></div><div class=\"sk-container\" hidden><div class=\"sk-item sk-dashed-wrapped\"><div class=\"sk-label-container\"><div class=\"sk-label sk-toggleable\"><input class=\"sk-toggleable__control sk-hidden--visually\" id=\"sk-estimator-id-142\" type=\"checkbox\" ><label for=\"sk-estimator-id-142\" class=\"sk-toggleable__label sk-toggleable__label-arrow\">RandomizedSearchCV</label><div class=\"sk-toggleable__content\"><pre>RandomizedSearchCV(cv=5, estimator=DecisionTreeRegressor(),\n",
       "                   param_distributions=[{&#x27;max_depth&#x27;: array([1, 2, 3, 4, 5, 6, 7, 8, 9]),\n",
       "                                         &#x27;min_samples_leaf&#x27;: array([ 1,  2,  3,  4,  5,  6,  7,  8,  9, 10, 11, 12, 13, 14, 15, 16, 17,\n",
       "       18, 19])}],\n",
       "                   return_train_score=True, scoring=&#x27;neg_mean_squared_error&#x27;,\n",
       "                   verbose=1)</pre></div></div></div><div class=\"sk-parallel\"><div class=\"sk-parallel-item\"><div class=\"sk-item\"><div class=\"sk-label-container\"><div class=\"sk-label sk-toggleable\"><input class=\"sk-toggleable__control sk-hidden--visually\" id=\"sk-estimator-id-143\" type=\"checkbox\" ><label for=\"sk-estimator-id-143\" class=\"sk-toggleable__label sk-toggleable__label-arrow\">estimator: DecisionTreeRegressor</label><div class=\"sk-toggleable__content\"><pre>DecisionTreeRegressor()</pre></div></div></div><div class=\"sk-serial\"><div class=\"sk-item\"><div class=\"sk-estimator sk-toggleable\"><input class=\"sk-toggleable__control sk-hidden--visually\" id=\"sk-estimator-id-144\" type=\"checkbox\" ><label for=\"sk-estimator-id-144\" class=\"sk-toggleable__label sk-toggleable__label-arrow\">DecisionTreeRegressor</label><div class=\"sk-toggleable__content\"><pre>DecisionTreeRegressor()</pre></div></div></div></div></div></div></div></div></div></div>"
      ],
      "text/plain": [
       "RandomizedSearchCV(cv=5, estimator=DecisionTreeRegressor(),\n",
       "                   param_distributions=[{'max_depth': array([1, 2, 3, 4, 5, 6, 7, 8, 9]),\n",
       "                                         'min_samples_leaf': array([ 1,  2,  3,  4,  5,  6,  7,  8,  9, 10, 11, 12, 13, 14, 15, 16, 17,\n",
       "       18, 19])}],\n",
       "                   return_train_score=True, scoring='neg_mean_squared_error',\n",
       "                   verbose=1)"
      ]
     },
     "execution_count": 408,
     "metadata": {},
     "output_type": "execute_result"
    }
   ],
   "source": [
    "from sklearn.model_selection import RandomizedSearchCV\n",
    "\n",
    "param_grid = [\n",
    "    {'min_samples_leaf': np.arange(1, 20), \n",
    "     'max_depth': np.arange(1,10)}\n",
    "  ]\n",
    "\n",
    "tree_reg4 = DecisionTreeRegressor()\n",
    "\n",
    "grid_search = RandomizedSearchCV(tree_reg3, param_grid, cv=5, n_iter=10,\n",
    "                           scoring='neg_mean_squared_error', verbose=1,\n",
    "                           return_train_score=True)\n",
    "\n",
    "grid_search.fit(train_x, train_target)"
   ]
  },
  {
   "cell_type": "code",
   "execution_count": 409,
   "metadata": {},
   "outputs": [
    {
     "name": "stdout",
     "output_type": "stream",
     "text": [
      "243546.93401239315 {'min_samples_leaf': 1, 'max_depth': 6}\n",
      "200464.4360281826 {'min_samples_leaf': 7, 'max_depth': 7}\n",
      "201718.80398561634 {'min_samples_leaf': 8, 'max_depth': 7}\n",
      "195244.4804982623 {'min_samples_leaf': 13, 'max_depth': 8}\n",
      "200114.50544511824 {'min_samples_leaf': 15, 'max_depth': 6}\n",
      "209696.01647235322 {'min_samples_leaf': 17, 'max_depth': 8}\n",
      "241214.31383922443 {'min_samples_leaf': 1, 'max_depth': 8}\n",
      "209377.21252121232 {'min_samples_leaf': 17, 'max_depth': 6}\n",
      "201369.77291467256 {'min_samples_leaf': 11, 'max_depth': 9}\n",
      "197840.5127406712 {'min_samples_leaf': 10, 'max_depth': 4}\n"
     ]
    }
   ],
   "source": [
    "cvres = grid_search.cv_results_\n",
    "\n",
    "for mean_score, params in zip(cvres[\"mean_test_score\"], cvres[\"params\"]):\n",
    "    print(np.sqrt(-mean_score), params)"
   ]
  },
  {
   "cell_type": "code",
   "execution_count": 410,
   "metadata": {},
   "outputs": [
    {
     "data": {
      "text/plain": [
       "{'min_samples_leaf': 13, 'max_depth': 8}"
      ]
     },
     "execution_count": 410,
     "metadata": {},
     "output_type": "execute_result"
    }
   ],
   "source": [
    "grid_search.best_params_"
   ]
  },
  {
   "cell_type": "code",
   "execution_count": 411,
   "metadata": {},
   "outputs": [
    {
     "data": {
      "text/html": [
       "<style>#sk-container-id-70 {color: black;}#sk-container-id-70 pre{padding: 0;}#sk-container-id-70 div.sk-toggleable {background-color: white;}#sk-container-id-70 label.sk-toggleable__label {cursor: pointer;display: block;width: 100%;margin-bottom: 0;padding: 0.3em;box-sizing: border-box;text-align: center;}#sk-container-id-70 label.sk-toggleable__label-arrow:before {content: \"▸\";float: left;margin-right: 0.25em;color: #696969;}#sk-container-id-70 label.sk-toggleable__label-arrow:hover:before {color: black;}#sk-container-id-70 div.sk-estimator:hover label.sk-toggleable__label-arrow:before {color: black;}#sk-container-id-70 div.sk-toggleable__content {max-height: 0;max-width: 0;overflow: hidden;text-align: left;background-color: #f0f8ff;}#sk-container-id-70 div.sk-toggleable__content pre {margin: 0.2em;color: black;border-radius: 0.25em;background-color: #f0f8ff;}#sk-container-id-70 input.sk-toggleable__control:checked~div.sk-toggleable__content {max-height: 200px;max-width: 100%;overflow: auto;}#sk-container-id-70 input.sk-toggleable__control:checked~label.sk-toggleable__label-arrow:before {content: \"▾\";}#sk-container-id-70 div.sk-estimator input.sk-toggleable__control:checked~label.sk-toggleable__label {background-color: #d4ebff;}#sk-container-id-70 div.sk-label input.sk-toggleable__control:checked~label.sk-toggleable__label {background-color: #d4ebff;}#sk-container-id-70 input.sk-hidden--visually {border: 0;clip: rect(1px 1px 1px 1px);clip: rect(1px, 1px, 1px, 1px);height: 1px;margin: -1px;overflow: hidden;padding: 0;position: absolute;width: 1px;}#sk-container-id-70 div.sk-estimator {font-family: monospace;background-color: #f0f8ff;border: 1px dotted black;border-radius: 0.25em;box-sizing: border-box;margin-bottom: 0.5em;}#sk-container-id-70 div.sk-estimator:hover {background-color: #d4ebff;}#sk-container-id-70 div.sk-parallel-item::after {content: \"\";width: 100%;border-bottom: 1px solid gray;flex-grow: 1;}#sk-container-id-70 div.sk-label:hover label.sk-toggleable__label {background-color: #d4ebff;}#sk-container-id-70 div.sk-serial::before {content: \"\";position: absolute;border-left: 1px solid gray;box-sizing: border-box;top: 0;bottom: 0;left: 50%;z-index: 0;}#sk-container-id-70 div.sk-serial {display: flex;flex-direction: column;align-items: center;background-color: white;padding-right: 0.2em;padding-left: 0.2em;position: relative;}#sk-container-id-70 div.sk-item {position: relative;z-index: 1;}#sk-container-id-70 div.sk-parallel {display: flex;align-items: stretch;justify-content: center;background-color: white;position: relative;}#sk-container-id-70 div.sk-item::before, #sk-container-id-70 div.sk-parallel-item::before {content: \"\";position: absolute;border-left: 1px solid gray;box-sizing: border-box;top: 0;bottom: 0;left: 50%;z-index: -1;}#sk-container-id-70 div.sk-parallel-item {display: flex;flex-direction: column;z-index: 1;position: relative;background-color: white;}#sk-container-id-70 div.sk-parallel-item:first-child::after {align-self: flex-end;width: 50%;}#sk-container-id-70 div.sk-parallel-item:last-child::after {align-self: flex-start;width: 50%;}#sk-container-id-70 div.sk-parallel-item:only-child::after {width: 0;}#sk-container-id-70 div.sk-dashed-wrapped {border: 1px dashed gray;margin: 0 0.4em 0.5em 0.4em;box-sizing: border-box;padding-bottom: 0.4em;background-color: white;}#sk-container-id-70 div.sk-label label {font-family: monospace;font-weight: bold;display: inline-block;line-height: 1.2em;}#sk-container-id-70 div.sk-label-container {text-align: center;}#sk-container-id-70 div.sk-container {/* jupyter's `normalize.less` sets `[hidden] { display: none; }` but bootstrap.min.css set `[hidden] { display: none !important; }` so we also need the `!important` here to be able to override the default hidden behavior on the sphinx rendered scikit-learn.org. See: https://github.com/scikit-learn/scikit-learn/issues/21755 */display: inline-block !important;position: relative;}#sk-container-id-70 div.sk-text-repr-fallback {display: none;}</style><div id=\"sk-container-id-70\" class=\"sk-top-container\"><div class=\"sk-text-repr-fallback\"><pre>DecisionTreeRegressor(max_depth=8, min_samples_leaf=13)</pre><b>In a Jupyter environment, please rerun this cell to show the HTML representation or trust the notebook. <br />On GitHub, the HTML representation is unable to render, please try loading this page with nbviewer.org.</b></div><div class=\"sk-container\" hidden><div class=\"sk-item\"><div class=\"sk-estimator sk-toggleable\"><input class=\"sk-toggleable__control sk-hidden--visually\" id=\"sk-estimator-id-145\" type=\"checkbox\" checked><label for=\"sk-estimator-id-145\" class=\"sk-toggleable__label sk-toggleable__label-arrow\">DecisionTreeRegressor</label><div class=\"sk-toggleable__content\"><pre>DecisionTreeRegressor(max_depth=8, min_samples_leaf=13)</pre></div></div></div></div></div>"
      ],
      "text/plain": [
       "DecisionTreeRegressor(max_depth=8, min_samples_leaf=13)"
      ]
     },
     "execution_count": 411,
     "metadata": {},
     "output_type": "execute_result"
    }
   ],
   "source": [
    "grid_search.best_estimator_"
   ]
  },
  {
   "cell_type": "code",
   "execution_count": 412,
   "metadata": {},
   "outputs": [
    {
     "data": {
      "text/plain": [
       "144918.04682044464"
      ]
     },
     "execution_count": 412,
     "metadata": {},
     "output_type": "execute_result"
    }
   ],
   "source": [
    "#Train RMSE\n",
    "train_pred = grid_search.best_estimator_.predict(train_x)\n",
    "\n",
    "train_mse = mean_squared_error(train_target, train_pred)\n",
    "\n",
    "Grid_DecisionTreeRegressor2_train_rmse = np.sqrt(train_mse)\n",
    "\n",
    "Grid_DecisionTreeRegressor2_train_rmse"
   ]
  },
  {
   "cell_type": "code",
   "execution_count": 413,
   "metadata": {},
   "outputs": [
    {
     "data": {
      "text/plain": [
       "156556.51174984017"
      ]
     },
     "execution_count": 413,
     "metadata": {},
     "output_type": "execute_result"
    }
   ],
   "source": [
    "#Test RMSE\n",
    "test_pred = grid_search.best_estimator_.predict(test_x)\n",
    "\n",
    "test_mse = mean_squared_error(test_target, test_pred)\n",
    "\n",
    "Grid_DecisionTreeRegressor2_test_rmse = np.sqrt(test_mse)\n",
    "\n",
    "Grid_DecisionTreeRegressor2_test_rmse"
   ]
  },
  {
   "cell_type": "markdown",
   "metadata": {},
   "source": [
    "# Discussion (3 points in total)\n"
   ]
  },
  {
   "cell_type": "markdown",
   "metadata": {},
   "source": [
    "## List the train and test values of each model you built (1 points)"
   ]
  },
  {
   "cell_type": "code",
   "execution_count": 414,
   "metadata": {},
   "outputs": [
    {
     "name": "stdout",
     "output_type": "stream",
     "text": [
      "Baseline Train RMSE: 339533.22389087797\n",
      "Baseline Test RMSE: 302873.3517635203\n",
      "DecisionTreeRegressor1 Train RMSE: 51143.196775548044\n",
      "DecisionTreeRegressor1 Test RMSE: 192071.8070826128\n",
      "DecisionTreeRegressor2 Train RMSE: 140599.10282972024\n",
      "DecisionTreeRegressor2 Test RMSE: 149792.0991959123\n",
      "Voting_Reg1 Train RMSE: 176376.94981959878\n",
      "Voting_Reg1 Test RMSE: 187832.4337790554\n",
      "Voting_Reg2 Train RMSE: 153662.2997034617\n",
      "Voting_Reg2 Test RMSE: 170142.5446302153\n",
      "AdaBoostRegressor1 Train RMSE: 24203.038529309317\n",
      "AdaBoostRegressor1 Test RMSE: 134816.8122930852\n",
      "AdaBoostRegressor2 Train RMSE: 87275.41959164955\n",
      "AdaBoostRegressor2 Test RMSE: 138376.90238825048\n",
      "NeuralNetwork1 Train RMSE: 3876.3225335394986\n",
      "NeuralNetwork1 Test RMSE: 156974.3884566234\n",
      "NeuralNetwork2 Train RMSE: 77972.63377662029\n",
      "NeuralNetwork2 Test RMSE: 138435.01976119648\n",
      "Grid_DecisionTreeRegressor1 Train RMSE: 104572.29170581736\n",
      "Grid_DecisionTreeRegressor1 Test RMSE: 172234.41566208538\n",
      "Grid_DecisionTreeRegressor2 Train RMSE: 144918.04682044464\n",
      "Grid_DecisionTreeRegressor2 Test RMSE: 156556.51174984017\n"
     ]
    }
   ],
   "source": [
    "print('Baseline Train RMSE: {}' .format(baseline_train_rmse))\n",
    "print('Baseline Test RMSE: {}' .format(baseline_test_rmse))\n",
    "print('DecisionTreeRegressor1 Train RMSE: {}' .format(DecisionTreeRegressor1_train_rmse))\n",
    "print('DecisionTreeRegressor1 Test RMSE: {}' .format(DecisionTreeRegressor1_test_rmse))\n",
    "print('DecisionTreeRegressor2 Train RMSE: {}' .format(DecisionTreeRegressor2_train_rmse))\n",
    "print('DecisionTreeRegressor2 Test RMSE: {}' .format(DecisionTreeRegressor2_test_rmse))\n",
    "print('Voting_Reg1 Train RMSE: {}' .format(Voting_Reg1_train_rmse))\n",
    "print('Voting_Reg1 Test RMSE: {}' .format(Voting_Reg1_test_rmse))\n",
    "print('Voting_Reg2 Train RMSE: {}' .format(voting_Reg2_train_rmse))\n",
    "print('Voting_Reg2 Test RMSE: {}' .format(voting_Reg2_test_rmse))\n",
    "print('AdaBoostRegressor1 Train RMSE: {}' .format(AdaBoostRegressor1_train_rmse))\n",
    "print('AdaBoostRegressor1 Test RMSE: {}' .format(AdaBoostRegressor1_test_rmse))\n",
    "print('AdaBoostRegressor2 Train RMSE: {}' .format(AdaBoostRegressor2_train_rmse))\n",
    "print('AdaBoostRegressor2 Test RMSE: {}' .format(AdaBoostRegressor2_test_rmse))\n",
    "print('NeuralNetwork1 Train RMSE: {}' .format(NeuralNetwork1_train_rmse))\n",
    "print('NeuralNetwork1 Test RMSE: {}' .format(NeuralNetwork1_test_rmse))\n",
    "print('NeuralNetwork2 Train RMSE: {}' .format(NeuralNetwork2_train_rmse))\n",
    "print('NeuralNetwork2 Test RMSE: {}' .format(NeuralNetwork2_test_rmse))\n",
    "print('Grid_DecisionTreeRegressor1 Train RMSE: {}' .format(Grid_DecisionTreeRegressor1_train_rmse))\n",
    "print('Grid_DecisionTreeRegressor1 Test RMSE: {}' .format(Grid_DecisionTreeRegressor1_test_rmse))\n",
    "print('Grid_DecisionTreeRegressor2 Train RMSE: {}' .format(Grid_DecisionTreeRegressor2_train_rmse))\n",
    "print('Grid_DecisionTreeRegressor2 Test RMSE: {}' .format(Grid_DecisionTreeRegressor2_test_rmse))"
   ]
  },
  {
   "cell_type": "markdown",
   "metadata": {},
   "source": [
    "## Which model performs the best and why? (1 points) \n",
    "\n",
    "Hint: The best model is the one that has the best TEST value (regardless of any of the training values). If you select your model based on TRAIN values, you will lose points."
   ]
  },
  {
   "cell_type": "raw",
   "metadata": {},
   "source": [
    "AdaBoost Regressor1 performs better than all the other models because it has the lowest TEST Root Mean Squared Error (RMSE) score. When we compare with its train rmse score, it is overfitted and we assume it may be due to data skewness.  "
   ]
  },
  {
   "cell_type": "markdown",
   "metadata": {},
   "source": [
    "## How does it compare to baseline? (1 points)"
   ]
  },
  {
   "cell_type": "raw",
   "metadata": {},
   "source": [
    "The AdaBoost Regressor1 model performs much better than the base line model as the test RMSE score of AdaBoost Regressor1 is much lower than the base line test rmse score. Where AdaBoost Regressor1 test rmse score is 134816.81 and base line model test rmse score is 302873.35, which clearly shows the huge difference in both the RMSE scores."
   ]
  }
 ],
 "metadata": {
  "kernelspec": {
   "display_name": "Python 3 (ipykernel)",
   "language": "python",
   "name": "python3"
  },
  "language_info": {
   "codemirror_mode": {
    "name": "ipython",
    "version": 3
   },
   "file_extension": ".py",
   "mimetype": "text/x-python",
   "name": "python",
   "nbconvert_exporter": "python",
   "pygments_lexer": "ipython3",
   "version": "3.11.4"
  },
  "toc": {
   "base_numbering": 1,
   "nav_menu": {},
   "number_sections": false,
   "sideBar": true,
   "skip_h1_title": false,
   "title_cell": "Table of Contents",
   "title_sidebar": "Contents",
   "toc_cell": false,
   "toc_position": {},
   "toc_section_display": true,
   "toc_window_display": false
  },
  "varInspector": {
   "cols": {
    "lenName": 16,
    "lenType": 16,
    "lenVar": 40
   },
   "kernels_config": {
    "python": {
     "delete_cmd_postfix": "",
     "delete_cmd_prefix": "del ",
     "library": "var_list.py",
     "varRefreshCmd": "print(var_dic_list())"
    },
    "r": {
     "delete_cmd_postfix": ") ",
     "delete_cmd_prefix": "rm(",
     "library": "var_list.r",
     "varRefreshCmd": "cat(var_dic_list()) "
    }
   },
   "types_to_exclude": [
    "module",
    "function",
    "builtin_function_or_method",
    "instance",
    "_Feature"
   ],
   "window_display": false
  }
 },
 "nbformat": 4,
 "nbformat_minor": 2
}
